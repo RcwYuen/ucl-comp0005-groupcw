{
 "cells": [
  {
   "cell_type": "markdown",
   "metadata": {},
   "source": [
    "# Jarvis march algorithm"
   ]
  },
  {
   "cell_type": "markdown",
   "metadata": {},
   "source": [
    "Use the cell below for all python code needed to realise the Jarvis march algorithm (including any auxiliary data structures and functions you might need). The `jarvismarch()` function itself should take as input parameter a list of 2D points (`inputSet`), and return the subset of such points (`outputSet`) that lie on the convex hull."
   ]
  },
  {
   "cell_type": "code",
   "execution_count": 1,
   "metadata": {},
   "outputs": [],
   "source": [
    "def jarvismarch(inputSet):\n",
    "    \n",
    "    numOfCoordinates = len(inputSet)\n",
    "    \n",
    "    # There must be at least 3 points for a convex hull\n",
    "    if numOfCoordinates <= 2:\n",
    "        return inputSet\n",
    "    \n",
    "    # Find top left coordinate\n",
    "    leftPoint = leftMostPoint(inputSet)\n",
    "        \n",
    "    hull = counterclockwiseSearch(leftPoint, numOfCoordinates, inputSet)\n",
    "        \n",
    "    outputSet = []\n",
    "    for coordinate in hull:\n",
    "        outputSet.append((inputSet[coordinate][0], inputSet[coordinate][1]))\n",
    "    \n",
    "    return outputSet\n",
    "    \n",
    "def counterclockwiseSearch(leftPoint, numOfCoordinates, inputSet):\n",
    "    \n",
    "    p = leftPoint\n",
    "    q = 0\n",
    "    hull = []\n",
    "    \n",
    "    # Start from top left coordinate and move counterclockwise until all points have been looped.     \n",
    "    while(True):\n",
    "        \n",
    "        hull.append(p) \n",
    "        \n",
    "        q = (p + 1) % numOfCoordinates\n",
    "        \n",
    "        for i in range(numOfCoordinates):\n",
    "            if (orientation(inputSet[p], inputSet[i], inputSet[q]) == 2):\n",
    "                q = i\n",
    "        p = q\n",
    "\n",
    "        # Once you have looped all coordinates and p is now back at the left most point break out of the loop\n",
    "        if (p == leftPoint):\n",
    "            break\n",
    "            \n",
    "    return hull\n",
    "\n",
    "def leftMostPoint(points):\n",
    "    # Start off by finding the top left coordinate\n",
    "    \n",
    "    x_val = min([x[0] for x in points])\n",
    "\n",
    "    minn = 0 \n",
    "    for i in range(len(points)):\n",
    "        if (points[i][0] == x_val) & (points[i][1] >= minn):\n",
    "            minn = points[i][1]\n",
    "            index = i\n",
    "            \n",
    "    return index\n",
    "\n",
    "def orientation(x,y,z):   \n",
    "    # Find the corientation of a triplet. 0 returns colinear, 1 return clockwise, 2 returns counterclockwise\n",
    "    \n",
    "    orientationVal = (y[1] - x[1]) * (z[0] - y[0]) - (y[0] - x[0]) * (z[1] - y[1])\n",
    "    \n",
    "    if orientationVal == 0:\n",
    "        return 0\n",
    "    elif orientationVal > 0:\n",
    "        return 1\n",
    "    else:\n",
    "        return 2"
   ]
  },
  {
   "cell_type": "markdown",
   "metadata": {},
   "source": [
    "Use the cell below for all python code needed to generate test data points (both random and those representing worst-case scenario)."
   ]
  },
  {
   "cell_type": "code",
   "execution_count": 2,
   "metadata": {},
   "outputs": [],
   "source": [
    "import random\n",
    "\n",
    "#code for random data generation\n",
    "def randomDataGeneration(numberOfPoints):\n",
    "     return [(random.randrange(0, 32767), random.randrange(0, 32767)) for i in range(numberOfPoints)]\n",
    "\n",
    "# Code for worst case data generation\n",
    "def worstCaseDataGeneration(numberOfPoints): \n",
    "    # Worst case sceanrio is when all pooints lie on the convex hull \n",
    "    numberOfPoints = numberOfPoints/2\n",
    "    \n",
    "    inputSet = []\n",
    "    x = 0\n",
    "    y = 0\n",
    "    while y < numberOfPoints:\n",
    "        while x < numberOfPoints:\n",
    "            inputSet.append((x,y))\n",
    "            x += 1\n",
    "        inputSet.append((x,y))\n",
    "        y += 1\n",
    "        \n",
    "    return inputSet\n"
   ]
  },
  {
   "cell_type": "markdown",
   "metadata": {},
   "source": [
    "Use the cell below for all python code needed to test the `jarvismarch()` function on the data generated above."
   ]
  },
  {
   "cell_type": "code",
   "execution_count": 3,
   "metadata": {},
   "outputs": [
    {
     "data": {
      "text/plain": [
       "[0.004395578000000011,\n",
       " 0.11536224300000009,\n",
       " 0.4948481330000001,\n",
       " 12.304288537000001,\n",
       " 49.437139466,\n",
       " 108.69972062100001,\n",
       " 198.22647205500002]"
      ]
     },
     "execution_count": 3,
     "metadata": {},
     "output_type": "execute_result"
    }
   ],
   "source": [
    "import timeit\n",
    "\n",
    "N = [100, 500, 1000, 5000, 10000, 15000,20000]\n",
    "\n",
    "def randomDataTimeAnaysis():\n",
    "    timeTaken = []\n",
    "\n",
    "    for i in N:\n",
    "        inputSet = randomDataGeneration(i)\n",
    "        time = (timeit.timeit(lambda: jarvismarch(inputSet), number = 1))\n",
    "        timeTaken.append(time)\n",
    "        \n",
    "    return timeTaken\n",
    "\n",
    "def worstCaseDataAnaysis():\n",
    "    timeTaken = []\n",
    "    \n",
    "    for i in N:\n",
    "        inputSet = worstCaseDataGeneration(i)\n",
    "        time = (timeit.timeit(lambda: jarvismarch(inputSet), number = 1))\n",
    "        timeTaken.append(time)\n",
    "        \n",
    "    return timeTaken\n",
    "\n",
    "randomDataTimeAnaysis()\n",
    "worstCaseDataAnaysis()"
   ]
  },
  {
   "cell_type": "markdown",
   "metadata": {},
   "source": [
    "*Optional*: Feel free to use the code below on small datasets (e.g., N = 10) to visually inspect whether the algorithm has been implemented correctly. The fragment below assumes both `inputSet` and `outputSet` to be lists of 2D points, with each point being a list of 2 elements (e.g., `[[x1,y1], [x2,y2], ..., [x_k,y_k]]`)"
   ]
  },
  {
   "cell_type": "code",
   "execution_count": 8,
   "metadata": {},
   "outputs": [],
   "source": [
    "inputSet = randomDataGeneration(100)\n",
    "outputSet = jarvismarch(inputSet)"
   ]
  },
  {
   "cell_type": "code",
   "execution_count": 9,
   "metadata": {},
   "outputs": [
    {
     "data": {
      "image/png": "[encoded data removed]",
      "text/plain": [
       "<Figure size 432x288 with 1 Axes>"
      ]
     },
     "metadata": {
      "needs_background": "light"
     },
     "output_type": "display_data"
    }
   ],
   "source": [
    "import matplotlib.pyplot as plt\n",
    "\n",
    "# inputSet and outputSet should have been defined above. \n",
    "# uncomment the next two lines only if you wish to test the plotting code before coding your algorithm\n",
    "\n",
    "#inputSet = [[1,1], [2,2] , [3, 3], [4,4], [1,4], [3,1], [1, 5], [2, 4], [3, 5]]\n",
    "#outputSet = [[1,1], [3,1] , [4, 4], [3,5], [1,5]]\n",
    "\n",
    "plt.figure()\n",
    "\n",
    "#first do a scatter plot of the inputSet\n",
    "input_xs, input_ys = zip(*inputSet)\n",
    "plt.scatter(input_xs, input_ys)\n",
    "\n",
    "#then do a polygon plot of the computed covex hull\n",
    "outputSet.append(outputSet[0]) #first create a 'closed loop' by adding the first point at the end of the list\n",
    "output_xs, output_ys = zip(*outputSet) \n",
    "plt.plot(output_xs, output_ys) \n",
    "\n",
    "plt.show() "
   ]
  },
  {
   "cell_type": "code",
   "execution_count": null,
   "metadata": {},
   "outputs": [],
   "source": []
  },
  {
   "cell_type": "code",
   "execution_count": null,
   "metadata": {},
   "outputs": [],
   "source": []
  },
  {
   "cell_type": "code",
   "execution_count": null,
   "metadata": {},
   "outputs": [],
   "source": []
  }
 ],
 "metadata": {
  "kernelspec": {
   "display_name": "Python 3",
   "language": "python",
   "name": "python3"
  },
  "language_info": {
   "codemirror_mode": {
    "name": "ipython",
    "version": 3
   },
   "file_extension": ".py",
   "mimetype": "text/x-python",
   "name": "python",
   "nbconvert_exporter": "python",
   "pygments_lexer": "ipython3",
   "version": "3.7.6"
  }
 },
 "nbformat": 4,
 "nbformat_minor": 4
}
