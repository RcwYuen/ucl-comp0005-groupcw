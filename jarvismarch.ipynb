{
 "cells": [
  {
   "cell_type": "markdown",
   "metadata": {},
   "source": [
    "# Jarvis march algorithm"
   ]
  },
  {
   "cell_type": "markdown",
   "metadata": {},
   "source": [
    "Use the cell below for all python code needed to realise the Jarvis march algorithm (including any auxiliary data structures and functions you might need). The `jarvismarch()` function itself should take as input parameter a list of 2D points (`inputSet`), and return the subset of such points (`outputSet`) that lie on the convex hull."
   ]
  },
  {
   "cell_type": "code",
   "execution_count": 1,
   "metadata": {},
   "outputs": [],
   "source": [
    "def jarvismarch(inputSet):\n",
    "    \n",
    "    numOfCoordinates = len(inputSet)\n",
    "    \n",
    "    # There must be at least 3 points\n",
    "    if numOfCoordinates <= 2:\n",
    "        print(\"You need more than 2 points!\")\n",
    "        return\n",
    "    \n",
    "    leftPoint = leftMostPoint(inputSet)\n",
    "    \n",
    "    p = leftPoint\n",
    "    \n",
    "    hull = counterclockwiseSearch(p,leftPoint, numOfCoordinates, inputSet)\n",
    "        \n",
    "    outputSet = []\n",
    "    for coordinate in hull:\n",
    "        outputSet.append((inputSet[coordinate][0], inputSet[coordinate][1]))\n",
    "    \n",
    "    return outputSet\n",
    "    \n",
    "def counterclockwiseSearch(p,leftPoint, numOfCoordinates, inputSet):\n",
    "    \n",
    "    q = 0\n",
    "    hull = []\n",
    "    \n",
    "    while(True):\n",
    "        \n",
    "        hull.append(p) \n",
    "        \n",
    "        q = (p + 1) % numOfCoordinates\n",
    "        \n",
    "        for i in range(numOfCoordinates):\n",
    "            \n",
    "            if (orientation(inputSet[p], inputSet[i], inputSet[q]) == 2):\n",
    "                q = i\n",
    "        p = q\n",
    "\n",
    "        if (p == leftPoint):\n",
    "            break\n",
    "    return hull\n",
    "\n",
    "def leftMostPoint(points):\n",
    "    x_val = min([x[0] for x in points])\n",
    "\n",
    "    minn = 0 \n",
    "    for i in range(len(points)):\n",
    "        if (points[i][0] == x_val) & (points[i][1] >= minn):\n",
    "            minn = points[i][1]\n",
    "            index = i\n",
    "            \n",
    "    return index\n",
    "\n",
    "def orientation(x,y,z):\n",
    "    orientationVal = (y[1] - x[1]) * (z[0] - y[0]) - (y[0] - x[0]) * (z[1] - y[1])\n",
    "    \n",
    "    if orientationVal == 0:\n",
    "        return 0\n",
    "    elif orientationVal > 0:\n",
    "        return 1\n",
    "    else:\n",
    "        return 2"
   ]
  },
  {
   "cell_type": "markdown",
   "metadata": {},
   "source": [
    "Use the cell below for all python code needed to generate test data points (both random and those representing worst-case scenario)."
   ]
  },
  {
   "cell_type": "code",
   "execution_count": 2,
   "metadata": {},
   "outputs": [],
   "source": [
    "import random\n",
    "\n",
    "#code for random data generation\n",
    "def randomDataGeneration(testRange):\n",
    "     return [(random.randrange(0, 32767), random.randrange(0, 32767)) for i in range(testRange)]\n",
    "\n",
    "#code for worst case data generation\n",
    "def worstCaseDataGeneration(testRange): \n",
    "    \n",
    "    testRange = testRange/2\n",
    "    \n",
    "    inputSet = []\n",
    "    x = 0\n",
    "    y = 0\n",
    "    while y < testRange:\n",
    "        while x < testRange:\n",
    "            inputSet.append((x,y))\n",
    "            x += 1\n",
    "        inputSet.append((x,y))\n",
    "        y += 1\n",
    "        \n",
    "    return inputSet\n"
   ]
  },
  {
   "cell_type": "markdown",
   "metadata": {},
   "source": [
    "Use the cell below for all python code needed to test the `jarvismarch()` function on the data generated above."
   ]
  },
  {
   "cell_type": "code",
   "execution_count": 3,
   "metadata": {},
   "outputs": [
    {
     "name": "stdout",
     "output_type": "stream",
     "text": [
      "Random data generations of size 100 has taken 0.0009704969999999591s\n",
      "Random data generations of size 500 has taken 0.006641671999999987s\n",
      "Random data generations of size 1000 has taken 0.009181192000000005s\n",
      "Random data generations of size 5000 has taken 0.04967190999999993s\n",
      "Random data generations of size 10000 has taken 0.1466006849999999s\n",
      "Random data generations of size 15000 has taken 0.18169613299999998s\n",
      "Random data generations of size 20000 has taken 0.316515184s\n",
      "Worst case data generations of size 100 has taken 0.004106987000000117s\n",
      "Worst case data generations of size 500 has taken 0.12297654599999985s\n",
      "Worst case data generations of size 1000 has taken 0.536383558s\n",
      "Worst case data generations of size 5000 has taken 12.571699185s\n",
      "Worst case data generations of size 10000 has taken 51.205850471000005s\n",
      "Worst case data generations of size 15000 has taken 126.66147014900001s\n",
      "Worst case data generations of size 20000 has taken 213.00373287699998s\n"
     ]
    },
    {
     "data": {
      "text/plain": [
       "[0.004106987000000117,\n",
       " 0.12297654599999985,\n",
       " 0.536383558,\n",
       " 12.571699185,\n",
       " 51.205850471000005,\n",
       " 126.66147014900001,\n",
       " 213.00373287699998]"
      ]
     },
     "execution_count": 3,
     "metadata": {},
     "output_type": "execute_result"
    }
   ],
   "source": [
    "import timeit\n",
    "\n",
    "N = [100, 500, 1000, 5000, 10000, 15000,20000]\n",
    "\n",
    "def randomDataTimeAnaysis():\n",
    "    timeTaken = []\n",
    "\n",
    "    for i in N:\n",
    "        inputSet = randomDataGeneration(i)\n",
    "        time = (timeit.timeit(lambda: jarvismarch(inputSet), number = 1))\n",
    "        timeTaken.append(time)\n",
    "        print(\"Random data generations of size \" + str(i) + \" has taken \" + str(time) + \"s\")\n",
    "        \n",
    "    return timeTaken\n",
    "\n",
    "def worstCaseDataAnaysis():\n",
    "    timeTaken = []\n",
    "    print(\"\\n\")\n",
    "    \n",
    "    for i in N:\n",
    "        inputSet = worstCaseDataGeneration(i)\n",
    "        time = (timeit.timeit(lambda: jarvismarch(inputSet), number = 1))\n",
    "        timeTaken.append(time)\n",
    "        print(\"Worst case data generations of size \" + str(i) + \" has taken \" + str(time) + \"s\")\n",
    "        \n",
    "    return timeTaken\n",
    "\n",
    "randomDataTimeAnaysis()\n",
    "worstCaseDataAnaysis()"
   ]
  },
  {
   "cell_type": "markdown",
   "metadata": {},
   "source": [
    "*Optional*: Feel free to use the code below on small datasets (e.g., N = 10) to visually inspect whether the algorithm has been implemented correctly. The fragment below assumes both `inputSet` and `outputSet` to be lists of 2D points, with each point being a list of 2 elements (e.g., `[[x1,y1], [x2,y2], ..., [x_k,y_k]]`)"
   ]
  },
  {
   "cell_type": "code",
   "execution_count": 4,
   "metadata": {},
   "outputs": [
    {
     "ename": "NameError",
     "evalue": "name 'inputSet' is not defined",
     "output_type": "error",
     "traceback": [
      "\u001b[0;31m---------------------------------------------------------------------------\u001b[0m",
      "\u001b[0;31mNameError\u001b[0m                                 Traceback (most recent call last)",
      "\u001b[0;32m<ipython-input-4-1796b6bbe349>\u001b[0m in \u001b[0;36m<module>\u001b[0;34m\u001b[0m\n\u001b[1;32m     10\u001b[0m \u001b[0;34m\u001b[0m\u001b[0m\n\u001b[1;32m     11\u001b[0m \u001b[0;31m#first do a scatter plot of the inputSet\u001b[0m\u001b[0;34m\u001b[0m\u001b[0;34m\u001b[0m\u001b[0;34m\u001b[0m\u001b[0m\n\u001b[0;32m---> 12\u001b[0;31m \u001b[0minput_xs\u001b[0m\u001b[0;34m,\u001b[0m \u001b[0minput_ys\u001b[0m \u001b[0;34m=\u001b[0m \u001b[0mzip\u001b[0m\u001b[0;34m(\u001b[0m\u001b[0;34m*\u001b[0m\u001b[0minputSet\u001b[0m\u001b[0;34m)\u001b[0m\u001b[0;34m\u001b[0m\u001b[0;34m\u001b[0m\u001b[0m\n\u001b[0m\u001b[1;32m     13\u001b[0m \u001b[0mplt\u001b[0m\u001b[0;34m.\u001b[0m\u001b[0mscatter\u001b[0m\u001b[0;34m(\u001b[0m\u001b[0minput_xs\u001b[0m\u001b[0;34m,\u001b[0m \u001b[0minput_ys\u001b[0m\u001b[0;34m)\u001b[0m\u001b[0;34m\u001b[0m\u001b[0;34m\u001b[0m\u001b[0m\n\u001b[1;32m     14\u001b[0m \u001b[0;34m\u001b[0m\u001b[0m\n",
      "\u001b[0;31mNameError\u001b[0m: name 'inputSet' is not defined"
     ]
    },
    {
     "data": {
      "text/plain": [
       "<Figure size 432x288 with 0 Axes>"
      ]
     },
     "metadata": {},
     "output_type": "display_data"
    }
   ],
   "source": [
    "import matplotlib.pyplot as plt\n",
    "\n",
    "# inputSet and outputSet should have been defined above. \n",
    "# uncomment the next two lines only if you wish to test the plotting code before coding your algorithm\n",
    "\n",
    "#inputSet = [[1,1], [2,2] , [3, 3], [4,4], [1,4], [3,1], [1, 5], [2, 4], [3, 5]]\n",
    "#outputSet = [[1,1], [3,1] , [4, 4], [3,5], [1,5]]\n",
    "\n",
    "plt.figure()\n",
    "\n",
    "#first do a scatter plot of the inputSet\n",
    "input_xs, input_ys = zip(*inputSet)\n",
    "plt.scatter(input_xs, input_ys)\n",
    "\n",
    "#then do a polygon plot of the computed covex hull\n",
    "outputSet.append(outputSet[0]) #first create a 'closed loop' by adding the first point at the end of the list\n",
    "output_xs, output_ys = zip(*outputSet) \n",
    "plt.plot(output_xs, output_ys) \n",
    "\n",
    "plt.show() "
   ]
  },
  {
   "cell_type": "code",
   "execution_count": null,
   "metadata": {},
   "outputs": [],
   "source": []
  },
  {
   "cell_type": "code",
   "execution_count": null,
   "metadata": {},
   "outputs": [],
   "source": []
  },
  {
   "cell_type": "code",
   "execution_count": null,
   "metadata": {},
   "outputs": [],
   "source": []
  }
 ],
 "metadata": {
  "kernelspec": {
   "display_name": "Python 3",
   "language": "python",
   "name": "python3"
  },
  "language_info": {
   "codemirror_mode": {
    "name": "ipython",
    "version": 3
   },
   "file_extension": ".py",
   "mimetype": "text/x-python",
   "name": "python",
   "nbconvert_exporter": "python",
   "pygments_lexer": "ipython3",
   "version": "3.7.6"
  }
 },
 "nbformat": 4,
 "nbformat_minor": 4
}
