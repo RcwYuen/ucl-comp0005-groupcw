{
 "cells": [
  {
   "cell_type": "markdown",
   "metadata": {},
   "source": [
    "# Graham scan algorithm"
   ]
  },
  {
   "cell_type": "code",
   "execution_count": 8,
   "metadata": {},
   "outputs": [],
   "source": [
    "import math\n",
    "\n",
    "class Stack:\n",
    "    def __init__(self):\n",
    "        self.__stack = []\n",
    "    \n",
    "    def push(self, x):\n",
    "        self.__stack.append(x)\n",
    "\n",
    "    def pop(self):\n",
    "        if not self.size() == 0:\n",
    "            x = self.__stack[-1]\n",
    "            self.__stack = self.__stack[:-1:]\n",
    "            return x\n",
    "        else:\n",
    "            return\n",
    "        \n",
    "    def size(self):\n",
    "        return len(self.__stack)\n",
    "\n",
    "    def peek2(self):\n",
    "        return self.__stack[-2] if self.size() > 2 else None\n",
    "\n",
    "    def peek(self):\n",
    "        return self.__stack[-1] if self.size() > 1 else None\n",
    "    \n",
    "    def getStack(self):\n",
    "        return self.__stack\n",
    "\n",
    "def ccw(p1, p2, p3):\n",
    "    if p1 == None or p2 == None or p3 == None:\n",
    "        return 0\n",
    "    p1, p2, p3 = cartesian(p1), cartesian(p2), cartesian(p3)\n",
    "    return (p2[0]-p1[0])*(p3[1]-p1[1])-(p2[1]-p1[1])*(p3[0]-p1[0])\n",
    "\n",
    "def centroid(triangle):\n",
    "    # Reference to https://www.mathopenref.com/coordcentroid.html \n",
    "    return [sum([i[0] for i in triangle]) / len(triangle), sum([i[1] for i in triangle]) / len(triangle)]\n",
    "\n",
    "def pyth(p1, p2):\n",
    "    # Calculates the distance between two points in the R^2 vector space using Pythagorous' \n",
    "    return sum([(p1[i] - p2[i]) ** 2 for i in range(len(p1))]) ** 0.5\n",
    "\n",
    "def changerange(theta):\n",
    "    # The paper used the range of radians to be between [0, 2pi), but the math library uses [-pi, pi) \n",
    "    return theta if theta >= 0 else math.tau + theta\n",
    "\n",
    "def midtest(points):\n",
    "    # Finds the midpoint between 3 collinear points, returns two points which has the longest distance \n",
    "    distances = [pyth(points[0], points[1]), pyth(points[0], points[2]), pyth(points[1], points[2])]\n",
    "    if max(distances) == distances[0]:\n",
    "        return [points[0], points[1]]\n",
    "    return [points[0], points[2]] if max(distances) == distances[1] else [points[1], points[2]]\n",
    "\n",
    "def calcP(inputSet):\n",
    "    # Finds the point P \n",
    "    while ccw(inputSet[0], inputSet[1], inputSet[2]) == 0 and len(inputSet) > 3:\n",
    "        inputSet = midtest(inputSet[:3:]) + inputSet[3::]\n",
    "    return centroid(inputSet[:3:])\n",
    "\n",
    "def polar(coordinates):\n",
    "    return [pyth(coordinates, [0,0]), changerange(math.atan2(coordinates[1], coordinates[0]))]\n",
    "\n",
    "def cartesianList(polarHull, P):\n",
    "    return [cartesian(i, P=P) for i in polarHull]\n",
    "\n",
    "def resetOrigin(P, inputSet):\n",
    "    return [polar([i[0]-P[0], i[1]-P[1]]) for i in inputSet]\n",
    "\n",
    "def cartesian(coordinates, P=[0,0]):\n",
    "    return [round((coordinates[0] * math.cos(coordinates[1])) + P[0]), round((coordinates[0] * math.sin(coordinates[1])) + P[1])]\n",
    "\n",
    "def merge(L,R):\n",
    "    ret_array = []\n",
    "    l_index, r_index = 0, 0\n",
    "    while len(ret_array) < (len(L) + len(R)):\n",
    "        if l_index == len(L):\n",
    "            ret_array += R[r_index:]\n",
    "            break\n",
    "        elif r_index == len(R):\n",
    "            ret_array += L[l_index:]\n",
    "            break\n",
    "        if L[l_index][1] < R[r_index][1]:\n",
    "            ret_array.append(L[l_index])\n",
    "            l_index += 1\n",
    "        elif L[l_index][1] >= R[r_index][1]:\n",
    "            ret_array.append(R[r_index])\n",
    "            r_index += 1\n",
    "    return ret_array\n",
    "\n",
    "def msort(inputSet):\n",
    "    # Sort the set of coordinates using merge sort\n",
    "    return inputSet if len(inputSet) == 1 else merge(msort(inputSet[:len(inputSet)//2:]), msort(inputSet[len(inputSet)//2::]))\n",
    "\n",
    "def maxr(inputSet, threshold=1e-8):\n",
    "    # This function selects the polar coordinate with same angle as others but has the largest magnitude\n",
    "    # A threshold default argument has been added to prevent floating point arithmetic errors\n",
    "    polar, curtheta = [], -math.inf\n",
    "    for i in inputSet:\n",
    "        if abs(i[1] - curtheta) < threshold:\n",
    "            polar[-1][0] = max(i[0], polar[-1][0])\n",
    "        else:\n",
    "            polar.append(i)\n",
    "            curtheta = i[1]\n",
    "    return polar\n",
    "\n",
    "def deletenomag(inputSet):\n",
    "    # This function removes the polar coordinates with no magnitude\n",
    "    return [i for i in inputSet if i[0] != 0]\n",
    "\n",
    "def trace(inputSet):\n",
    "    stack = Stack()\n",
    "    inputSet = inputSet + [inputSet[0], inputSet[1]]\n",
    "    for point in inputSet:\n",
    "        while stack.size() > 1 and ccw(stack.peek2(), stack.peek(), point) < 0:\n",
    "            _ = stack.pop()\n",
    "        stack.push(point)\n",
    "    return stack.getStack()\n",
    "\n",
    "def grahamscan(inputSet):\n",
    "    P = calcP(inputSet)\n",
    "    polarSet = maxr(msort(deletenomag(resetOrigin(P, inputSet))))\n",
    "    polarHull = trace(polarSet)\n",
    "    return cartesianList(polarHull, P)"
   ]
  },
  {
   "cell_type": "markdown",
   "metadata": {},
   "source": [
    "Use the cell below for all python code needed to generate test data points (both random and those representing worst-case scenario)."
   ]
  },
  {
   "cell_type": "code",
   "execution_count": 9,
   "metadata": {},
   "outputs": [],
   "source": [
    "import random\n",
    "\n",
    "#code for random data generation\n",
    "def randGeneration(n, lb=0, ub=32767):\n",
    "    return [[random.randint(lb, ub), random.randint(lb, ub)] for i in range(n)]\n",
    "\n",
    "#code for worst case data generation\n",
    "def randWorstGeneration(n):\n",
    "    return [[0,0] for i in range(n)]"
   ]
  },
  {
   "cell_type": "markdown",
   "metadata": {},
   "source": [
    "Use the cell below for all python code needed to test the `grahamscan()` function on the data generated above."
   ]
  },
  {
   "cell_type": "code",
   "execution_count": null,
   "metadata": {},
   "outputs": [],
   "source": [
    "import timeit\n",
    "\n",
    "#test code\n",
    "def test(n, worstCase=False, repeats=1):\n",
    "    timetaken = [0 for i in range(len(n))]\n",
    "    for j in range(repeats):\n",
    "        for i in n:\n",
    "            data = randWorstGeneration(int(i)) if worstCase else randGeneration(int(i))\n",
    "            start_time = timeit.default_timer()\n",
    "            _ = grahamscan(data)\n",
    "            timetaken[n.index(i)] += timeit.default_timer() - start_time\n",
    "    return [i/repeats for i in timetaken]\n",
    "\n",
    "r_timetaken, w_timetaken = test(n, repeats=5), test(n, worstCase = True)"
   ]
  },
  {
   "cell_type": "code",
   "execution_count": null,
   "metadata": {},
   "outputs": [],
   "source": [
    "import matplotlib.pyplot as plt\n",
    "print (r_timetaken)\n",
    "plt.plot(n, r_timetaken)\n",
    "plt.show()"
   ]
  },
  {
   "cell_type": "markdown",
   "metadata": {},
   "source": [
    "*Optional*: Feel free to use the code below on small datasets (e.g., N = 10) to visually inspect whether the algorithm has been implemented correctly. The fragment below assumes both `inputSet` and `outputSet` to be lists of 2D points, with each point being a list of 2 elements (e.g., `[[x1,y1], [x2,y2], ..., [x_k,y_k]]`)"
   ]
  },
  {
   "cell_type": "code",
   "execution_count": 19,
   "metadata": {
    "tags": []
   },
   "outputs": [
    {
     "output_type": "display_data",
     "data": {
      "text/plain": "<Figure size 432x288 with 1 Axes>",
      "image/svg+xml": "<?xml version=\"1.0\" encoding=\"utf-8\" standalone=\"no\"?>\r\n<!DOCTYPE svg PUBLIC \"-//W3C//DTD SVG 1.1//EN\"\r\n  \"http://www.w3.org/Graphics/SVG/1.1/DTD/svg11.dtd\">\r\n<!-- Created with matplotlib (https://matplotlib.org/) -->\r\n<svg height=\"248.518125pt\" version=\"1.1\" viewBox=\"0 0 388.0125 248.518125\" width=\"388.0125pt\" xmlns=\"http://www.w3.org/2000/svg\" xmlns:xlink=\"http://www.w3.org/1999/xlink\">\r\n <metadata>\r\n  <rdf:RDF xmlns:cc=\"http://creativecommons.org/ns#\" xmlns:dc=\"http://purl.org/dc/elements/1.1/\" xmlns:rdf=\"http://www.w3.org/1999/02/22-rdf-syntax-ns#\">\r\n   <cc:Work>\r\n    <dc:type rdf:resource=\"http://purl.org/dc/dcmitype/StillImage\"/>\r\n    <dc:date>2021-03-01T06:34:43.261097</dc:date>\r\n    <dc:format>image/svg+xml</dc:format>\r\n    <dc:creator>\r\n     <cc:Agent>\r\n      <dc:title>Matplotlib v3.3.4, https://matplotlib.org/</dc:title>\r\n     </cc:Agent>\r\n    </dc:creator>\r\n   </cc:Work>\r\n  </rdf:RDF>\r\n </metadata>\r\n <defs>\r\n  <style type=\"text/css\">*{stroke-linecap:butt;stroke-linejoin:round;}</style>\r\n </defs>\r\n <g id=\"figure_1\">\r\n  <g id=\"patch_1\">\r\n   <path d=\"M 0 248.518125 \r\nL 388.0125 248.518125 \r\nL 388.0125 0 \r\nL 0 0 \r\nz\r\n\" style=\"fill:none;\"/>\r\n  </g>\r\n  <g id=\"axes_1\">\r\n   <g id=\"patch_2\">\r\n    <path d=\"M 46.0125 224.64 \r\nL 380.8125 224.64 \r\nL 380.8125 7.2 \r\nL 46.0125 7.2 \r\nz\r\n\" style=\"fill:#ffffff;\"/>\r\n   </g>\r\n   <g id=\"PathCollection_1\">\r\n    <defs>\r\n     <path d=\"M 0 3 \r\nC 0.795609 3 1.55874 2.683901 2.12132 2.12132 \r\nC 2.683901 1.55874 3 0.795609 3 0 \r\nC 3 -0.795609 2.683901 -1.55874 2.12132 -2.12132 \r\nC 1.55874 -2.683901 0.795609 -3 0 -3 \r\nC -0.795609 -3 -1.55874 -2.683901 -2.12132 -2.12132 \r\nC -2.683901 -1.55874 -3 -0.795609 -3 0 \r\nC -3 0.795609 -2.683901 1.55874 -2.12132 2.12132 \r\nC -1.55874 2.683901 -0.795609 3 0 3 \r\nz\r\n\" id=\"m0fdb6477b7\" style=\"stroke:#1f77b4;\"/>\r\n    </defs>\r\n    <g clip-path=\"url(#pcc9e478d2f)\">\r\n     <use style=\"fill:#1f77b4;stroke:#1f77b4;\" x=\"146.850498\" xlink:href=\"#m0fdb6477b7\" y=\"157.309155\"/>\r\n     <use style=\"fill:#1f77b4;stroke:#1f77b4;\" x=\"226.566166\" xlink:href=\"#m0fdb6477b7\" y=\"165.25567\"/>\r\n     <use style=\"fill:#1f77b4;stroke:#1f77b4;\" x=\"348.830411\" xlink:href=\"#m0fdb6477b7\" y=\"214.756364\"/>\r\n     <use style=\"fill:#1f77b4;stroke:#1f77b4;\" x=\"63.253578\" xlink:href=\"#m0fdb6477b7\" y=\"19.044877\"/>\r\n     <use style=\"fill:#1f77b4;stroke:#1f77b4;\" x=\"358.644846\" xlink:href=\"#m0fdb6477b7\" y=\"25.93778\"/>\r\n     <use style=\"fill:#1f77b4;stroke:#1f77b4;\" x=\"356.505803\" xlink:href=\"#m0fdb6477b7\" y=\"102.72447\"/>\r\n     <use style=\"fill:#1f77b4;stroke:#1f77b4;\" x=\"363.745643\" xlink:href=\"#m0fdb6477b7\" y=\"77.88209\"/>\r\n     <use style=\"fill:#1f77b4;stroke:#1f77b4;\" x=\"316.299527\" xlink:href=\"#m0fdb6477b7\" y=\"177.949783\"/>\r\n     <use style=\"fill:#1f77b4;stroke:#1f77b4;\" x=\"164.669408\" xlink:href=\"#m0fdb6477b7\" y=\"141.720785\"/>\r\n     <use style=\"fill:#1f77b4;stroke:#1f77b4;\" x=\"290.205132\" xlink:href=\"#m0fdb6477b7\" y=\"51.8782\"/>\r\n     <use style=\"fill:#1f77b4;stroke:#1f77b4;\" x=\"261.023157\" xlink:href=\"#m0fdb6477b7\" y=\"141.42882\"/>\r\n     <use style=\"fill:#1f77b4;stroke:#1f77b4;\" x=\"309.562992\" xlink:href=\"#m0fdb6477b7\" y=\"167.699287\"/>\r\n     <use style=\"fill:#1f77b4;stroke:#1f77b4;\" x=\"252.070147\" xlink:href=\"#m0fdb6477b7\" y=\"120.293122\"/>\r\n     <use style=\"fill:#1f77b4;stroke:#1f77b4;\" x=\"64.753812\" xlink:href=\"#m0fdb6477b7\" y=\"172.053368\"/>\r\n     <use style=\"fill:#1f77b4;stroke:#1f77b4;\" x=\"187.773014\" xlink:href=\"#m0fdb6477b7\" y=\"108.487597\"/>\r\n     <use style=\"fill:#1f77b4;stroke:#1f77b4;\" x=\"239.022949\" xlink:href=\"#m0fdb6477b7\" y=\"186.683333\"/>\r\n     <use style=\"fill:#1f77b4;stroke:#1f77b4;\" x=\"139.436437\" xlink:href=\"#m0fdb6477b7\" y=\"39.317375\"/>\r\n     <use style=\"fill:#1f77b4;stroke:#1f77b4;\" x=\"244.830307\" xlink:href=\"#m0fdb6477b7\" y=\"184.455516\"/>\r\n     <use style=\"fill:#1f77b4;stroke:#1f77b4;\" x=\"135.893949\" xlink:href=\"#m0fdb6477b7\" y=\"179.212847\"/>\r\n     <use style=\"fill:#1f77b4;stroke:#1f77b4;\" x=\"84.092315\" xlink:href=\"#m0fdb6477b7\" y=\"41.760992\"/>\r\n     <use style=\"fill:#1f77b4;stroke:#1f77b4;\" x=\"196.290473\" xlink:href=\"#m0fdb6477b7\" y=\"115.970776\"/>\r\n     <use style=\"fill:#1f77b4;stroke:#1f77b4;\" x=\"298.36447\" xlink:href=\"#m0fdb6477b7\" y=\"143.75819\"/>\r\n     <use style=\"fill:#1f77b4;stroke:#1f77b4;\" x=\"343.265026\" xlink:href=\"#m0fdb6477b7\" y=\"125.059761\"/>\r\n     <use style=\"fill:#1f77b4;stroke:#1f77b4;\" x=\"131.954624\" xlink:href=\"#m0fdb6477b7\" y=\"66.69223\"/>\r\n     <use style=\"fill:#1f77b4;stroke:#1f77b4;\" x=\"326.355935\" xlink:href=\"#m0fdb6477b7\" y=\"80.205113\"/>\r\n     <use style=\"fill:#1f77b4;stroke:#1f77b4;\" x=\"336.092939\" xlink:href=\"#m0fdb6477b7\" y=\"43.112915\"/>\r\n     <use style=\"fill:#1f77b4;stroke:#1f77b4;\" x=\"221.939637\" xlink:href=\"#m0fdb6477b7\" y=\"111.451672\"/>\r\n     <use style=\"fill:#1f77b4;stroke:#1f77b4;\" x=\"192.167248\" xlink:href=\"#m0fdb6477b7\" y=\"50.773812\"/>\r\n     <use style=\"fill:#1f77b4;stroke:#1f77b4;\" x=\"200.897643\" xlink:href=\"#m0fdb6477b7\" y=\"81.798224\"/>\r\n     <use style=\"fill:#1f77b4;stroke:#1f77b4;\" x=\"145.088932\" xlink:href=\"#m0fdb6477b7\" y=\"82.966083\"/>\r\n     <use style=\"fill:#1f77b4;stroke:#1f77b4;\" x=\"218.919811\" xlink:href=\"#m0fdb6477b7\" y=\"22.643658\"/>\r\n     <use style=\"fill:#1f77b4;stroke:#1f77b4;\" x=\"208.97955\" xlink:href=\"#m0fdb6477b7\" y=\"127.592237\"/>\r\n     <use style=\"fill:#1f77b4;stroke:#1f77b4;\" x=\"252.641204\" xlink:href=\"#m0fdb6477b7\" y=\"209.983377\"/>\r\n     <use style=\"fill:#1f77b4;stroke:#1f77b4;\" x=\"99.96576\" xlink:href=\"#m0fdb6477b7\" y=\"164.7606\"/>\r\n     <use style=\"fill:#1f77b4;stroke:#1f77b4;\" x=\"264.352709\" xlink:href=\"#m0fdb6477b7\" y=\"117.303658\"/>\r\n     <use style=\"fill:#1f77b4;stroke:#1f77b4;\" x=\"236.535464\" xlink:href=\"#m0fdb6477b7\" y=\"164.684435\"/>\r\n     <use style=\"fill:#1f77b4;stroke:#1f77b4;\" x=\"262.097518\" xlink:href=\"#m0fdb6477b7\" y=\"133.514041\"/>\r\n     <use style=\"fill:#1f77b4;stroke:#1f77b4;\" x=\"61.230682\" xlink:href=\"#m0fdb6477b7\" y=\"48.51426\"/>\r\n     <use style=\"fill:#1f77b4;stroke:#1f77b4;\" x=\"266.714368\" xlink:href=\"#m0fdb6477b7\" y=\"213.531382\"/>\r\n     <use style=\"fill:#1f77b4;stroke:#1f77b4;\" x=\"313.995942\" xlink:href=\"#m0fdb6477b7\" y=\"65.130854\"/>\r\n     <use style=\"fill:#1f77b4;stroke:#1f77b4;\" x=\"170.496124\" xlink:href=\"#m0fdb6477b7\" y=\"176.178954\"/>\r\n     <use style=\"fill:#1f77b4;stroke:#1f77b4;\" x=\"288.821045\" xlink:href=\"#m0fdb6477b7\" y=\"105.732974\"/>\r\n     <use style=\"fill:#1f77b4;stroke:#1f77b4;\" x=\"255.641672\" xlink:href=\"#m0fdb6477b7\" y=\"81.696671\"/>\r\n     <use style=\"fill:#1f77b4;stroke:#1f77b4;\" x=\"243.591404\" xlink:href=\"#m0fdb6477b7\" y=\"84.337047\"/>\r\n     <use style=\"fill:#1f77b4;stroke:#1f77b4;\" x=\"148.341053\" xlink:href=\"#m0fdb6477b7\" y=\"43.208121\"/>\r\n     <use style=\"fill:#1f77b4;stroke:#1f77b4;\" x=\"207.227664\" xlink:href=\"#m0fdb6477b7\" y=\"81.417401\"/>\r\n     <use style=\"fill:#1f77b4;stroke:#1f77b4;\" x=\"112.606443\" xlink:href=\"#m0fdb6477b7\" y=\"17.083636\"/>\r\n     <use style=\"fill:#1f77b4;stroke:#1f77b4;\" x=\"365.594318\" xlink:href=\"#m0fdb6477b7\" y=\"113.901636\"/>\r\n     <use style=\"fill:#1f77b4;stroke:#1f77b4;\" x=\"141.846491\" xlink:href=\"#m0fdb6477b7\" y=\"184.334922\"/>\r\n     <use style=\"fill:#1f77b4;stroke:#1f77b4;\" x=\"172.257689\" xlink:href=\"#m0fdb6477b7\" y=\"63.753543\"/>\r\n    </g>\r\n   </g>\r\n   <g id=\"matplotlib.axis_1\">\r\n    <g id=\"xtick_1\">\r\n     <g id=\"line2d_1\">\r\n      <defs>\r\n       <path d=\"M 0 0 \r\nL 0 3.5 \r\n\" id=\"m1ee7271ed8\" style=\"stroke:#000000;stroke-width:0.8;\"/>\r\n      </defs>\r\n      <g>\r\n       <use style=\"stroke:#000000;stroke-width:0.8;\" x=\"55.597544\" xlink:href=\"#m1ee7271ed8\" y=\"224.64\"/>\r\n      </g>\r\n     </g>\r\n     <g id=\"text_1\">\r\n      <!-- 0 -->\r\n      <g transform=\"translate(52.416294 239.238438)scale(0.1 -0.1)\">\r\n       <defs>\r\n        <path d=\"M 31.78125 66.40625 \r\nQ 24.171875 66.40625 20.328125 58.90625 \r\nQ 16.5 51.421875 16.5 36.375 \r\nQ 16.5 21.390625 20.328125 13.890625 \r\nQ 24.171875 6.390625 31.78125 6.390625 \r\nQ 39.453125 6.390625 43.28125 13.890625 \r\nQ 47.125 21.390625 47.125 36.375 \r\nQ 47.125 51.421875 43.28125 58.90625 \r\nQ 39.453125 66.40625 31.78125 66.40625 \r\nz\r\nM 31.78125 74.21875 \r\nQ 44.046875 74.21875 50.515625 64.515625 \r\nQ 56.984375 54.828125 56.984375 36.375 \r\nQ 56.984375 17.96875 50.515625 8.265625 \r\nQ 44.046875 -1.421875 31.78125 -1.421875 \r\nQ 19.53125 -1.421875 13.0625 8.265625 \r\nQ 6.59375 17.96875 6.59375 36.375 \r\nQ 6.59375 54.828125 13.0625 64.515625 \r\nQ 19.53125 74.21875 31.78125 74.21875 \r\nz\r\n\" id=\"DejaVuSans-48\"/>\r\n       </defs>\r\n       <use xlink:href=\"#DejaVuSans-48\"/>\r\n      </g>\r\n     </g>\r\n    </g>\r\n    <g id=\"xtick_2\">\r\n     <g id=\"line2d_2\">\r\n      <g>\r\n       <use style=\"stroke:#000000;stroke-width:0.8;\" x=\"103.992195\" xlink:href=\"#m1ee7271ed8\" y=\"224.64\"/>\r\n      </g>\r\n     </g>\r\n     <g id=\"text_2\">\r\n      <!-- 5000 -->\r\n      <g transform=\"translate(91.267195 239.238438)scale(0.1 -0.1)\">\r\n       <defs>\r\n        <path d=\"M 10.796875 72.90625 \r\nL 49.515625 72.90625 \r\nL 49.515625 64.59375 \r\nL 19.828125 64.59375 \r\nL 19.828125 46.734375 \r\nQ 21.96875 47.46875 24.109375 47.828125 \r\nQ 26.265625 48.1875 28.421875 48.1875 \r\nQ 40.625 48.1875 47.75 41.5 \r\nQ 54.890625 34.8125 54.890625 23.390625 \r\nQ 54.890625 11.625 47.5625 5.09375 \r\nQ 40.234375 -1.421875 26.90625 -1.421875 \r\nQ 22.3125 -1.421875 17.546875 -0.640625 \r\nQ 12.796875 0.140625 7.71875 1.703125 \r\nL 7.71875 11.625 \r\nQ 12.109375 9.234375 16.796875 8.0625 \r\nQ 21.484375 6.890625 26.703125 6.890625 \r\nQ 35.15625 6.890625 40.078125 11.328125 \r\nQ 45.015625 15.765625 45.015625 23.390625 \r\nQ 45.015625 31 40.078125 35.4375 \r\nQ 35.15625 39.890625 26.703125 39.890625 \r\nQ 22.75 39.890625 18.8125 39.015625 \r\nQ 14.890625 38.140625 10.796875 36.28125 \r\nz\r\n\" id=\"DejaVuSans-53\"/>\r\n       </defs>\r\n       <use xlink:href=\"#DejaVuSans-53\"/>\r\n       <use x=\"63.623047\" xlink:href=\"#DejaVuSans-48\"/>\r\n       <use x=\"127.246094\" xlink:href=\"#DejaVuSans-48\"/>\r\n       <use x=\"190.869141\" xlink:href=\"#DejaVuSans-48\"/>\r\n      </g>\r\n     </g>\r\n    </g>\r\n    <g id=\"xtick_3\">\r\n     <g id=\"line2d_3\">\r\n      <g>\r\n       <use style=\"stroke:#000000;stroke-width:0.8;\" x=\"152.386846\" xlink:href=\"#m1ee7271ed8\" y=\"224.64\"/>\r\n      </g>\r\n     </g>\r\n     <g id=\"text_3\">\r\n      <!-- 10000 -->\r\n      <g transform=\"translate(136.480596 239.238438)scale(0.1 -0.1)\">\r\n       <defs>\r\n        <path d=\"M 12.40625 8.296875 \r\nL 28.515625 8.296875 \r\nL 28.515625 63.921875 \r\nL 10.984375 60.40625 \r\nL 10.984375 69.390625 \r\nL 28.421875 72.90625 \r\nL 38.28125 72.90625 \r\nL 38.28125 8.296875 \r\nL 54.390625 8.296875 \r\nL 54.390625 0 \r\nL 12.40625 0 \r\nz\r\n\" id=\"DejaVuSans-49\"/>\r\n       </defs>\r\n       <use xlink:href=\"#DejaVuSans-49\"/>\r\n       <use x=\"63.623047\" xlink:href=\"#DejaVuSans-48\"/>\r\n       <use x=\"127.246094\" xlink:href=\"#DejaVuSans-48\"/>\r\n       <use x=\"190.869141\" xlink:href=\"#DejaVuSans-48\"/>\r\n       <use x=\"254.492188\" xlink:href=\"#DejaVuSans-48\"/>\r\n      </g>\r\n     </g>\r\n    </g>\r\n    <g id=\"xtick_4\">\r\n     <g id=\"line2d_4\">\r\n      <g>\r\n       <use style=\"stroke:#000000;stroke-width:0.8;\" x=\"200.781496\" xlink:href=\"#m1ee7271ed8\" y=\"224.64\"/>\r\n      </g>\r\n     </g>\r\n     <g id=\"text_4\">\r\n      <!-- 15000 -->\r\n      <g transform=\"translate(184.875246 239.238438)scale(0.1 -0.1)\">\r\n       <use xlink:href=\"#DejaVuSans-49\"/>\r\n       <use x=\"63.623047\" xlink:href=\"#DejaVuSans-53\"/>\r\n       <use x=\"127.246094\" xlink:href=\"#DejaVuSans-48\"/>\r\n       <use x=\"190.869141\" xlink:href=\"#DejaVuSans-48\"/>\r\n       <use x=\"254.492188\" xlink:href=\"#DejaVuSans-48\"/>\r\n      </g>\r\n     </g>\r\n    </g>\r\n    <g id=\"xtick_5\">\r\n     <g id=\"line2d_5\">\r\n      <g>\r\n       <use style=\"stroke:#000000;stroke-width:0.8;\" x=\"249.176147\" xlink:href=\"#m1ee7271ed8\" y=\"224.64\"/>\r\n      </g>\r\n     </g>\r\n     <g id=\"text_5\">\r\n      <!-- 20000 -->\r\n      <g transform=\"translate(233.269897 239.238438)scale(0.1 -0.1)\">\r\n       <defs>\r\n        <path d=\"M 19.1875 8.296875 \r\nL 53.609375 8.296875 \r\nL 53.609375 0 \r\nL 7.328125 0 \r\nL 7.328125 8.296875 \r\nQ 12.9375 14.109375 22.625 23.890625 \r\nQ 32.328125 33.6875 34.8125 36.53125 \r\nQ 39.546875 41.84375 41.421875 45.53125 \r\nQ 43.3125 49.21875 43.3125 52.78125 \r\nQ 43.3125 58.59375 39.234375 62.25 \r\nQ 35.15625 65.921875 28.609375 65.921875 \r\nQ 23.96875 65.921875 18.8125 64.3125 \r\nQ 13.671875 62.703125 7.8125 59.421875 \r\nL 7.8125 69.390625 \r\nQ 13.765625 71.78125 18.9375 73 \r\nQ 24.125 74.21875 28.421875 74.21875 \r\nQ 39.75 74.21875 46.484375 68.546875 \r\nQ 53.21875 62.890625 53.21875 53.421875 \r\nQ 53.21875 48.921875 51.53125 44.890625 \r\nQ 49.859375 40.875 45.40625 35.40625 \r\nQ 44.1875 33.984375 37.640625 27.21875 \r\nQ 31.109375 20.453125 19.1875 8.296875 \r\nz\r\n\" id=\"DejaVuSans-50\"/>\r\n       </defs>\r\n       <use xlink:href=\"#DejaVuSans-50\"/>\r\n       <use x=\"63.623047\" xlink:href=\"#DejaVuSans-48\"/>\r\n       <use x=\"127.246094\" xlink:href=\"#DejaVuSans-48\"/>\r\n       <use x=\"190.869141\" xlink:href=\"#DejaVuSans-48\"/>\r\n       <use x=\"254.492188\" xlink:href=\"#DejaVuSans-48\"/>\r\n      </g>\r\n     </g>\r\n    </g>\r\n    <g id=\"xtick_6\">\r\n     <g id=\"line2d_6\">\r\n      <g>\r\n       <use style=\"stroke:#000000;stroke-width:0.8;\" x=\"297.570797\" xlink:href=\"#m1ee7271ed8\" y=\"224.64\"/>\r\n      </g>\r\n     </g>\r\n     <g id=\"text_6\">\r\n      <!-- 25000 -->\r\n      <g transform=\"translate(281.664547 239.238438)scale(0.1 -0.1)\">\r\n       <use xlink:href=\"#DejaVuSans-50\"/>\r\n       <use x=\"63.623047\" xlink:href=\"#DejaVuSans-53\"/>\r\n       <use x=\"127.246094\" xlink:href=\"#DejaVuSans-48\"/>\r\n       <use x=\"190.869141\" xlink:href=\"#DejaVuSans-48\"/>\r\n       <use x=\"254.492188\" xlink:href=\"#DejaVuSans-48\"/>\r\n      </g>\r\n     </g>\r\n    </g>\r\n    <g id=\"xtick_7\">\r\n     <g id=\"line2d_7\">\r\n      <g>\r\n       <use style=\"stroke:#000000;stroke-width:0.8;\" x=\"345.965448\" xlink:href=\"#m1ee7271ed8\" y=\"224.64\"/>\r\n      </g>\r\n     </g>\r\n     <g id=\"text_7\">\r\n      <!-- 30000 -->\r\n      <g transform=\"translate(330.059198 239.238438)scale(0.1 -0.1)\">\r\n       <defs>\r\n        <path d=\"M 40.578125 39.3125 \r\nQ 47.65625 37.796875 51.625 33 \r\nQ 55.609375 28.21875 55.609375 21.1875 \r\nQ 55.609375 10.40625 48.1875 4.484375 \r\nQ 40.765625 -1.421875 27.09375 -1.421875 \r\nQ 22.515625 -1.421875 17.65625 -0.515625 \r\nQ 12.796875 0.390625 7.625 2.203125 \r\nL 7.625 11.71875 \r\nQ 11.71875 9.328125 16.59375 8.109375 \r\nQ 21.484375 6.890625 26.8125 6.890625 \r\nQ 36.078125 6.890625 40.9375 10.546875 \r\nQ 45.796875 14.203125 45.796875 21.1875 \r\nQ 45.796875 27.640625 41.28125 31.265625 \r\nQ 36.765625 34.90625 28.71875 34.90625 \r\nL 20.21875 34.90625 \r\nL 20.21875 43.015625 \r\nL 29.109375 43.015625 \r\nQ 36.375 43.015625 40.234375 45.921875 \r\nQ 44.09375 48.828125 44.09375 54.296875 \r\nQ 44.09375 59.90625 40.109375 62.90625 \r\nQ 36.140625 65.921875 28.71875 65.921875 \r\nQ 24.65625 65.921875 20.015625 65.03125 \r\nQ 15.375 64.15625 9.8125 62.3125 \r\nL 9.8125 71.09375 \r\nQ 15.4375 72.65625 20.34375 73.4375 \r\nQ 25.25 74.21875 29.59375 74.21875 \r\nQ 40.828125 74.21875 47.359375 69.109375 \r\nQ 53.90625 64.015625 53.90625 55.328125 \r\nQ 53.90625 49.265625 50.4375 45.09375 \r\nQ 46.96875 40.921875 40.578125 39.3125 \r\nz\r\n\" id=\"DejaVuSans-51\"/>\r\n       </defs>\r\n       <use xlink:href=\"#DejaVuSans-51\"/>\r\n       <use x=\"63.623047\" xlink:href=\"#DejaVuSans-48\"/>\r\n       <use x=\"127.246094\" xlink:href=\"#DejaVuSans-48\"/>\r\n       <use x=\"190.869141\" xlink:href=\"#DejaVuSans-48\"/>\r\n       <use x=\"254.492188\" xlink:href=\"#DejaVuSans-48\"/>\r\n      </g>\r\n     </g>\r\n    </g>\r\n   </g>\r\n   <g id=\"matplotlib.axis_2\">\r\n    <g id=\"ytick_1\">\r\n     <g id=\"line2d_8\">\r\n      <defs>\r\n       <path d=\"M 0 0 \r\nL -3.5 0 \r\n\" id=\"m540ddbdcc7\" style=\"stroke:#000000;stroke-width:0.8;\"/>\r\n      </defs>\r\n      <g>\r\n       <use style=\"stroke:#000000;stroke-width:0.8;\" x=\"46.0125\" xlink:href=\"#m540ddbdcc7\" y=\"223.991331\"/>\r\n      </g>\r\n     </g>\r\n     <g id=\"text_8\">\r\n      <!-- 0 -->\r\n      <g transform=\"translate(32.65 227.79055)scale(0.1 -0.1)\">\r\n       <use xlink:href=\"#DejaVuSans-48\"/>\r\n      </g>\r\n     </g>\r\n    </g>\r\n    <g id=\"ytick_2\">\r\n     <g id=\"line2d_9\">\r\n      <g>\r\n       <use style=\"stroke:#000000;stroke-width:0.8;\" x=\"46.0125\" xlink:href=\"#m540ddbdcc7\" y=\"192.256048\"/>\r\n      </g>\r\n     </g>\r\n     <g id=\"text_9\">\r\n      <!-- 5000 -->\r\n      <g transform=\"translate(13.5625 196.055267)scale(0.1 -0.1)\">\r\n       <use xlink:href=\"#DejaVuSans-53\"/>\r\n       <use x=\"63.623047\" xlink:href=\"#DejaVuSans-48\"/>\r\n       <use x=\"127.246094\" xlink:href=\"#DejaVuSans-48\"/>\r\n       <use x=\"190.869141\" xlink:href=\"#DejaVuSans-48\"/>\r\n      </g>\r\n     </g>\r\n    </g>\r\n    <g id=\"ytick_3\">\r\n     <g id=\"line2d_10\">\r\n      <g>\r\n       <use style=\"stroke:#000000;stroke-width:0.8;\" x=\"46.0125\" xlink:href=\"#m540ddbdcc7\" y=\"160.520766\"/>\r\n      </g>\r\n     </g>\r\n     <g id=\"text_10\">\r\n      <!-- 10000 -->\r\n      <g transform=\"translate(7.2 164.319985)scale(0.1 -0.1)\">\r\n       <use xlink:href=\"#DejaVuSans-49\"/>\r\n       <use x=\"63.623047\" xlink:href=\"#DejaVuSans-48\"/>\r\n       <use x=\"127.246094\" xlink:href=\"#DejaVuSans-48\"/>\r\n       <use x=\"190.869141\" xlink:href=\"#DejaVuSans-48\"/>\r\n       <use x=\"254.492188\" xlink:href=\"#DejaVuSans-48\"/>\r\n      </g>\r\n     </g>\r\n    </g>\r\n    <g id=\"ytick_4\">\r\n     <g id=\"line2d_11\">\r\n      <g>\r\n       <use style=\"stroke:#000000;stroke-width:0.8;\" x=\"46.0125\" xlink:href=\"#m540ddbdcc7\" y=\"128.785484\"/>\r\n      </g>\r\n     </g>\r\n     <g id=\"text_11\">\r\n      <!-- 15000 -->\r\n      <g transform=\"translate(7.2 132.584702)scale(0.1 -0.1)\">\r\n       <use xlink:href=\"#DejaVuSans-49\"/>\r\n       <use x=\"63.623047\" xlink:href=\"#DejaVuSans-53\"/>\r\n       <use x=\"127.246094\" xlink:href=\"#DejaVuSans-48\"/>\r\n       <use x=\"190.869141\" xlink:href=\"#DejaVuSans-48\"/>\r\n       <use x=\"254.492188\" xlink:href=\"#DejaVuSans-48\"/>\r\n      </g>\r\n     </g>\r\n    </g>\r\n    <g id=\"ytick_5\">\r\n     <g id=\"line2d_12\">\r\n      <g>\r\n       <use style=\"stroke:#000000;stroke-width:0.8;\" x=\"46.0125\" xlink:href=\"#m540ddbdcc7\" y=\"97.050201\"/>\r\n      </g>\r\n     </g>\r\n     <g id=\"text_12\">\r\n      <!-- 20000 -->\r\n      <g transform=\"translate(7.2 100.84942)scale(0.1 -0.1)\">\r\n       <use xlink:href=\"#DejaVuSans-50\"/>\r\n       <use x=\"63.623047\" xlink:href=\"#DejaVuSans-48\"/>\r\n       <use x=\"127.246094\" xlink:href=\"#DejaVuSans-48\"/>\r\n       <use x=\"190.869141\" xlink:href=\"#DejaVuSans-48\"/>\r\n       <use x=\"254.492188\" xlink:href=\"#DejaVuSans-48\"/>\r\n      </g>\r\n     </g>\r\n    </g>\r\n    <g id=\"ytick_6\">\r\n     <g id=\"line2d_13\">\r\n      <g>\r\n       <use style=\"stroke:#000000;stroke-width:0.8;\" x=\"46.0125\" xlink:href=\"#m540ddbdcc7\" y=\"65.314919\"/>\r\n      </g>\r\n     </g>\r\n     <g id=\"text_13\">\r\n      <!-- 25000 -->\r\n      <g transform=\"translate(7.2 69.114137)scale(0.1 -0.1)\">\r\n       <use xlink:href=\"#DejaVuSans-50\"/>\r\n       <use x=\"63.623047\" xlink:href=\"#DejaVuSans-53\"/>\r\n       <use x=\"127.246094\" xlink:href=\"#DejaVuSans-48\"/>\r\n       <use x=\"190.869141\" xlink:href=\"#DejaVuSans-48\"/>\r\n       <use x=\"254.492188\" xlink:href=\"#DejaVuSans-48\"/>\r\n      </g>\r\n     </g>\r\n    </g>\r\n    <g id=\"ytick_7\">\r\n     <g id=\"line2d_14\">\r\n      <g>\r\n       <use style=\"stroke:#000000;stroke-width:0.8;\" x=\"46.0125\" xlink:href=\"#m540ddbdcc7\" y=\"33.579636\"/>\r\n      </g>\r\n     </g>\r\n     <g id=\"text_14\">\r\n      <!-- 30000 -->\r\n      <g transform=\"translate(7.2 37.378855)scale(0.1 -0.1)\">\r\n       <use xlink:href=\"#DejaVuSans-51\"/>\r\n       <use x=\"63.623047\" xlink:href=\"#DejaVuSans-48\"/>\r\n       <use x=\"127.246094\" xlink:href=\"#DejaVuSans-48\"/>\r\n       <use x=\"190.869141\" xlink:href=\"#DejaVuSans-48\"/>\r\n       <use x=\"254.492188\" xlink:href=\"#DejaVuSans-48\"/>\r\n      </g>\r\n     </g>\r\n    </g>\r\n   </g>\r\n   <g id=\"line2d_15\">\r\n    <path clip-path=\"url(#pcc9e478d2f)\" d=\"M 316.299527 177.949783 \r\nL 309.562992 167.699287 \r\nL 365.594318 113.901636 \r\nL 363.745643 77.88209 \r\nL 358.644846 25.93778 \r\nL 112.606443 17.083636 \r\nL 63.253578 19.044877 \r\nL 61.230682 48.51426 \r\nL 64.753812 172.053368 \r\nL 266.714368 213.531382 \r\nL 348.830411 214.756364 \r\nL 309.562992 167.699287 \r\nL 316.299527 177.949783 \r\n\" style=\"fill:none;stroke:#1f77b4;stroke-linecap:square;stroke-width:1.5;\"/>\r\n   </g>\r\n   <g id=\"patch_3\">\r\n    <path d=\"M 46.0125 224.64 \r\nL 46.0125 7.2 \r\n\" style=\"fill:none;stroke:#000000;stroke-linecap:square;stroke-linejoin:miter;stroke-width:0.8;\"/>\r\n   </g>\r\n   <g id=\"patch_4\">\r\n    <path d=\"M 380.8125 224.64 \r\nL 380.8125 7.2 \r\n\" style=\"fill:none;stroke:#000000;stroke-linecap:square;stroke-linejoin:miter;stroke-width:0.8;\"/>\r\n   </g>\r\n   <g id=\"patch_5\">\r\n    <path d=\"M 46.0125 224.64 \r\nL 380.8125 224.64 \r\n\" style=\"fill:none;stroke:#000000;stroke-linecap:square;stroke-linejoin:miter;stroke-width:0.8;\"/>\r\n   </g>\r\n   <g id=\"patch_6\">\r\n    <path d=\"M 46.0125 7.2 \r\nL 380.8125 7.2 \r\n\" style=\"fill:none;stroke:#000000;stroke-linecap:square;stroke-linejoin:miter;stroke-width:0.8;\"/>\r\n   </g>\r\n  </g>\r\n </g>\r\n <defs>\r\n  <clipPath id=\"pcc9e478d2f\">\r\n   <rect height=\"217.44\" width=\"334.8\" x=\"46.0125\" y=\"7.2\"/>\r\n  </clipPath>\r\n </defs>\r\n</svg>\r\n",
      "image/png": "[encoded data removed]"
     },
     "metadata": {
      "needs_background": "light"
     }
    }
   ],
   "source": [
    "import matplotlib.pyplot as plt\n",
    "\n",
    "#inputSet = [[1,1], [2,2], [3,3], [4,4], [1,4], [3,1], [1,5], [2,4], [3,5]]\n",
    "#outputSet = [[1,1], [3,1], [4,4], [3,5], [1,5]]\n",
    "\n",
    "inputSet = randGeneration(50)\n",
    "outputSet = grahamscan(inputSet)\n",
    "\n",
    "plt.figure()\n",
    "\n",
    "#first do a scatter plot of the inputSet\n",
    "input_xs, input_ys = zip(*inputSet)\n",
    "plt.scatter(input_xs, input_ys)\n",
    "\n",
    "#then do a polygon plot of the computed covex hull\n",
    "outputSet.append(outputSet[0]) #first create a 'closed loop' by adding the first point at the end of the list\n",
    "output_xs, output_ys = zip(*outputSet)\n",
    "plt.plot(output_xs, output_ys) \n",
    "\n",
    "plt.show() "
   ]
  },
  {
   "cell_type": "code",
   "execution_count": null,
   "metadata": {},
   "outputs": [],
   "source": []
  }
 ],
 "metadata": {
  "kernelspec": {
   "display_name": "Python 3",
   "language": "python",
   "name": "python3"
  },
  "language_info": {
   "codemirror_mode": {
    "name": "ipython",
    "version": 3
   },
   "file_extension": ".py",
   "mimetype": "text/x-python",
   "name": "python",
   "nbconvert_exporter": "python",
   "pygments_lexer": "ipython3",
   "version": "3.7.9-final"
  }
 },
 "nbformat": 4,
 "nbformat_minor": 4
}