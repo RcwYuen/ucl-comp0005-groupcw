{
 "cells": [
  {
   "cell_type": "markdown",
   "metadata": {},
   "source": [
    "# Graham scan algorithm"
   ]
  },
  {
   "cell_type": "code",
   "execution_count": 4,
   "metadata": {},
   "outputs": [],
   "source": [
    "import math\n",
    "\n",
    "def centroid(triangle):\n",
    "    # Reference to https://www.mathopenref.com/coordcentroid.html \n",
    "    return [sum([i[0] for i in triangle]) / 3, sum([i[1] for i in triangle]) / 3]\n",
    "\n",
    "def slope(p1, p2):\n",
    "    return (p1[1] - p2[1]) / (p1[0] - p2[0]) if p1[0] - p2[0] != 0 else math.inf\n",
    "\n",
    "def collinear(points):\n",
    "    # The property of collinear points is that given a set of points {s1, s2 , ... , sn}, the gradient between any two points are equal \n",
    "    s1, s2, s3 = slope(points[0], points[1]), slope(points[0], points[2]), slope(points[1], points[2])\n",
    "    return s1 == s2 and s2 == s3 and s1 == s3\n",
    "\n",
    "def pyth(p1, p2):\n",
    "    # Calculates the distance between two points in the R^2 vector space using Pythagorous' \n",
    "    return math.sqrt(math.pow((p1[0] - p2[0]), 2) + math.pow((p1[1] - p2[1]), 2))\n",
    "\n",
    "def changerange(theta):\n",
    "    # The paper used the range of radians to be between [0, 2pi), but the math library uses [-pi, pi) \n",
    "    return theta if theta >= 0 else math.tau + theta\n",
    "\n",
    "def midtest(points):\n",
    "    # Finds the midpoint between 3 collinear points, returns two points which has the longest distance \n",
    "    distances = [pyth(points[0], points[1]), pyth(points[0], points[2]), pyth(points[1], points[2])]\n",
    "    if max(distances) == distances[0]:\n",
    "        return [points[0], points[1]]\n",
    "    return [points[0], points[2]] if max(distances) == distances[1] else [points[1], points[2]]\n",
    "\n",
    "def calcP(inputSet):\n",
    "    # Finds the point P \n",
    "    while collinear(inputSet[:3:]) and len(inputSet) > 3:\n",
    "        inputSet = midtest(inputSet[:3:]) + inputSet[3::]\n",
    "    return centroid(inputSet[:3:])\n",
    "\n",
    "def polar(coordinates):\n",
    "    return [pyth(coordinates, [0,0]), changerange(math.atan2(coordinates[1], coordinates[0]))]\n",
    "\n",
    "def cartesianList(polarHull, P):\n",
    "    return [[round(j) for j in cartesian(i, P)] for i in polarHull]\n",
    "\n",
    "def resetOrigin(P, inputSet):\n",
    "    return [polar([i[0]-P[0], i[1]-P[1]]) for i in inputSet]\n",
    "\n",
    "def cartesian(coordinates, P):\n",
    "    return [(coordinates[0] * math.cos(coordinates[1])) + P[0], (coordinates[0] * math.sin(coordinates[1])) + P[1]]\n",
    "\n",
    "def qsort(inputSet):\n",
    "    # This sorts the set of coordinates by their angle using quick sort\n",
    "    return qsort([i for i in inputSet[1::] if i[1] < inputSet[0][1]]) + [inputSet[0]] + qsort([i for i in inputSet[1::] if i[1] >= inputSet[0][1]]) if len(inputSet) != 0 else []\n",
    "\n",
    "def maxr(inputSet, threshold=1e-8):\n",
    "    # This function selects the polar coordinate with same angle as others but has the largest magnitude\n",
    "    # A threshold default argument has been added to prevent floating point arithmetic errors\n",
    "    polar, curtheta = [], -math.inf\n",
    "    for i in inputSet:\n",
    "        if abs(i[1] - curtheta) < threshold:\n",
    "            polar[-1][0] = max(i[0], polar[-1][0])\n",
    "        else:\n",
    "            polar.append(i)\n",
    "            curtheta = i[1]\n",
    "    return polar\n",
    "\n",
    "def deletenomag(inputSet):\n",
    "    # This function removes the polar coordinates with no magnitude\n",
    "    return [i for i in inputSet if i[0] != 0]\n",
    "\n",
    "def calcAngle(coor1, coor2):\n",
    "    # Note that c is the side oppositing the angle to be found using the cosine rule\n",
    "    a, b, c = coor1[0], pyth(cartesian(coor1, [0, 0]), cartesian(coor2, [0, 0])), coor2[0]\n",
    "    try:\n",
    "        return math.acos((a**2 + b**2 - c**2) / (2*a*b))\n",
    "    except ValueError:  \n",
    "        '''\n",
    "        The only possible way to get a ValueError is when a, b and c cannot form a triangle.  Notice that under the context\n",
    "        of this function the only possible way to get a ValueError is when | arg(coor2) - arg(coor1) | is an element of {0, -pi}.\n",
    "        Since it is not possible that it equals 0, since it would have been deleted from the function maxr, therefore the only\n",
    "        possible way valuation is -pi.\n",
    "        '''\n",
    "        return -math.pi\n",
    "\n",
    "def trace(inputSet):\n",
    "    pointer, tracker = 1, [i for i in inputSet]\n",
    "    # Tracker is explicitly defined this way to prevent affecting the inputSet during running\n",
    "    while tracker != []:\n",
    "        p1, p2, p3 = (pointer-1) % len(inputSet), pointer % len(inputSet), (pointer+1) % len(inputSet)\n",
    "        if calcAngle(inputSet[p2], inputSet[p1]) + calcAngle(inputSet[p2], inputSet[p3]) >= math.pi:\n",
    "            toremove = inputSet[p2]\n",
    "            inputSet.remove(toremove)\n",
    "            pointer -= 1\n",
    "        else:\n",
    "            toremove = inputSet[p1]\n",
    "            pointer += 1\n",
    "        try:\n",
    "            tracker.remove(toremove)\n",
    "        except ValueError:\n",
    "            pass\n",
    "    return inputSet\n",
    "\n",
    "def grahamscan(inputSet):\n",
    "    P = calcP(inputSet)\n",
    "    polarSet = qsort(resetOrigin(P, inputSet))\n",
    "    polarSet = deletenomag(maxr(polarSet))\n",
    "    polarHull = trace(polarSet)\n",
    "    return cartesianList(polarHull, P)"
   ]
  },
  {
   "cell_type": "markdown",
   "metadata": {},
   "source": [
    "Use the cell below for all python code needed to generate test data points (both random and those representing worst-case scenario)."
   ]
  },
  {
   "cell_type": "code",
   "execution_count": 5,
   "metadata": {},
   "outputs": [],
   "source": [
    "import random\n",
    "\n",
    "#code for random data generation\n",
    "def randGeneration(n, lb=0, ub=32767):\n",
    "    return [[random.randint(lb, ub), random.randint(lb, ub)] for i in range(n)]\n",
    "\n",
    "#code for worst case data generation\n",
    "def randWorstGeneration(n):\n",
    "    return [[0,0] for i in range(n)]"
   ]
  },
  {
   "cell_type": "markdown",
   "metadata": {},
   "source": [
    "Use the cell below for all python code needed to test the `grahamscan()` function on the data generated above."
   ]
  },
  {
   "cell_type": "code",
   "execution_count": 7,
   "metadata": {},
   "outputs": [
    {
     "name": "stdout",
     "output_type": "stream",
     "text": [
      "Average case:  [0.0012215999999938276, 0.008129900000000134, 0.022289700000001744, 0.4224238999999983, 1.6627487000000087, 3.6803556999999927, 6.478065200000003]\n"
     ]
    }
   ],
   "source": [
    "import timeit\n",
    "\n",
    "#test code\n",
    "def test(n, worstCase=False, repeats=1):\n",
    "    timetaken = [0 for i in range(len(n))]\n",
    "    for j in range(repeats):\n",
    "        for i in n:\n",
    "            data = randWorstGeneration(int(i)) if worstCase else randGeneration(int(i))\n",
    "            start_time = timeit.default_timer()\n",
    "            _ = grahamscan(data)\n",
    "            timetaken[n.index(i)] = timeit.default_timer() - start_time\n",
    "    return [i/repeats for i in timetaken]\n",
    "\n",
    "n = [1e2, 5e2, 1e3, 5e3, 1e4, 1.5e4, 2e4]\n",
    "r_timetaken = test(n)\n",
    "#w_timetaken = test(n, worstCase = True)\n",
    "print(\"Average case: \",r_timetaken)\n",
    "#print(\"Worst case: \",w_timetaken)"
   ]
  },
  {
   "cell_type": "markdown",
   "metadata": {},
   "source": [
    "*Optional*: Feel free to use the code below on small datasets (e.g., N = 10) to visually inspect whether the algorithm has been implemented correctly. The fragment below assumes both `inputSet` and `outputSet` to be lists of 2D points, with each point being a list of 2 elements (e.g., `[[x1,y1], [x2,y2], ..., [x_k,y_k]]`)"
   ]
  },
  {
   "cell_type": "code",
   "execution_count": 16,
   "metadata": {},
   "outputs": [
    {
     "data": {
      "image/png": "[encoded data removed]",
      "text/plain": [
       "<Figure size 432x288 with 1 Axes>"
      ]
     },
     "metadata": {
      "needs_background": "light"
     },
     "output_type": "display_data"
    }
   ],
   "source": [
    "import matplotlib.pyplot as plt\n",
    "\n",
    "#inputSet = [[1,1], [2,2], [3,3], [4,4], [1,4], [3,1], [1,5], [2,4], [3,5]]\n",
    "#outputSet = [[1,1], [3,1], [4,4], [3,5], [1,5]]\n",
    "\n",
    "inputSet = randGeneration(50)\n",
    "outputSet = grahamscan(inputSet)\n",
    "\n",
    "plt.figure()\n",
    "\n",
    "#first do a scatter plot of the inputSet\n",
    "input_xs, input_ys = zip(*inputSet)\n",
    "plt.scatter(input_xs, input_ys)\n",
    "\n",
    "#then do a polygon plot of the computed covex hull\n",
    "outputSet.append(outputSet[0]) #first create a 'closed loop' by adding the first point at the end of the list\n",
    "output_xs, output_ys = zip(*outputSet)\n",
    "plt.plot(output_xs, output_ys) \n",
    "\n",
    "plt.show() "
   ]
  },
  {
   "cell_type": "code",
   "execution_count": null,
   "metadata": {},
   "outputs": [],
   "source": []
  },
  {
   "cell_type": "code",
   "execution_count": null,
   "metadata": {},
   "outputs": [],
   "source": []
  },
  {
   "cell_type": "code",
   "execution_count": null,
   "metadata": {},
   "outputs": [],
   "source": []
  }
 ],
 "metadata": {
  "kernelspec": {
   "display_name": "Python 3",
   "language": "python",
   "name": "python3"
  },
  "language_info": {
   "codemirror_mode": {
    "name": "ipython",
    "version": 3
   },
   "file_extension": ".py",
   "mimetype": "text/x-python",
   "name": "python",
   "nbconvert_exporter": "python",
   "pygments_lexer": "ipython3",
   "version": "3.8.6rc1"
  }
 },
 "nbformat": 4,
 "nbformat_minor": 4
}
