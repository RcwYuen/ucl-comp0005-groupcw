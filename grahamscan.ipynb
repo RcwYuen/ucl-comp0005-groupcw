{
 "cells": [
  {
   "cell_type": "markdown",
   "metadata": {},
   "source": [
    "# Graham scan algorithm"
   ]
  },
  {
   "cell_type": "code",
   "execution_count": 1,
   "metadata": {},
   "outputs": [],
   "source": [
    "import math\n",
    "\n",
    "def centroid(triangle):\n",
    "    # Reference to https://www.mathopenref.com/coordcentroid.html \n",
    "    return [sum([i[0] for i in triangle]) / 3, sum([i[1] for i in triangle]) / 3]\n",
    "\n",
    "def slope(p1, p2):\n",
    "    return (p1[1] - p2[1]) / (p1[0] - p2[0]) if p1[0] - p2[0] != 0 else math.inf\n",
    "\n",
    "def collinear(points):\n",
    "    # The property of collinear points is that given a set of points {s1, s2 , ... , sn}, the gradient between any two points are equal \n",
    "    s1, s2, s3 = slope(points[0], points[1]), slope(points[0], points[2]), slope(points[1], points[2])\n",
    "    return s1 == s2 and s2 == s3 and s1 == s3\n",
    "\n",
    "def pyth(p1, p2):\n",
    "    # Calculates the distance between two points in the R^2 vector space using Pythagorous' \n",
    "    return math.sqrt(math.pow((p1[0] - p2[0]), 2) + math.pow((p1[1] - p2[1]), 2))\n",
    "\n",
    "def changerange(theta):\n",
    "    # The paper used the range of radians to be between [0, 2pi), but the math library uses [-pi, pi) \n",
    "    return theta if theta >= 0 else math.tau + theta\n",
    "\n",
    "def midtest(points):\n",
    "    # Finds the midpoint between 3 collinear points, returns two points which has the longest distance \n",
    "    distances = [pyth(points[0], points[1]), pyth(points[0], points[2]), pyth(points[1], points[2])]\n",
    "    if max(distances) == distances[0]:\n",
    "        return [points[0], points[1]]\n",
    "    return [points[0], points[2]] if max(distances) == distances[1] else [points[1], points[2]]\n",
    "\n",
    "def calcP(inputSet):\n",
    "    # Finds the point P \n",
    "    while collinear(inputSet[:3:]) and len(inputSet) > 3:\n",
    "        inputSet = midtest(inputSet[:3:]) + inputSet[3::]\n",
    "    return centroid(inputSet[:3:])\n",
    "\n",
    "def polar(coordinates):\n",
    "    return [pyth(coordinates, [0,0]), changerange(math.atan2(coordinates[1], coordinates[0]))]\n",
    "\n",
    "def cartesianList(polarHull, P):\n",
    "    return [[round(j) for j in cartesian(i, P)] for i in polarHull]\n",
    "\n",
    "def resetOrigin(P, inputSet):\n",
    "    return [polar([i[0]-P[0], i[1]-P[1]]) for i in inputSet]\n",
    "\n",
    "def cartesian(coordinates, P):\n",
    "    return [(coordinates[0] * math.cos(coordinates[1])) + P[0], (coordinates[0] * math.sin(coordinates[1])) + P[1]]\n",
    "\n",
    "def qsort(inputSet):\n",
    "    # This sorts the set of coordinates by their angle using quick sort\n",
    "    return qsort([i for i in inputSet[1::] if i[1] < inputSet[0][1]]) + [inputSet[0]] + qsort([i for i in inputSet[1::] if i[1] >= inputSet[0][1]]) if len(inputSet) != 0 else []\n",
    "\n",
    "def maxr(inputSet, threshold=1e-8):\n",
    "    # This function selects the polar coordinate with same angle as others but has the largest magnitude recursively\n",
    "    # A threshold default argument has been added to prevent floating point arithmetic errors\n",
    "    polar, curtheta = [], -math.inf\n",
    "    for i in inputSet:\n",
    "        if abs(i[1] - curtheta) < threshold:\n",
    "            polar[-1][0] = max(i[0], polar[-1][0])\n",
    "        else:\n",
    "            polar.append(i)\n",
    "            curtheta = i[1]\n",
    "    return polar\n",
    "\n",
    "def deletenomag(inputSet):\n",
    "    # This function removes the polar coordinates with no magnitude\n",
    "    return [i for i in inputSet if i[0] != 0]\n",
    "\n",
    "def calcAngle(coor1, coor2):\n",
    "    # Note that c is the side oppositing the angle to be found using the cosine rule\n",
    "    a, b, c = coor1[0], pyth(cartesian(coor1, [0, 0]), cartesian(coor2, [0, 0])), coor2[0]\n",
    "    try:\n",
    "        return math.acos((a**2 + b**2 - c**2) / (2*a*b))\n",
    "    except ValueError:  \n",
    "        '''\n",
    "        The only possible way to get a ValueError is when a, b and c cannot form a triangle.  Notice that under the context\n",
    "        of this function the only possible way to get a ValueError is when | arg(coor2) - arg(coor1) | is an element of {0, -pi}.\n",
    "        Since it is not possible that it equals 0, since it would have been deleted from the function maxr, therefore the only\n",
    "        possible way valuation is -pi.\n",
    "        '''\n",
    "        return -math.pi\n",
    "\n",
    "    except ZeroDivisionError:\n",
    "        print (cartesian(coor1, [0, 0]), cartesian(coor2, [0, 0]))\n",
    "        quit()\n",
    "\n",
    "def trace(inputSet):\n",
    "    pointer, tracker = 1, [i for i in inputSet]\n",
    "    # Tracker is explicitly defined this way to prevent affecting the inputSet during running\n",
    "    while tracker != []:\n",
    "        p1, p2, p3 = (pointer-1) % len(inputSet), pointer % len(inputSet), (pointer+1) % len(inputSet)\n",
    "        if calcAngle(inputSet[p2], inputSet[p1]) + calcAngle(inputSet[p2], inputSet[p3]) >= math.pi:\n",
    "            toremove = inputSet[p2]\n",
    "            inputSet.remove(toremove)\n",
    "            pointer -= 1\n",
    "        else:\n",
    "            toremove = inputSet[p1]\n",
    "            pointer += 1\n",
    "        try:\n",
    "            tracker.remove(toremove)\n",
    "        except ValueError:\n",
    "            pass\n",
    "    return inputSet\n",
    "\n",
    "def grahamscan(inputSet):\n",
    "    P = calcP(inputSet)\n",
    "    polarSet = qsort(resetOrigin(P, inputSet))\n",
    "    polarSet = deletenomag(maxr(polarSet))\n",
    "    polarHull = trace(polarSet)\n",
    "    # The Modulus of the Polar Coordinate is set to -1 to force it to be replaced on the first recursive flow of maxr since it is not possible that the magnitude is -1\n",
    "    return cartesianList(polarHull, P) # the program converts the polar coordinates to cartesian during output"
   ]
  },
  {
   "cell_type": "markdown",
   "metadata": {},
   "source": [
    "Use the cell below for all python code needed to generate test data points (both random and those representing worst-case scenario)."
   ]
  },
  {
   "cell_type": "code",
   "execution_count": 2,
   "metadata": {},
   "outputs": [],
   "source": [
    "import random\n",
    "\n",
    "#code for random data generation\n",
    "def randGeneration(n, lb=0, ub=32767):\n",
    "    return [[random.randint(lb, ub), random.randint(lb, ub)] for i in range(n)]\n",
    "\n",
    "#code for worst case data generation\n",
    "def randWorstGeneration(n):\n",
    "    return [[0,0] for i in range(n)]"
   ]
  },
  {
   "cell_type": "markdown",
   "metadata": {},
   "source": [
    "Use the cell below for all python code needed to test the `grahamscan()` function on the data generated above."
   ]
  },
  {
   "cell_type": "code",
   "execution_count": 3,
   "metadata": {},
   "outputs": [],
   "source": [
    "import timeit\n",
    "\n",
    "#test code\n",
    "def test(n, worstCase=False, repeats=1):\n",
    "    timetaken = [0 for i in range(len(n))]\n",
    "    for j in range(repeats):\n",
    "        for i in n:\n",
    "            data = randWorstGeneration(int(i)) if worstCase else randGeneration(int(i))\n",
    "            start_time = timeit.default_timer()\n",
    "            _ = grahamscan(data)\n",
    "            timetaken[n.index(i)] = timeit.default_timer() - start_time\n",
    "    return [i/repeats for i in timetaken]\n",
    "\n",
    "n = [1e2, 5e2, 1e3, 5e3, 1e4, 1.5e4, 2e4]\n",
    "r_timetaken = test(n)\n",
    "#w_timetaken = test(n, worstCase = True)"
   ]
  },
  {
   "source": [
    "*Optional*: Feel free to use the code below on small datasets (e.g., N = 10) to visually inspect whether the algorithm has been implemented correctly. The fragment below assumes both `inputSet` and `outputSet` to be lists of 2D points, with each point being a list of 2 elements (e.g., `[[x1,y1], [x2,y2], ..., [x_k,y_k]]`)"
   ],
   "cell_type": "markdown",
   "metadata": {}
  },
  {
   "cell_type": "code",
   "execution_count": 8,
   "metadata": {},
   "outputs": [
    {
     "output_type": "display_data",
     "data": {
      "text/plain": "<Figure size 432x288 with 1 Axes>",
      "image/svg+xml": "<?xml version=\"1.0\" encoding=\"utf-8\" standalone=\"no\"?>\r\n<!DOCTYPE svg PUBLIC \"-//W3C//DTD SVG 1.1//EN\"\r\n  \"http://www.w3.org/Graphics/SVG/1.1/DTD/svg11.dtd\">\r\n<!-- Created with matplotlib (https://matplotlib.org/) -->\r\n<svg height=\"248.518125pt\" version=\"1.1\" viewBox=\"0 0 388.0125 248.518125\" width=\"388.0125pt\" xmlns=\"http://www.w3.org/2000/svg\" xmlns:xlink=\"http://www.w3.org/1999/xlink\">\r\n <metadata>\r\n  <rdf:RDF xmlns:cc=\"http://creativecommons.org/ns#\" xmlns:dc=\"http://purl.org/dc/elements/1.1/\" xmlns:rdf=\"http://www.w3.org/1999/02/22-rdf-syntax-ns#\">\r\n   <cc:Work>\r\n    <dc:type rdf:resource=\"http://purl.org/dc/dcmitype/StillImage\"/>\r\n    <dc:date>2021-02-12T04:52:39.584569</dc:date>\r\n    <dc:format>image/svg+xml</dc:format>\r\n    <dc:creator>\r\n     <cc:Agent>\r\n      <dc:title>Matplotlib v3.3.2, https://matplotlib.org/</dc:title>\r\n     </cc:Agent>\r\n    </dc:creator>\r\n   </cc:Work>\r\n  </rdf:RDF>\r\n </metadata>\r\n <defs>\r\n  <style type=\"text/css\">*{stroke-linecap:butt;stroke-linejoin:round;}</style>\r\n </defs>\r\n <g id=\"figure_1\">\r\n  <g id=\"patch_1\">\r\n   <path d=\"M 0 248.518125 \r\nL 388.0125 248.518125 \r\nL 388.0125 0 \r\nL 0 0 \r\nz\r\n\" style=\"fill:none;\"/>\r\n  </g>\r\n  <g id=\"axes_1\">\r\n   <g id=\"patch_2\">\r\n    <path d=\"M 46.0125 224.64 \r\nL 380.8125 224.64 \r\nL 380.8125 7.2 \r\nL 46.0125 7.2 \r\nz\r\n\" style=\"fill:#ffffff;\"/>\r\n   </g>\r\n   <g id=\"PathCollection_1\">\r\n    <defs>\r\n     <path d=\"M 0 3 \r\nC 0.795609 3 1.55874 2.683901 2.12132 2.12132 \r\nC 2.683901 1.55874 3 0.795609 3 0 \r\nC 3 -0.795609 2.683901 -1.55874 2.12132 -2.12132 \r\nC 1.55874 -2.683901 0.795609 -3 0 -3 \r\nC -0.795609 -3 -1.55874 -2.683901 -2.12132 -2.12132 \r\nC -2.683901 -1.55874 -3 -0.795609 -3 0 \r\nC -3 0.795609 -2.683901 1.55874 -2.12132 2.12132 \r\nC -1.55874 2.683901 -0.795609 3 0 3 \r\nz\r\n\" id=\"m026eb157f6\" style=\"stroke:#1f77b4;\"/>\r\n    </defs>\r\n    <g clip-path=\"url(#p5265599b0f)\">\r\n     <use style=\"fill:#1f77b4;stroke:#1f77b4;\" x=\"192.007447\" xlink:href=\"#m026eb157f6\" y=\"26.543902\"/>\r\n     <use style=\"fill:#1f77b4;stroke:#1f77b4;\" x=\"334.929352\" xlink:href=\"#m026eb157f6\" y=\"24.38334\"/>\r\n     <use style=\"fill:#1f77b4;stroke:#1f77b4;\" x=\"149.096636\" xlink:href=\"#m026eb157f6\" y=\"17.083636\"/>\r\n     <use style=\"fill:#1f77b4;stroke:#1f77b4;\" x=\"179.983155\" xlink:href=\"#m026eb157f6\" y=\"90.392893\"/>\r\n     <use style=\"fill:#1f77b4;stroke:#1f77b4;\" x=\"284.999335\" xlink:href=\"#m026eb157f6\" y=\"129.476592\"/>\r\n     <use style=\"fill:#1f77b4;stroke:#1f77b4;\" x=\"116.709598\" xlink:href=\"#m026eb157f6\" y=\"102.032454\"/>\r\n     <use style=\"fill:#1f77b4;stroke:#1f77b4;\" x=\"225.341121\" xlink:href=\"#m026eb157f6\" y=\"182.922412\"/>\r\n     <use style=\"fill:#1f77b4;stroke:#1f77b4;\" x=\"187.606597\" xlink:href=\"#m026eb157f6\" y=\"17.970341\"/>\r\n     <use style=\"fill:#1f77b4;stroke:#1f77b4;\" x=\"117.495104\" xlink:href=\"#m026eb157f6\" y=\"39.519766\"/>\r\n     <use style=\"fill:#1f77b4;stroke:#1f77b4;\" x=\"365.594318\" xlink:href=\"#m026eb157f6\" y=\"159.805643\"/>\r\n     <use style=\"fill:#1f77b4;stroke:#1f77b4;\" x=\"77.686036\" xlink:href=\"#m026eb157f6\" y=\"116.07611\"/>\r\n     <use style=\"fill:#1f77b4;stroke:#1f77b4;\" x=\"63.345507\" xlink:href=\"#m026eb157f6\" y=\"156.889509\"/>\r\n     <use style=\"fill:#1f77b4;stroke:#1f77b4;\" x=\"69.317371\" xlink:href=\"#m026eb157f6\" y=\"178.095491\"/>\r\n     <use style=\"fill:#1f77b4;stroke:#1f77b4;\" x=\"62.056471\" xlink:href=\"#m026eb157f6\" y=\"201.137327\"/>\r\n     <use style=\"fill:#1f77b4;stroke:#1f77b4;\" x=\"65.510685\" xlink:href=\"#m026eb157f6\" y=\"115.13945\"/>\r\n     <use style=\"fill:#1f77b4;stroke:#1f77b4;\" x=\"293.237083\" xlink:href=\"#m026eb157f6\" y=\"41.805216\"/>\r\n     <use style=\"fill:#1f77b4;stroke:#1f77b4;\" x=\"359.199489\" xlink:href=\"#m026eb157f6\" y=\"72.565131\"/>\r\n     <use style=\"fill:#1f77b4;stroke:#1f77b4;\" x=\"169.902488\" xlink:href=\"#m026eb157f6\" y=\"214.756364\"/>\r\n     <use style=\"fill:#1f77b4;stroke:#1f77b4;\" x=\"157.77749\" xlink:href=\"#m026eb157f6\" y=\"179.625369\"/>\r\n     <use style=\"fill:#1f77b4;stroke:#1f77b4;\" x=\"134.423777\" xlink:href=\"#m026eb157f6\" y=\"192.00177\"/>\r\n     <use style=\"fill:#1f77b4;stroke:#1f77b4;\" x=\"149.731083\" xlink:href=\"#m026eb157f6\" y=\"192.295257\"/>\r\n     <use style=\"fill:#1f77b4;stroke:#1f77b4;\" x=\"223.528414\" xlink:href=\"#m026eb157f6\" y=\"134.547045\"/>\r\n     <use style=\"fill:#1f77b4;stroke:#1f77b4;\" x=\"364.395917\" xlink:href=\"#m026eb157f6\" y=\"188.523639\"/>\r\n     <use style=\"fill:#1f77b4;stroke:#1f77b4;\" x=\"310.457803\" xlink:href=\"#m026eb157f6\" y=\"26.662546\"/>\r\n     <use style=\"fill:#1f77b4;stroke:#1f77b4;\" x=\"162.893353\" xlink:href=\"#m026eb157f6\" y=\"34.280714\"/>\r\n     <use style=\"fill:#1f77b4;stroke:#1f77b4;\" x=\"246.610221\" xlink:href=\"#m026eb157f6\" y=\"201.830456\"/>\r\n     <use style=\"fill:#1f77b4;stroke:#1f77b4;\" x=\"230.235431\" xlink:href=\"#m026eb157f6\" y=\"164.364055\"/>\r\n     <use style=\"fill:#1f77b4;stroke:#1f77b4;\" x=\"155.974853\" xlink:href=\"#m026eb157f6\" y=\"39.863208\"/>\r\n     <use style=\"fill:#1f77b4;stroke:#1f77b4;\" x=\"307.064012\" xlink:href=\"#m026eb157f6\" y=\"80.838961\"/>\r\n     <use style=\"fill:#1f77b4;stroke:#1f77b4;\" x=\"186.327631\" xlink:href=\"#m026eb157f6\" y=\"126.872678\"/>\r\n     <use style=\"fill:#1f77b4;stroke:#1f77b4;\" x=\"328.665441\" xlink:href=\"#m026eb157f6\" y=\"34.948865\"/>\r\n     <use style=\"fill:#1f77b4;stroke:#1f77b4;\" x=\"89.55927\" xlink:href=\"#m026eb157f6\" y=\"92.210013\"/>\r\n     <use style=\"fill:#1f77b4;stroke:#1f77b4;\" x=\"89.237011\" xlink:href=\"#m026eb157f6\" y=\"67.120014\"/>\r\n     <use style=\"fill:#1f77b4;stroke:#1f77b4;\" x=\"190.939964\" xlink:href=\"#m026eb157f6\" y=\"150.070624\"/>\r\n     <use style=\"fill:#1f77b4;stroke:#1f77b4;\" x=\"191.352858\" xlink:href=\"#m026eb157f6\" y=\"64.366233\"/>\r\n     <use style=\"fill:#1f77b4;stroke:#1f77b4;\" x=\"247.002974\" xlink:href=\"#m026eb157f6\" y=\"160.086641\"/>\r\n     <use style=\"fill:#1f77b4;stroke:#1f77b4;\" x=\"61.230682\" xlink:href=\"#m026eb157f6\" y=\"114.57121\"/>\r\n     <use style=\"fill:#1f77b4;stroke:#1f77b4;\" x=\"275.734386\" xlink:href=\"#m026eb157f6\" y=\"81.020048\"/>\r\n     <use style=\"fill:#1f77b4;stroke:#1f77b4;\" x=\"95.319651\" xlink:href=\"#m026eb157f6\" y=\"160.898413\"/>\r\n     <use style=\"fill:#1f77b4;stroke:#1f77b4;\" x=\"136.951496\" xlink:href=\"#m026eb157f6\" y=\"134.815554\"/>\r\n     <use style=\"fill:#1f77b4;stroke:#1f77b4;\" x=\"343.992889\" xlink:href=\"#m026eb157f6\" y=\"178.788619\"/>\r\n     <use style=\"fill:#1f77b4;stroke:#1f77b4;\" x=\"88.39108\" xlink:href=\"#m026eb157f6\" y=\"200.000846\"/>\r\n     <use style=\"fill:#1f77b4;stroke:#1f77b4;\" x=\"324.184026\" xlink:href=\"#m026eb157f6\" y=\"194.162332\"/>\r\n     <use style=\"fill:#1f77b4;stroke:#1f77b4;\" x=\"277.244976\" xlink:href=\"#m026eb157f6\" y=\"125.155468\"/>\r\n     <use style=\"fill:#1f77b4;stroke:#1f77b4;\" x=\"322.723789\" xlink:href=\"#m026eb157f6\" y=\"116.563173\"/>\r\n     <use style=\"fill:#1f77b4;stroke:#1f77b4;\" x=\"350.327294\" xlink:href=\"#m026eb157f6\" y=\"207.150684\"/>\r\n     <use style=\"fill:#1f77b4;stroke:#1f77b4;\" x=\"323.730849\" xlink:href=\"#m026eb157f6\" y=\"135.514927\"/>\r\n     <use style=\"fill:#1f77b4;stroke:#1f77b4;\" x=\"200.134419\" xlink:href=\"#m026eb157f6\" y=\"162.222226\"/>\r\n     <use style=\"fill:#1f77b4;stroke:#1f77b4;\" x=\"90.213858\" xlink:href=\"#m026eb157f6\" y=\"103.094002\"/>\r\n     <use style=\"fill:#1f77b4;stroke:#1f77b4;\" x=\"82.670982\" xlink:href=\"#m026eb157f6\" y=\"202.742138\"/>\r\n    </g>\r\n   </g>\r\n   <g id=\"matplotlib.axis_1\">\r\n    <g id=\"xtick_1\">\r\n     <g id=\"line2d_1\">\r\n      <defs>\r\n       <path d=\"M 0 0 \r\nL 0 3.5 \r\n\" id=\"ma7455d721b\" style=\"stroke:#000000;stroke-width:0.8;\"/>\r\n      </defs>\r\n      <g>\r\n       <use style=\"stroke:#000000;stroke-width:0.8;\" x=\"58.15915\" xlink:href=\"#ma7455d721b\" y=\"224.64\"/>\r\n      </g>\r\n     </g>\r\n     <g id=\"text_1\">\r\n      <!-- 0 -->\r\n      <g transform=\"translate(54.9779 239.238437)scale(0.1 -0.1)\">\r\n       <defs>\r\n        <path d=\"M 31.78125 66.40625 \r\nQ 24.171875 66.40625 20.328125 58.90625 \r\nQ 16.5 51.421875 16.5 36.375 \r\nQ 16.5 21.390625 20.328125 13.890625 \r\nQ 24.171875 6.390625 31.78125 6.390625 \r\nQ 39.453125 6.390625 43.28125 13.890625 \r\nQ 47.125 21.390625 47.125 36.375 \r\nQ 47.125 51.421875 43.28125 58.90625 \r\nQ 39.453125 66.40625 31.78125 66.40625 \r\nz\r\nM 31.78125 74.21875 \r\nQ 44.046875 74.21875 50.515625 64.515625 \r\nQ 56.984375 54.828125 56.984375 36.375 \r\nQ 56.984375 17.96875 50.515625 8.265625 \r\nQ 44.046875 -1.421875 31.78125 -1.421875 \r\nQ 19.53125 -1.421875 13.0625 8.265625 \r\nQ 6.59375 17.96875 6.59375 36.375 \r\nQ 6.59375 54.828125 13.0625 64.515625 \r\nQ 19.53125 74.21875 31.78125 74.21875 \r\nz\r\n\" id=\"DejaVuSans-48\"/>\r\n       </defs>\r\n       <use xlink:href=\"#DejaVuSans-48\"/>\r\n      </g>\r\n     </g>\r\n    </g>\r\n    <g id=\"xtick_2\">\r\n     <g id=\"line2d_2\">\r\n      <g>\r\n       <use style=\"stroke:#000000;stroke-width:0.8;\" x=\"108.512132\" xlink:href=\"#ma7455d721b\" y=\"224.64\"/>\r\n      </g>\r\n     </g>\r\n     <g id=\"text_2\">\r\n      <!-- 5000 -->\r\n      <g transform=\"translate(95.787132 239.238437)scale(0.1 -0.1)\">\r\n       <defs>\r\n        <path d=\"M 10.796875 72.90625 \r\nL 49.515625 72.90625 \r\nL 49.515625 64.59375 \r\nL 19.828125 64.59375 \r\nL 19.828125 46.734375 \r\nQ 21.96875 47.46875 24.109375 47.828125 \r\nQ 26.265625 48.1875 28.421875 48.1875 \r\nQ 40.625 48.1875 47.75 41.5 \r\nQ 54.890625 34.8125 54.890625 23.390625 \r\nQ 54.890625 11.625 47.5625 5.09375 \r\nQ 40.234375 -1.421875 26.90625 -1.421875 \r\nQ 22.3125 -1.421875 17.546875 -0.640625 \r\nQ 12.796875 0.140625 7.71875 1.703125 \r\nL 7.71875 11.625 \r\nQ 12.109375 9.234375 16.796875 8.0625 \r\nQ 21.484375 6.890625 26.703125 6.890625 \r\nQ 35.15625 6.890625 40.078125 11.328125 \r\nQ 45.015625 15.765625 45.015625 23.390625 \r\nQ 45.015625 31 40.078125 35.4375 \r\nQ 35.15625 39.890625 26.703125 39.890625 \r\nQ 22.75 39.890625 18.8125 39.015625 \r\nQ 14.890625 38.140625 10.796875 36.28125 \r\nz\r\n\" id=\"DejaVuSans-53\"/>\r\n       </defs>\r\n       <use xlink:href=\"#DejaVuSans-53\"/>\r\n       <use x=\"63.623047\" xlink:href=\"#DejaVuSans-48\"/>\r\n       <use x=\"127.246094\" xlink:href=\"#DejaVuSans-48\"/>\r\n       <use x=\"190.869141\" xlink:href=\"#DejaVuSans-48\"/>\r\n      </g>\r\n     </g>\r\n    </g>\r\n    <g id=\"xtick_3\">\r\n     <g id=\"line2d_3\">\r\n      <g>\r\n       <use style=\"stroke:#000000;stroke-width:0.8;\" x=\"158.865114\" xlink:href=\"#ma7455d721b\" y=\"224.64\"/>\r\n      </g>\r\n     </g>\r\n     <g id=\"text_3\">\r\n      <!-- 10000 -->\r\n      <g transform=\"translate(142.958864 239.238437)scale(0.1 -0.1)\">\r\n       <defs>\r\n        <path d=\"M 12.40625 8.296875 \r\nL 28.515625 8.296875 \r\nL 28.515625 63.921875 \r\nL 10.984375 60.40625 \r\nL 10.984375 69.390625 \r\nL 28.421875 72.90625 \r\nL 38.28125 72.90625 \r\nL 38.28125 8.296875 \r\nL 54.390625 8.296875 \r\nL 54.390625 0 \r\nL 12.40625 0 \r\nz\r\n\" id=\"DejaVuSans-49\"/>\r\n       </defs>\r\n       <use xlink:href=\"#DejaVuSans-49\"/>\r\n       <use x=\"63.623047\" xlink:href=\"#DejaVuSans-48\"/>\r\n       <use x=\"127.246094\" xlink:href=\"#DejaVuSans-48\"/>\r\n       <use x=\"190.869141\" xlink:href=\"#DejaVuSans-48\"/>\r\n       <use x=\"254.492188\" xlink:href=\"#DejaVuSans-48\"/>\r\n      </g>\r\n     </g>\r\n    </g>\r\n    <g id=\"xtick_4\">\r\n     <g id=\"line2d_4\">\r\n      <g>\r\n       <use style=\"stroke:#000000;stroke-width:0.8;\" x=\"209.218097\" xlink:href=\"#ma7455d721b\" y=\"224.64\"/>\r\n      </g>\r\n     </g>\r\n     <g id=\"text_4\">\r\n      <!-- 15000 -->\r\n      <g transform=\"translate(193.311847 239.238437)scale(0.1 -0.1)\">\r\n       <use xlink:href=\"#DejaVuSans-49\"/>\r\n       <use x=\"63.623047\" xlink:href=\"#DejaVuSans-53\"/>\r\n       <use x=\"127.246094\" xlink:href=\"#DejaVuSans-48\"/>\r\n       <use x=\"190.869141\" xlink:href=\"#DejaVuSans-48\"/>\r\n       <use x=\"254.492188\" xlink:href=\"#DejaVuSans-48\"/>\r\n      </g>\r\n     </g>\r\n    </g>\r\n    <g id=\"xtick_5\">\r\n     <g id=\"line2d_5\">\r\n      <g>\r\n       <use style=\"stroke:#000000;stroke-width:0.8;\" x=\"259.571079\" xlink:href=\"#ma7455d721b\" y=\"224.64\"/>\r\n      </g>\r\n     </g>\r\n     <g id=\"text_5\">\r\n      <!-- 20000 -->\r\n      <g transform=\"translate(243.664829 239.238437)scale(0.1 -0.1)\">\r\n       <defs>\r\n        <path d=\"M 19.1875 8.296875 \r\nL 53.609375 8.296875 \r\nL 53.609375 0 \r\nL 7.328125 0 \r\nL 7.328125 8.296875 \r\nQ 12.9375 14.109375 22.625 23.890625 \r\nQ 32.328125 33.6875 34.8125 36.53125 \r\nQ 39.546875 41.84375 41.421875 45.53125 \r\nQ 43.3125 49.21875 43.3125 52.78125 \r\nQ 43.3125 58.59375 39.234375 62.25 \r\nQ 35.15625 65.921875 28.609375 65.921875 \r\nQ 23.96875 65.921875 18.8125 64.3125 \r\nQ 13.671875 62.703125 7.8125 59.421875 \r\nL 7.8125 69.390625 \r\nQ 13.765625 71.78125 18.9375 73 \r\nQ 24.125 74.21875 28.421875 74.21875 \r\nQ 39.75 74.21875 46.484375 68.546875 \r\nQ 53.21875 62.890625 53.21875 53.421875 \r\nQ 53.21875 48.921875 51.53125 44.890625 \r\nQ 49.859375 40.875 45.40625 35.40625 \r\nQ 44.1875 33.984375 37.640625 27.21875 \r\nQ 31.109375 20.453125 19.1875 8.296875 \r\nz\r\n\" id=\"DejaVuSans-50\"/>\r\n       </defs>\r\n       <use xlink:href=\"#DejaVuSans-50\"/>\r\n       <use x=\"63.623047\" xlink:href=\"#DejaVuSans-48\"/>\r\n       <use x=\"127.246094\" xlink:href=\"#DejaVuSans-48\"/>\r\n       <use x=\"190.869141\" xlink:href=\"#DejaVuSans-48\"/>\r\n       <use x=\"254.492188\" xlink:href=\"#DejaVuSans-48\"/>\r\n      </g>\r\n     </g>\r\n    </g>\r\n    <g id=\"xtick_6\">\r\n     <g id=\"line2d_6\">\r\n      <g>\r\n       <use style=\"stroke:#000000;stroke-width:0.8;\" x=\"309.924061\" xlink:href=\"#ma7455d721b\" y=\"224.64\"/>\r\n      </g>\r\n     </g>\r\n     <g id=\"text_6\">\r\n      <!-- 25000 -->\r\n      <g transform=\"translate(294.017811 239.238437)scale(0.1 -0.1)\">\r\n       <use xlink:href=\"#DejaVuSans-50\"/>\r\n       <use x=\"63.623047\" xlink:href=\"#DejaVuSans-53\"/>\r\n       <use x=\"127.246094\" xlink:href=\"#DejaVuSans-48\"/>\r\n       <use x=\"190.869141\" xlink:href=\"#DejaVuSans-48\"/>\r\n       <use x=\"254.492188\" xlink:href=\"#DejaVuSans-48\"/>\r\n      </g>\r\n     </g>\r\n    </g>\r\n    <g id=\"xtick_7\">\r\n     <g id=\"line2d_7\">\r\n      <g>\r\n       <use style=\"stroke:#000000;stroke-width:0.8;\" x=\"360.277043\" xlink:href=\"#ma7455d721b\" y=\"224.64\"/>\r\n      </g>\r\n     </g>\r\n     <g id=\"text_7\">\r\n      <!-- 30000 -->\r\n      <g transform=\"translate(344.370793 239.238437)scale(0.1 -0.1)\">\r\n       <defs>\r\n        <path d=\"M 40.578125 39.3125 \r\nQ 47.65625 37.796875 51.625 33 \r\nQ 55.609375 28.21875 55.609375 21.1875 \r\nQ 55.609375 10.40625 48.1875 4.484375 \r\nQ 40.765625 -1.421875 27.09375 -1.421875 \r\nQ 22.515625 -1.421875 17.65625 -0.515625 \r\nQ 12.796875 0.390625 7.625 2.203125 \r\nL 7.625 11.71875 \r\nQ 11.71875 9.328125 16.59375 8.109375 \r\nQ 21.484375 6.890625 26.8125 6.890625 \r\nQ 36.078125 6.890625 40.9375 10.546875 \r\nQ 45.796875 14.203125 45.796875 21.1875 \r\nQ 45.796875 27.640625 41.28125 31.265625 \r\nQ 36.765625 34.90625 28.71875 34.90625 \r\nL 20.21875 34.90625 \r\nL 20.21875 43.015625 \r\nL 29.109375 43.015625 \r\nQ 36.375 43.015625 40.234375 45.921875 \r\nQ 44.09375 48.828125 44.09375 54.296875 \r\nQ 44.09375 59.90625 40.109375 62.90625 \r\nQ 36.140625 65.921875 28.71875 65.921875 \r\nQ 24.65625 65.921875 20.015625 65.03125 \r\nQ 15.375 64.15625 9.8125 62.3125 \r\nL 9.8125 71.09375 \r\nQ 15.4375 72.65625 20.34375 73.4375 \r\nQ 25.25 74.21875 29.59375 74.21875 \r\nQ 40.828125 74.21875 47.359375 69.109375 \r\nQ 53.90625 64.015625 53.90625 55.328125 \r\nQ 53.90625 49.265625 50.4375 45.09375 \r\nQ 46.96875 40.921875 40.578125 39.3125 \r\nz\r\n\" id=\"DejaVuSans-51\"/>\r\n       </defs>\r\n       <use xlink:href=\"#DejaVuSans-51\"/>\r\n       <use x=\"63.623047\" xlink:href=\"#DejaVuSans-48\"/>\r\n       <use x=\"127.246094\" xlink:href=\"#DejaVuSans-48\"/>\r\n       <use x=\"190.869141\" xlink:href=\"#DejaVuSans-48\"/>\r\n       <use x=\"254.492188\" xlink:href=\"#DejaVuSans-48\"/>\r\n      </g>\r\n     </g>\r\n    </g>\r\n   </g>\r\n   <g id=\"matplotlib.axis_2\">\r\n    <g id=\"ytick_1\">\r\n     <g id=\"line2d_8\">\r\n      <defs>\r\n       <path d=\"M 0 0 \r\nL -3.5 0 \r\n\" id=\"mf328380e11\" style=\"stroke:#000000;stroke-width:0.8;\"/>\r\n      </defs>\r\n      <g>\r\n       <use style=\"stroke:#000000;stroke-width:0.8;\" x=\"46.0125\" xlink:href=\"#mf328380e11\" y=\"215.455736\"/>\r\n      </g>\r\n     </g>\r\n     <g id=\"text_8\">\r\n      <!-- 0 -->\r\n      <g transform=\"translate(32.65 219.254955)scale(0.1 -0.1)\">\r\n       <use xlink:href=\"#DejaVuSans-48\"/>\r\n      </g>\r\n     </g>\r\n    </g>\r\n    <g id=\"ytick_2\">\r\n     <g id=\"line2d_9\">\r\n      <g>\r\n       <use style=\"stroke:#000000;stroke-width:0.8;\" x=\"46.0125\" xlink:href=\"#mf328380e11\" y=\"184.233736\"/>\r\n      </g>\r\n     </g>\r\n     <g id=\"text_9\">\r\n      <!-- 5000 -->\r\n      <g transform=\"translate(13.5625 188.032955)scale(0.1 -0.1)\">\r\n       <use xlink:href=\"#DejaVuSans-53\"/>\r\n       <use x=\"63.623047\" xlink:href=\"#DejaVuSans-48\"/>\r\n       <use x=\"127.246094\" xlink:href=\"#DejaVuSans-48\"/>\r\n       <use x=\"190.869141\" xlink:href=\"#DejaVuSans-48\"/>\r\n      </g>\r\n     </g>\r\n    </g>\r\n    <g id=\"ytick_3\">\r\n     <g id=\"line2d_10\">\r\n      <g>\r\n       <use style=\"stroke:#000000;stroke-width:0.8;\" x=\"46.0125\" xlink:href=\"#mf328380e11\" y=\"153.011736\"/>\r\n      </g>\r\n     </g>\r\n     <g id=\"text_10\">\r\n      <!-- 10000 -->\r\n      <g transform=\"translate(7.2 156.810955)scale(0.1 -0.1)\">\r\n       <use xlink:href=\"#DejaVuSans-49\"/>\r\n       <use x=\"63.623047\" xlink:href=\"#DejaVuSans-48\"/>\r\n       <use x=\"127.246094\" xlink:href=\"#DejaVuSans-48\"/>\r\n       <use x=\"190.869141\" xlink:href=\"#DejaVuSans-48\"/>\r\n       <use x=\"254.492188\" xlink:href=\"#DejaVuSans-48\"/>\r\n      </g>\r\n     </g>\r\n    </g>\r\n    <g id=\"ytick_4\">\r\n     <g id=\"line2d_11\">\r\n      <g>\r\n       <use style=\"stroke:#000000;stroke-width:0.8;\" x=\"46.0125\" xlink:href=\"#mf328380e11\" y=\"121.789736\"/>\r\n      </g>\r\n     </g>\r\n     <g id=\"text_11\">\r\n      <!-- 15000 -->\r\n      <g transform=\"translate(7.2 125.588955)scale(0.1 -0.1)\">\r\n       <use xlink:href=\"#DejaVuSans-49\"/>\r\n       <use x=\"63.623047\" xlink:href=\"#DejaVuSans-53\"/>\r\n       <use x=\"127.246094\" xlink:href=\"#DejaVuSans-48\"/>\r\n       <use x=\"190.869141\" xlink:href=\"#DejaVuSans-48\"/>\r\n       <use x=\"254.492188\" xlink:href=\"#DejaVuSans-48\"/>\r\n      </g>\r\n     </g>\r\n    </g>\r\n    <g id=\"ytick_5\">\r\n     <g id=\"line2d_12\">\r\n      <g>\r\n       <use style=\"stroke:#000000;stroke-width:0.8;\" x=\"46.0125\" xlink:href=\"#mf328380e11\" y=\"90.567736\"/>\r\n      </g>\r\n     </g>\r\n     <g id=\"text_12\">\r\n      <!-- 20000 -->\r\n      <g transform=\"translate(7.2 94.366955)scale(0.1 -0.1)\">\r\n       <use xlink:href=\"#DejaVuSans-50\"/>\r\n       <use x=\"63.623047\" xlink:href=\"#DejaVuSans-48\"/>\r\n       <use x=\"127.246094\" xlink:href=\"#DejaVuSans-48\"/>\r\n       <use x=\"190.869141\" xlink:href=\"#DejaVuSans-48\"/>\r\n       <use x=\"254.492188\" xlink:href=\"#DejaVuSans-48\"/>\r\n      </g>\r\n     </g>\r\n    </g>\r\n    <g id=\"ytick_6\">\r\n     <g id=\"line2d_13\">\r\n      <g>\r\n       <use style=\"stroke:#000000;stroke-width:0.8;\" x=\"46.0125\" xlink:href=\"#mf328380e11\" y=\"59.345736\"/>\r\n      </g>\r\n     </g>\r\n     <g id=\"text_13\">\r\n      <!-- 25000 -->\r\n      <g transform=\"translate(7.2 63.144955)scale(0.1 -0.1)\">\r\n       <use xlink:href=\"#DejaVuSans-50\"/>\r\n       <use x=\"63.623047\" xlink:href=\"#DejaVuSans-53\"/>\r\n       <use x=\"127.246094\" xlink:href=\"#DejaVuSans-48\"/>\r\n       <use x=\"190.869141\" xlink:href=\"#DejaVuSans-48\"/>\r\n       <use x=\"254.492188\" xlink:href=\"#DejaVuSans-48\"/>\r\n      </g>\r\n     </g>\r\n    </g>\r\n    <g id=\"ytick_7\">\r\n     <g id=\"line2d_14\">\r\n      <g>\r\n       <use style=\"stroke:#000000;stroke-width:0.8;\" x=\"46.0125\" xlink:href=\"#mf328380e11\" y=\"28.123736\"/>\r\n      </g>\r\n     </g>\r\n     <g id=\"text_14\">\r\n      <!-- 30000 -->\r\n      <g transform=\"translate(7.2 31.922954)scale(0.1 -0.1)\">\r\n       <use xlink:href=\"#DejaVuSans-51\"/>\r\n       <use x=\"63.623047\" xlink:href=\"#DejaVuSans-48\"/>\r\n       <use x=\"127.246094\" xlink:href=\"#DejaVuSans-48\"/>\r\n       <use x=\"190.869141\" xlink:href=\"#DejaVuSans-48\"/>\r\n       <use x=\"254.492188\" xlink:href=\"#DejaVuSans-48\"/>\r\n      </g>\r\n     </g>\r\n    </g>\r\n   </g>\r\n   <g id=\"line2d_15\">\r\n    <path clip-path=\"url(#p5265599b0f)\" d=\"M 187.606597 17.970341 \r\nL 149.096636 17.083636 \r\nL 117.495104 39.519766 \r\nL 89.237011 67.120014 \r\nL 61.230682 114.57121 \r\nL 62.056471 201.137327 \r\nL 169.902488 214.756364 \r\nL 350.327294 207.150684 \r\nL 364.395917 188.523639 \r\nL 365.594318 159.805643 \r\nL 359.199489 72.565131 \r\nL 334.929352 24.38334 \r\nL 187.606597 17.970341 \r\n\" style=\"fill:none;stroke:#1f77b4;stroke-linecap:square;stroke-width:1.5;\"/>\r\n   </g>\r\n   <g id=\"patch_3\">\r\n    <path d=\"M 46.0125 224.64 \r\nL 46.0125 7.2 \r\n\" style=\"fill:none;stroke:#000000;stroke-linecap:square;stroke-linejoin:miter;stroke-width:0.8;\"/>\r\n   </g>\r\n   <g id=\"patch_4\">\r\n    <path d=\"M 380.8125 224.64 \r\nL 380.8125 7.2 \r\n\" style=\"fill:none;stroke:#000000;stroke-linecap:square;stroke-linejoin:miter;stroke-width:0.8;\"/>\r\n   </g>\r\n   <g id=\"patch_5\">\r\n    <path d=\"M 46.0125 224.64 \r\nL 380.8125 224.64 \r\n\" style=\"fill:none;stroke:#000000;stroke-linecap:square;stroke-linejoin:miter;stroke-width:0.8;\"/>\r\n   </g>\r\n   <g id=\"patch_6\">\r\n    <path d=\"M 46.0125 7.2 \r\nL 380.8125 7.2 \r\n\" style=\"fill:none;stroke:#000000;stroke-linecap:square;stroke-linejoin:miter;stroke-width:0.8;\"/>\r\n   </g>\r\n  </g>\r\n </g>\r\n <defs>\r\n  <clipPath id=\"p5265599b0f\">\r\n   <rect height=\"217.44\" width=\"334.8\" x=\"46.0125\" y=\"7.2\"/>\r\n  </clipPath>\r\n </defs>\r\n</svg>\r\n",
      "image/png": "[encoded data removed]"
     },
     "metadata": {
      "needs_background": "light"
     }
    }
   ],
   "source": [
    "import matplotlib.pyplot as plt\n",
    "\n",
    "#inputSet = [[1,1], [2,2], [3,3], [4,4], [1,4], [3,1], [1,5], [2,4], [3,5]]\n",
    "#outputSet = [[1,1], [3,1], [4,4], [3,5], [1,5]]\n",
    "\n",
    "inputSet = randGeneration(50)\n",
    "outputSet = grahamscan(inputSet)\n",
    "\n",
    "plt.figure()\n",
    "\n",
    "#first do a scatter plot of the inputSet\n",
    "input_xs, input_ys = zip(*inputSet)\n",
    "plt.scatter(input_xs, input_ys)\n",
    "\n",
    "#then do a polygon plot of the computed covex hull\n",
    "outputSet.append(outputSet[0]) #first create a 'closed loop' by adding the first point at the end of the list\n",
    "output_xs, output_ys = zip(*outputSet)\n",
    "plt.plot(output_xs, output_ys) \n",
    "\n",
    "plt.show() "
   ]
  },
  {
   "cell_type": "code",
   "execution_count": null,
   "metadata": {},
   "outputs": [],
   "source": []
  }
 ],
 "metadata": {
  "kernelspec": {
   "display_name": "Python 3",
   "language": "python",
   "name": "python3"
  },
  "language_info": {
   "codemirror_mode": {
    "name": "ipython",
    "version": 3
   },
   "file_extension": ".py",
   "mimetype": "text/x-python",
   "name": "python",
   "nbconvert_exporter": "python",
   "pygments_lexer": "ipython3",
   "version": "3.7.9-final"
  }
 },
 "nbformat": 4,
 "nbformat_minor": 4
}