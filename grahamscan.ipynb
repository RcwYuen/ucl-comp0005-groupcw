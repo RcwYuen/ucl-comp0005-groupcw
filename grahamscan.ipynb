{
 "cells": [
  {
   "cell_type": "markdown",
   "metadata": {},
   "source": [
    "# Graham scan algorithm"
   ]
  },
  {
   "cell_type": "code",
   "execution_count": null,
   "metadata": {},
   "outputs": [],
   "source": [
    "import math\n",
    "\n",
    "def changerange(theta):\n",
    "    # The paper used the range of radians to be between [0, 2pi), but the math library uses [-pi, pi) \n",
    "    return theta if theta >= 0 else math.tau + theta\n",
    "\n",
    "def ccw(p1, p2, p3):\n",
    "    if p1 == None or p2 == None or p3 == None:\n",
    "        return 0\n",
    "    return (p2[0]-p1[0])*(p3[1]-p1[1])-(p2[1]-p1[1])*(p3[0]-p1[0])\n",
    "\n",
    "def pyth(p1, p2=[0,0]):\n",
    "    # Calculates the distance between two points in the R^2 vector space using Pythagorous' \n",
    "    return sum([(p1[i] - p2[i]) ** 2 for i in range(len(p1))]) ** 0.5\n",
    "\n",
    "def calcP(inputSet):\n",
    "    # Finds the point P \n",
    "    P = inputSet[0]\n",
    "    for point in inputSet:\n",
    "        if point[1] < P[1] or (point[1] == P[1] and point[0] < P[0]):\n",
    "            P = point\n",
    "    return P\n",
    "\n",
    "def polar(coordinates):\n",
    "    return [pyth(coordinates), changerange(math.atan2(coordinates[1], coordinates[0]))]\n",
    "\n",
    "def cartesianList(polarHull, P):\n",
    "    return [cartesian(i, P=P) for i in polarHull]\n",
    "\n",
    "def resetOrigin(P, inputSet):\n",
    "    return [polar([i[0]-P[0], i[1]-P[1]]) for i in inputSet]\n",
    "\n",
    "def cartesian(coordinates, P=[0,0]):\n",
    "    return [round((coordinates[0] * math.cos(coordinates[1])) + P[0]), round((coordinates[0] * math.sin(coordinates[1])) + P[1])]\n",
    "'''\n",
    "def merge(L,R):\n",
    "    ret_array = []\n",
    "    l_index, r_index = 0, 0\n",
    "    while len(ret_array) < (len(L) + len(R)):\n",
    "        if l_index == len(L):\n",
    "            ret_array += R[r_index::]\n",
    "            break\n",
    "        elif r_index == len(R):\n",
    "            ret_array += L[l_index::]\n",
    "            break\n",
    "        if L[l_index][1] < R[r_index][1]:\n",
    "            ret_array.append(L[l_index])\n",
    "            l_index += 1\n",
    "        elif L[l_index][1] >= R[r_index][1]:\n",
    "            ret_array.append(R[r_index])\n",
    "            r_index += 1\n",
    "    return ret_array\n",
    "\n",
    "def msort(inputSet):\n",
    "    # Sort the set of coordinates using merge sort\n",
    "    return inputSet if len(inputSet) == 1 else merge(msort(inputSet[:len(inputSet)//2:]), msort(inputSet[len(inputSet)//2::]))\n",
    "'''\n",
    "\n",
    "def merge(L,R):\n",
    "    ret_array = []\n",
    "    l_index = 0\n",
    "    r_index = 0\n",
    "    while len(ret_array) < (len(L) + len(R)):\n",
    "        if l_index == len(L):\n",
    "            ret_array += R[r_index:]\n",
    "            break\n",
    "        elif r_index == len(R):\n",
    "            ret_array += L[l_index:]\n",
    "            break\n",
    "        if L[l_index][1] < R[r_index][1]:\n",
    "            ret_array.append(L[l_index])\n",
    "            l_index += 1\n",
    "        elif L[l_index][1] >= R[r_index][1]:\n",
    "            ret_array.append(R[r_index])\n",
    "            r_index += 1\n",
    "    return ret_array\n",
    "\n",
    "def msort(inputSet):\n",
    "    # Sort the set of coordinates using merge sort\n",
    "    if len(inputSet) == 1:\n",
    "        return inputSet\n",
    "    mid = len(inputSet) // 2\n",
    "    L = msort(inputSet[:mid])\n",
    "    R = msort(inputSet[mid:])\n",
    "    return merge(L,R)\n",
    "    \n",
    "def maxr(inputSet, threshold=1e-8):\n",
    "    # This function selects the polar coordinate with same angle as others but has the largest magnitude\n",
    "    # A threshold default argument has been added to prevent floating point arithmetic errors\n",
    "    polar, curtheta = [], -float(\"inf\")\n",
    "    for i in inputSet:\n",
    "        if abs(i[1] - curtheta) < threshold:\n",
    "            polar[-1][0] = max(i[0], polar[-1][0])\n",
    "        else:\n",
    "            polar.append(i)\n",
    "            curtheta = i[1]\n",
    "    return polar\n",
    "\n",
    "def deletenomag(inputSet):\n",
    "    # This function removes the polar coordinates with no magnitude\n",
    "    return [i for i in inputSet if i[0] != 0]\n",
    "\n",
    "def trace(inputSet, P):\n",
    "    stack = [P, inputSet[0]]\n",
    "    for point in inputSet:\n",
    "        while len(stack) > 1 and ccw(stack[-2], stack[-1], point) < 0:\n",
    "            _ = stack.pop()\n",
    "        stack.append(point)\n",
    "    return stack\n",
    "\n",
    "def grahamscan(inputSet):\n",
    "    P = calcP(inputSet)\n",
    "    polarSet = cartesianList(maxr(msort(deletenomag(resetOrigin(P, inputSet)))), P)\n",
    "    return trace(polarSet, P)"
   ]
  },
  {
   "cell_type": "markdown",
   "metadata": {},
   "source": [
    "Use the cell below for all python code needed to generate test data points (both random and those representing worst-case scenario)."
   ]
  },
  {
   "cell_type": "code",
   "execution_count": null,
   "metadata": {},
   "outputs": [],
   "source": [
    "import random\n",
    "\n",
    "#code for random data generation\n",
    "def randGeneration(n, lb=0, ub=32767):\n",
    "    return [[random.randint(lb, ub), random.randint(lb, ub)] for i in range(n)]\n",
    "\n",
    "#code for worst case data generation\n",
    "def randWorstGeneration(n):\n",
    "    return [[0,0] for i in range(n)]"
   ]
  },
  {
   "cell_type": "markdown",
   "metadata": {},
   "source": [
    "Use the cell below for all python code needed to test the `grahamscan()` function on the data generated above."
   ]
  },
  {
   "cell_type": "code",
   "execution_count": null,
   "metadata": {},
   "outputs": [],
   "source": [
    "import timeit\n",
    "\n",
    "#test code\n",
    "def test(n, worstCase=False, repeats=1):\n",
    "    timetaken = [0 for i in range(len(n))]\n",
    "    for j in range(repeats):\n",
    "        for i in n:\n",
    "            data = randWorstGeneration(int(i)) if worstCase else randGeneration(int(i))\n",
    "            start_time = timeit.default_timer()\n",
    "            _ = grahamscan(data)\n",
    "            timetaken[n.index(i)] += timeit.default_timer() - start_time\n",
    "    return [i/repeats for i in timetaken]\n",
    "\n",
    "n = [1e2, 5e2, 1e3, 5e3, 1e4, 1.5e4, 2e4]\n",
    "r_timetaken, w_timetaken = test(n, repeats=5), test(n, worstCase = True)"
   ]
  },
  {
   "cell_type": "code",
   "execution_count": null,
   "metadata": {},
   "outputs": [],
   "source": [
    "import matplotlib.pyplot as plt\n",
    "print (r_timetaken)\n",
    "plt.plot(n, r_timetaken)\n",
    "plt.show()"
   ]
  },
  {
   "cell_type": "markdown",
   "metadata": {},
   "source": [
    "*Optional*: Feel free to use the code below on small datasets (e.g., N = 10) to visually inspect whether the algorithm has been implemented correctly. The fragment below assumes both `inputSet` and `outputSet` to be lists of 2D points, with each point being a list of 2 elements (e.g., `[[x1,y1], [x2,y2], ..., [x_k,y_k]]`)"
   ]
  },
  {
   "cell_type": "code",
   "execution_count": null,
   "metadata": {
    "tags": []
   },
   "outputs": [],
   "source": [
    "import matplotlib.pyplot as plt\n",
    "\n",
    "#inputSet = [[1,1], [2,2], [3,3], [4,4], [1,4], [3,1], [1,5], [2,4], [3,5]]\n",
    "#outputSet = [[1,1], [3,1], [4,4], [3,5], [1,5]]\n",
    "\n",
    "inputSet = randGeneration(75)\n",
    "outputSet = grahamscan(inputSet)\n",
    "plt.figure()\n",
    "\n",
    "#first do a scatter plot of the inputSet\n",
    "input_xs, input_ys = zip(*inputSet)\n",
    "plt.scatter(input_xs, input_ys)\n",
    "\n",
    "#then do a polygon plot of the computed covex hull\n",
    "outputSet.append(outputSet[0]) #first create a 'closed loop' by adding the first point at the end of the list\n",
    "output_xs, output_ys = zip(*outputSet)\n",
    "plt.plot(output_xs, output_ys) \n",
    "\n",
    "plt.show() "
   ]
  },
  {
   "cell_type": "code",
   "execution_count": null,
   "metadata": {},
   "outputs": [],
   "source": []
  }
 ],
 "metadata": {
  "kernelspec": {
   "display_name": "Python 3",
   "language": "python",
   "name": "python3"
  },
  "language_info": {
   "codemirror_mode": {
    "name": "ipython",
    "version": 3
   },
   "file_extension": ".py",
   "mimetype": "text/x-python",
   "name": "python",
   "nbconvert_exporter": "python",
   "pygments_lexer": "ipython3",
   "version": "3.8.6-candidate"
  }
 },
 "nbformat": 4,
 "nbformat_minor": 4
}