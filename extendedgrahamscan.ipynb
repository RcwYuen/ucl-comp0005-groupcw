{
 "cells": [
  {
   "cell_type": "markdown",
   "metadata": {},
   "source": [
    "# Extended Graham scan algorithm"
   ]
  },
  {
   "cell_type": "markdown",
   "metadata": {},
   "source": [
    "Use the cell below for all python code needed to realise the extended Graham scan algorithm (including any auxiliary data structures and functions you might need). The `extendedgrahamscan()` function itself should take as input parameter a list of 2D points (`inputSet`), and return the subset of such points that lie on the convex hull (`outputSet`)."
   ]
  },
  {
   "cell_type": "code",
   "execution_count": 4,
   "metadata": {},
   "outputs": [],
   "source": [
    "import math\n",
    "\n",
    "def centroid(triangle):\n",
    "    # Reference to https://www.mathopenref.com/coordcentroid.html \n",
    "    return [sum([i[0] for i in triangle]) / 3, sum([i[1] for i in triangle]) / 3]\n",
    "\n",
    "def slope(p1, p2):\n",
    "    return (p1[1] - p2[1]) / (p1[0] - p2[0]) if p1[0] - p2[0] != 0 else math.inf\n",
    "\n",
    "def collinear(points):\n",
    "    # The property of collinear points is that given a set of points {s1, s2 , ... , sn}, the gradient between any two points are equal \n",
    "    s1, s2, s3 = slope(points[0], points[1]), slope(points[0], points[2]), slope(points[1], points[2])\n",
    "    return s1 == s2 and s2 == s3 and s1 == s3\n",
    "\n",
    "def pyth(p1, p2):\n",
    "    # Calculates the distance between two points in the R^2 vector space using Pythagorous' \n",
    "    return math.sqrt(math.pow((p1[0] - p2[0]), 2) + math.pow((p1[1] - p2[1]), 2))\n",
    "\n",
    "def changerange(theta):\n",
    "    # The paper used the range of radians to be between [0, 2pi), but the math library uses [-pi, pi) \n",
    "    return theta if theta >= 0 else math.tau + theta\n",
    "\n",
    "def midtest(points):\n",
    "    # Finds the midpoint between 3 collinear points, returns two points which has the longest distance \n",
    "    distances = [pyth(points[0], points[1]), pyth(points[0], points[2]), pyth(points[1], points[2])]\n",
    "    if max(distances) == distances[0]:\n",
    "        return [points[0], points[1]]\n",
    "    return [points[0], points[2]] if max(distances) == distances[1] else [points[1], points[2]]\n",
    "\n",
    "def calcP(inputSet):\n",
    "    # Finds the point P \n",
    "    while collinear(inputSet[:3:]) and len(inputSet) > 3:\n",
    "        inputSet = midtest(inputSet[:3:]) + inputSet[3::]\n",
    "    return centroid(inputSet[:3:])\n",
    "\n",
    "def polar(coordinates):\n",
    "    return [pyth(coordinates, [0,0]), changerange(math.atan2(coordinates[1], coordinates[0]))]\n",
    "\n",
    "def cartesianList(polarHull, P):\n",
    "    return [[round(j) for j in cartesian(i, P)] for i in polarHull]\n",
    "\n",
    "def resetOrigin(P, inputSet):\n",
    "    return [polar([i[0]-P[0], i[1]-P[1]]) for i in inputSet]\n",
    "\n",
    "def cartesian(coordinates, P):\n",
    "    return [(coordinates[0] * math.cos(coordinates[1])) + P[0], (coordinates[0] * math.sin(coordinates[1])) + P[1]]\n",
    "\n",
    "def merge(L,R):\n",
    "    ret_array = []\n",
    "    l_index = 0\n",
    "    r_index = 0\n",
    "    while len(ret_array) < (len(L) + len(R)):\n",
    "        if l_index == len(L):\n",
    "            ret_array += R[r_index:]\n",
    "            break\n",
    "        elif r_index == len(R):\n",
    "            ret_array += L[l_index:]\n",
    "            break\n",
    "        if L[l_index][1] < R[r_index][1]:\n",
    "            ret_array.append(L[l_index])\n",
    "            l_index += 1\n",
    "        elif L[l_index][1] >= R[r_index][1]:\n",
    "            ret_array.append(R[r_index])\n",
    "            r_index += 1\n",
    "    return ret_array\n",
    "\n",
    "def msort(inputSet):\n",
    "    # Sort the set of coordinates using merge sort\n",
    "    if len(inputSet) == 1:\n",
    "        return inputSet\n",
    "    mid = len(inputSet) // 2\n",
    "    L = msort(inputSet[:mid])\n",
    "    R = msort(inputSet[mid:])\n",
    "    return merge(L,R)\n",
    "    \n",
    "\n",
    "def maxr(inputSet, threshold=1e-8):\n",
    "    # This function selects the polar coordinate with same angle as others but has the largest magnitude\n",
    "    # A threshold default argument has been added to prevent floating point arithmetic errors\n",
    "    polar, curtheta = [], -math.inf\n",
    "    for i in inputSet:\n",
    "        if abs(i[1] - curtheta) < threshold:\n",
    "            polar[-1][0] = max(i[0], polar[-1][0])\n",
    "        else:\n",
    "            polar.append(i)\n",
    "            curtheta = i[1]\n",
    "    return polar\n",
    "\n",
    "def deletenomag(inputSet):\n",
    "    # This function removes the polar coordinates with no magnitude\n",
    "    return [i for i in inputSet if i[0] != 0]\n",
    "\n",
    "def calcAngle(coor1, coor2):\n",
    "    # Note that c is the side oppositing the angle to be found using the cosine rule\n",
    "    a, b, c = coor1[0], pyth(cartesian(coor1, [0, 0]), cartesian(coor2, [0, 0])), coor2[0]\n",
    "    try:\n",
    "        return math.acos((a**2 + b**2 - c**2) / (2*a*b))\n",
    "    except ValueError:  \n",
    "        '''\n",
    "        The only possible way to get a ValueError is when a, b and c cannot form a triangle.  Notice that under the context\n",
    "        of this function the only possible way to get a ValueError is when | arg(coor2) - arg(coor1) | is an element of {0, -pi}.\n",
    "        Since it is not possible that it equals 0, since it would have been deleted from the function maxr, therefore the only\n",
    "        possible way valuation is -pi.\n",
    "        '''\n",
    "        return -math.pi\n",
    "    \n",
    "def enclosedCoords(inputSet):\n",
    "    #Remove points within inputSet that are enclosed by the NorthWest, NorthEast, SouthWest, SouthEast points\n",
    "    xmax, xmin = [-math.inf,0], [math.inf,0]\n",
    "    ymax, ymin = [0,-math.inf], [0,math.inf]\n",
    "    for coord in inputSet:\n",
    "        x, y = coord[0], coord[1]\n",
    "        xmax = coord if max(x,xmax[0]) == x else xmax\n",
    "        xmin = coord if min(x,xmin[0]) == x else xmin\n",
    "        ymax = coord if max(y,ymax[1]) == y else ymax\n",
    "        ymin = coord if min(y,ymin[1]) == y else ymin\n",
    "    return [xmax,ymax,xmin,ymin]\n",
    "\n",
    "def triangleArea(point1, point2,point3):\n",
    "    #https://ncalculators.com/geometry/triangle-area-by-3-points.htm\n",
    "    return abs(point1[0]*(point2[1]-point3[1]) + point2[0]*(point3[1]-point1[1]) + point3[0]*(point1[1]-point2[1])) /2\n",
    "\n",
    "def notinRegion(point,enclose,area):\n",
    "    total = [triangleArea(enclose[0],enclose[1],point), triangleArea(enclose[1],enclose[2],point), triangleArea(enclose[2],enclose[3],point), triangleArea(enclose[3],enclose[0],point)]\n",
    "    return (sum(total) != area)\n",
    "    \n",
    "def wipePoints(inputSet):\n",
    "    points = enclosedCoords(inputSet)\n",
    "    enclosedArea = triangleArea(points[0],points[1],points[2]) + triangleArea(points[2],points[3],points[0])\n",
    "    return [p for p in inputSet if notinRegion(p,points,enclosedArea)] + points\n",
    " \n",
    "   \n",
    "def trace(inputSet):\n",
    "    pointer, tracker = 1, [i for i in inputSet]\n",
    "    # Tracker is explicitly defined this way to prevent affecting the inputSet during running\n",
    "    while tracker != []:\n",
    "        p1, p2, p3 = (pointer-1) % len(inputSet), pointer % len(inputSet), (pointer+1) % len(inputSet)\n",
    "        if calcAngle(inputSet[p2], inputSet[p1]) + calcAngle(inputSet[p2], inputSet[p3]) >= math.pi:\n",
    "            toremove = inputSet[p2]\n",
    "            inputSet.remove(toremove)\n",
    "            pointer -= 1\n",
    "        else:\n",
    "            toremove = inputSet[p1]\n",
    "            pointer += 1\n",
    "        try:\n",
    "            tracker.remove(toremove)\n",
    "        except ValueError:\n",
    "            pass\n",
    "    return inputSet\n",
    "\n",
    "def extendedgrahamscan(inputSet):\n",
    "    wipedSet = wipePoints(inputSet)\n",
    "    P = calcP(wipedSet)\n",
    "    polarSet = msort(resetOrigin(P, wipedSet))\n",
    "    polarSet = deletenomag(maxr(polarSet))\n",
    "    polarHull = trace(polarSet)\n",
    "    return cartesianList(polarHull, P)"
   ]
  },
  {
   "cell_type": "markdown",
   "metadata": {},
   "source": [
    "Use the cell below for all python code needed to generate test data points (both random and those representing worst-case scenario)."
   ]
  },
  {
   "cell_type": "code",
   "execution_count": 5,
   "metadata": {},
   "outputs": [],
   "source": [
    "import random\n",
    "\n",
    "#code for random data generation\n",
    "def randGeneration(n, lb=0, ub=32767):\n",
    "    return [[random.randint(lb, ub), random.randint(lb, ub)] for i in range(n)]\n",
    "\n",
    "#code for worst case data generation\n",
    "def randWorstGeneration(n):\n",
    "    return [[0,0] for i in range(n)]\n"
   ]
  },
  {
   "cell_type": "markdown",
   "metadata": {},
   "source": [
    "Use the cell below for all python code needed to test the `extendedgrahamscan()` function on the data generated above."
   ]
  },
  {
   "cell_type": "code",
   "execution_count": 11,
   "metadata": {},
   "outputs": [
    {
     "output_type": "stream",
     "name": "stdout",
     "text": [
      "Average case:  [0.0013823999999829084, 0.010703500000005306, 0.015376800000012736, 0.24642919999999435, 0.7849827000000005, 1.9965593999999953, 3.8361500999999976]\n"
     ]
    }
   ],
   "source": [
    "import timeit\n",
    "\n",
    "#test code\n",
    "def test(n, worstCase=False, repeats=1):\n",
    "    timetaken = [0 for i in range(len(n))]\n",
    "    for j in range(repeats):\n",
    "        for i in n:\n",
    "            data = randWorstGeneration(int(i)) if worstCase else randGeneration(int(i))\n",
    "            start_time = timeit.default_timer()\n",
    "            _ = extendedgrahamscan(data)\n",
    "            timetaken[n.index(i)] = timeit.default_timer() - start_time\n",
    "    return [i/repeats for i in timetaken]\n",
    "\n",
    "n = [1e2, 5e2, 1e3, 5e3, 1e4, 1.5e4, 2e4]\n",
    "r_timetaken = test(n)\n",
    "#w_timetaken = test(n, worstCase = True)\n",
    "print(\"Average case: \",r_timetaken)\n",
    "#print(\"Worst case: \",w_timetaken)"
   ]
  },
  {
   "cell_type": "markdown",
   "metadata": {},
   "source": [
    "*Optional*: Feel free to use the code below on small datasets (e.g., N = 10) to visually inspect whether the algorithm has been implemented correctly. The fragment below assumes both `inputSet` and `outputSet` to be lists of 2D points, with each point being a list of 2 elements (e.g., `[[x1,y1], [x2,y2], ..., [x_k,y_k]]`)"
   ]
  },
  {
   "cell_type": "code",
   "execution_count": 10,
   "metadata": {},
   "outputs": [
    {
     "output_type": "display_data",
     "data": {
      "text/plain": "<Figure size 432x288 with 1 Axes>",
      "image/svg+xml": "<?xml version=\"1.0\" encoding=\"utf-8\" standalone=\"no\"?>\r\n<!DOCTYPE svg PUBLIC \"-//W3C//DTD SVG 1.1//EN\"\r\n  \"http://www.w3.org/Graphics/SVG/1.1/DTD/svg11.dtd\">\r\n<!-- Created with matplotlib (https://matplotlib.org/) -->\r\n<svg height=\"248.518125pt\" version=\"1.1\" viewBox=\"0 0 388.0125 248.518125\" width=\"388.0125pt\" xmlns=\"http://www.w3.org/2000/svg\" xmlns:xlink=\"http://www.w3.org/1999/xlink\">\r\n <metadata>\r\n  <rdf:RDF xmlns:cc=\"http://creativecommons.org/ns#\" xmlns:dc=\"http://purl.org/dc/elements/1.1/\" xmlns:rdf=\"http://www.w3.org/1999/02/22-rdf-syntax-ns#\">\r\n   <cc:Work>\r\n    <dc:type rdf:resource=\"http://purl.org/dc/dcmitype/StillImage\"/>\r\n    <dc:date>2021-02-20T02:16:43.604227</dc:date>\r\n    <dc:format>image/svg+xml</dc:format>\r\n    <dc:creator>\r\n     <cc:Agent>\r\n      <dc:title>Matplotlib v3.3.2, https://matplotlib.org/</dc:title>\r\n     </cc:Agent>\r\n    </dc:creator>\r\n   </cc:Work>\r\n  </rdf:RDF>\r\n </metadata>\r\n <defs>\r\n  <style type=\"text/css\">*{stroke-linecap:butt;stroke-linejoin:round;}</style>\r\n </defs>\r\n <g id=\"figure_1\">\r\n  <g id=\"patch_1\">\r\n   <path d=\"M 0 248.518125 \r\nL 388.0125 248.518125 \r\nL 388.0125 0 \r\nL 0 0 \r\nz\r\n\" style=\"fill:none;\"/>\r\n  </g>\r\n  <g id=\"axes_1\">\r\n   <g id=\"patch_2\">\r\n    <path d=\"M 46.0125 224.64 \r\nL 380.8125 224.64 \r\nL 380.8125 7.2 \r\nL 46.0125 7.2 \r\nz\r\n\" style=\"fill:#ffffff;\"/>\r\n   </g>\r\n   <g id=\"PathCollection_1\">\r\n    <defs>\r\n     <path d=\"M 0 3 \r\nC 0.795609 3 1.55874 2.683901 2.12132 2.12132 \r\nC 2.683901 1.55874 3 0.795609 3 0 \r\nC 3 -0.795609 2.683901 -1.55874 2.12132 -2.12132 \r\nC 1.55874 -2.683901 0.795609 -3 0 -3 \r\nC -0.795609 -3 -1.55874 -2.683901 -2.12132 -2.12132 \r\nC -2.683901 -1.55874 -3 -0.795609 -3 0 \r\nC -3 0.795609 -2.683901 1.55874 -2.12132 2.12132 \r\nC -1.55874 2.683901 -0.795609 3 0 3 \r\nz\r\n\" id=\"mebfc632086\" style=\"stroke:#1f77b4;\"/>\r\n    </defs>\r\n    <g clip-path=\"url(#pace6aa38fe)\">\r\n     <use style=\"fill:#1f77b4;stroke:#1f77b4;\" x=\"133.453358\" xlink:href=\"#mebfc632086\" y=\"46.055366\"/>\r\n     <use style=\"fill:#1f77b4;stroke:#1f77b4;\" x=\"264.851064\" xlink:href=\"#mebfc632086\" y=\"141.468023\"/>\r\n     <use style=\"fill:#1f77b4;stroke:#1f77b4;\" x=\"219.720116\" xlink:href=\"#mebfc632086\" y=\"180.302995\"/>\r\n     <use style=\"fill:#1f77b4;stroke:#1f77b4;\" x=\"197.309748\" xlink:href=\"#mebfc632086\" y=\"205.795398\"/>\r\n     <use style=\"fill:#1f77b4;stroke:#1f77b4;\" x=\"87.861795\" xlink:href=\"#mebfc632086\" y=\"45.869967\"/>\r\n     <use style=\"fill:#1f77b4;stroke:#1f77b4;\" x=\"83.321439\" xlink:href=\"#mebfc632086\" y=\"110.005763\"/>\r\n     <use style=\"fill:#1f77b4;stroke:#1f77b4;\" x=\"74.381733\" xlink:href=\"#mebfc632086\" y=\"120.245984\"/>\r\n     <use style=\"fill:#1f77b4;stroke:#1f77b4;\" x=\"96.500691\" xlink:href=\"#mebfc632086\" y=\"129.534488\"/>\r\n     <use style=\"fill:#1f77b4;stroke:#1f77b4;\" x=\"328.660452\" xlink:href=\"#mebfc632086\" y=\"208.001649\"/>\r\n     <use style=\"fill:#1f77b4;stroke:#1f77b4;\" x=\"325.11653\" xlink:href=\"#mebfc632086\" y=\"111.736156\"/>\r\n     <use style=\"fill:#1f77b4;stroke:#1f77b4;\" x=\"187.044596\" xlink:href=\"#mebfc632086\" y=\"71.591029\"/>\r\n     <use style=\"fill:#1f77b4;stroke:#1f77b4;\" x=\"183.942489\" xlink:href=\"#mebfc632086\" y=\"65.083514\"/>\r\n     <use style=\"fill:#1f77b4;stroke:#1f77b4;\" x=\"299.876665\" xlink:href=\"#mebfc632086\" y=\"30.055407\"/>\r\n     <use style=\"fill:#1f77b4;stroke:#1f77b4;\" x=\"61.230682\" xlink:href=\"#mebfc632086\" y=\"139.780889\"/>\r\n     <use style=\"fill:#1f77b4;stroke:#1f77b4;\" x=\"303.52399\" xlink:href=\"#mebfc632086\" y=\"167.627863\"/>\r\n     <use style=\"fill:#1f77b4;stroke:#1f77b4;\" x=\"274.806005\" xlink:href=\"#mebfc632086\" y=\"60.349652\"/>\r\n     <use style=\"fill:#1f77b4;stroke:#1f77b4;\" x=\"178.368098\" xlink:href=\"#mebfc632086\" y=\"162.751862\"/>\r\n     <use style=\"fill:#1f77b4;stroke:#1f77b4;\" x=\"73.610906\" xlink:href=\"#mebfc632086\" y=\"48.057678\"/>\r\n     <use style=\"fill:#1f77b4;stroke:#1f77b4;\" x=\"231.583323\" xlink:href=\"#mebfc632086\" y=\"110.74118\"/>\r\n     <use style=\"fill:#1f77b4;stroke:#1f77b4;\" x=\"124.75806\" xlink:href=\"#mebfc632086\" y=\"168.42508\"/>\r\n     <use style=\"fill:#1f77b4;stroke:#1f77b4;\" x=\"272.418323\" xlink:href=\"#mebfc632086\" y=\"126.104601\"/>\r\n     <use style=\"fill:#1f77b4;stroke:#1f77b4;\" x=\"75.302964\" xlink:href=\"#mebfc632086\" y=\"182.385647\"/>\r\n     <use style=\"fill:#1f77b4;stroke:#1f77b4;\" x=\"101.247854\" xlink:href=\"#mebfc632086\" y=\"107.008474\"/>\r\n     <use style=\"fill:#1f77b4;stroke:#1f77b4;\" x=\"363.742455\" xlink:href=\"#mebfc632086\" y=\"28.232314\"/>\r\n     <use style=\"fill:#1f77b4;stroke:#1f77b4;\" x=\"304.379419\" xlink:href=\"#mebfc632086\" y=\"18.77695\"/>\r\n     <use style=\"fill:#1f77b4;stroke:#1f77b4;\" x=\"249.829349\" xlink:href=\"#mebfc632086\" y=\"173.022983\"/>\r\n     <use style=\"fill:#1f77b4;stroke:#1f77b4;\" x=\"199.011206\" xlink:href=\"#mebfc632086\" y=\"115.80876\"/>\r\n     <use style=\"fill:#1f77b4;stroke:#1f77b4;\" x=\"307.688333\" xlink:href=\"#mebfc632086\" y=\"164.018757\"/>\r\n     <use style=\"fill:#1f77b4;stroke:#1f77b4;\" x=\"118.704253\" xlink:href=\"#mebfc632086\" y=\"59.663674\"/>\r\n     <use style=\"fill:#1f77b4;stroke:#1f77b4;\" x=\"320.021556\" xlink:href=\"#mebfc632086\" y=\"41.704663\"/>\r\n     <use style=\"fill:#1f77b4;stroke:#1f77b4;\" x=\"270.632262\" xlink:href=\"#mebfc632086\" y=\"184.054241\"/>\r\n     <use style=\"fill:#1f77b4;stroke:#1f77b4;\" x=\"104.819976\" xlink:href=\"#mebfc632086\" y=\"129.806407\"/>\r\n     <use style=\"fill:#1f77b4;stroke:#1f77b4;\" x=\"271.985908\" xlink:href=\"#mebfc632086\" y=\"175.754532\"/>\r\n     <use style=\"fill:#1f77b4;stroke:#1f77b4;\" x=\"289.028693\" xlink:href=\"#mebfc632086\" y=\"24.703547\"/>\r\n     <use style=\"fill:#1f77b4;stroke:#1f77b4;\" x=\"226.779758\" xlink:href=\"#mebfc632086\" y=\"177.559085\"/>\r\n     <use style=\"fill:#1f77b4;stroke:#1f77b4;\" x=\"228.105204\" xlink:href=\"#mebfc632086\" y=\"124.386568\"/>\r\n     <use style=\"fill:#1f77b4;stroke:#1f77b4;\" x=\"204.218985\" xlink:href=\"#mebfc632086\" y=\"75.595654\"/>\r\n     <use style=\"fill:#1f77b4;stroke:#1f77b4;\" x=\"217.050425\" xlink:href=\"#mebfc632086\" y=\"214.756364\"/>\r\n     <use style=\"fill:#1f77b4;stroke:#1f77b4;\" x=\"351.446833\" xlink:href=\"#mebfc632086\" y=\"106.606775\"/>\r\n     <use style=\"fill:#1f77b4;stroke:#1f77b4;\" x=\"104.960981\" xlink:href=\"#mebfc632086\" y=\"69.409497\"/>\r\n     <use style=\"fill:#1f77b4;stroke:#1f77b4;\" x=\"292.723019\" xlink:href=\"#mebfc632086\" y=\"128.391193\"/>\r\n     <use style=\"fill:#1f77b4;stroke:#1f77b4;\" x=\"184.572311\" xlink:href=\"#mebfc632086\" y=\"205.14032\"/>\r\n     <use style=\"fill:#1f77b4;stroke:#1f77b4;\" x=\"275.746037\" xlink:href=\"#mebfc632086\" y=\"140.676986\"/>\r\n     <use style=\"fill:#1f77b4;stroke:#1f77b4;\" x=\"305.902271\" xlink:href=\"#mebfc632086\" y=\"43.997434\"/>\r\n     <use style=\"fill:#1f77b4;stroke:#1f77b4;\" x=\"71.843646\" xlink:href=\"#mebfc632086\" y=\"77.604146\"/>\r\n     <use style=\"fill:#1f77b4;stroke:#1f77b4;\" x=\"311.39206\" xlink:href=\"#mebfc632086\" y=\"137.290359\"/>\r\n     <use style=\"fill:#1f77b4;stroke:#1f77b4;\" x=\"365.594318\" xlink:href=\"#mebfc632086\" y=\"83.672883\"/>\r\n     <use style=\"fill:#1f77b4;stroke:#1f77b4;\" x=\"168.676366\" xlink:href=\"#mebfc632086\" y=\"17.083636\"/>\r\n     <use style=\"fill:#1f77b4;stroke:#1f77b4;\" x=\"315.217991\" xlink:href=\"#mebfc632086\" y=\"53.737077\"/>\r\n     <use style=\"fill:#1f77b4;stroke:#1f77b4;\" x=\"145.607975\" xlink:href=\"#mebfc632086\" y=\"200.02948\"/>\r\n    </g>\r\n   </g>\r\n   <g id=\"PathCollection_2\">\r\n    <defs>\r\n     <path d=\"M 0 3 \r\nC 0.795609 3 1.55874 2.683901 2.12132 2.12132 \r\nC 2.683901 1.55874 3 0.795609 3 0 \r\nC 3 -0.795609 2.683901 -1.55874 2.12132 -2.12132 \r\nC 1.55874 -2.683901 0.795609 -3 0 -3 \r\nC -0.795609 -3 -1.55874 -2.683901 -2.12132 -2.12132 \r\nC -2.683901 -1.55874 -3 -0.795609 -3 0 \r\nC -3 0.795609 -2.683901 1.55874 -2.12132 2.12132 \r\nC -1.55874 2.683901 -0.795609 3 0 3 \r\nz\r\n\" id=\"m52628462d2\" style=\"stroke:#ff0000;\"/>\r\n    </defs>\r\n    <g clip-path=\"url(#pace6aa38fe)\">\r\n     <use style=\"fill:#ff0000;stroke:#ff0000;\" x=\"365.594318\" xlink:href=\"#m52628462d2\" y=\"83.672883\"/>\r\n     <use style=\"fill:#ff0000;stroke:#ff0000;\" x=\"168.676366\" xlink:href=\"#m52628462d2\" y=\"17.083636\"/>\r\n     <use style=\"fill:#ff0000;stroke:#ff0000;\" x=\"61.230682\" xlink:href=\"#m52628462d2\" y=\"139.780889\"/>\r\n     <use style=\"fill:#ff0000;stroke:#ff0000;\" x=\"217.050425\" xlink:href=\"#m52628462d2\" y=\"214.756364\"/>\r\n    </g>\r\n   </g>\r\n   <g id=\"matplotlib.axis_1\">\r\n    <g id=\"xtick_1\">\r\n     <g id=\"line2d_1\">\r\n      <defs>\r\n       <path d=\"M 0 0 \r\nL 0 3.5 \r\n\" id=\"m86a9328774\" style=\"stroke:#000000;stroke-width:0.8;\"/>\r\n      </defs>\r\n      <g>\r\n       <use style=\"stroke:#000000;stroke-width:0.8;\" x=\"60.525658\" xlink:href=\"#m86a9328774\" y=\"224.64\"/>\r\n      </g>\r\n     </g>\r\n     <g id=\"text_1\">\r\n      <!-- 0 -->\r\n      <g transform=\"translate(57.344408 239.238437)scale(0.1 -0.1)\">\r\n       <defs>\r\n        <path d=\"M 31.78125 66.40625 \r\nQ 24.171875 66.40625 20.328125 58.90625 \r\nQ 16.5 51.421875 16.5 36.375 \r\nQ 16.5 21.390625 20.328125 13.890625 \r\nQ 24.171875 6.390625 31.78125 6.390625 \r\nQ 39.453125 6.390625 43.28125 13.890625 \r\nQ 47.125 21.390625 47.125 36.375 \r\nQ 47.125 51.421875 43.28125 58.90625 \r\nQ 39.453125 66.40625 31.78125 66.40625 \r\nz\r\nM 31.78125 74.21875 \r\nQ 44.046875 74.21875 50.515625 64.515625 \r\nQ 56.984375 54.828125 56.984375 36.375 \r\nQ 56.984375 17.96875 50.515625 8.265625 \r\nQ 44.046875 -1.421875 31.78125 -1.421875 \r\nQ 19.53125 -1.421875 13.0625 8.265625 \r\nQ 6.59375 17.96875 6.59375 36.375 \r\nQ 6.59375 54.828125 13.0625 64.515625 \r\nQ 19.53125 74.21875 31.78125 74.21875 \r\nz\r\n\" id=\"DejaVuSans-48\"/>\r\n       </defs>\r\n       <use xlink:href=\"#DejaVuSans-48\"/>\r\n      </g>\r\n     </g>\r\n    </g>\r\n    <g id=\"xtick_2\">\r\n     <g id=\"line2d_2\">\r\n      <g>\r\n       <use style=\"stroke:#000000;stroke-width:0.8;\" x=\"107.527269\" xlink:href=\"#m86a9328774\" y=\"224.64\"/>\r\n      </g>\r\n     </g>\r\n     <g id=\"text_2\">\r\n      <!-- 5000 -->\r\n      <g transform=\"translate(94.802269 239.238437)scale(0.1 -0.1)\">\r\n       <defs>\r\n        <path d=\"M 10.796875 72.90625 \r\nL 49.515625 72.90625 \r\nL 49.515625 64.59375 \r\nL 19.828125 64.59375 \r\nL 19.828125 46.734375 \r\nQ 21.96875 47.46875 24.109375 47.828125 \r\nQ 26.265625 48.1875 28.421875 48.1875 \r\nQ 40.625 48.1875 47.75 41.5 \r\nQ 54.890625 34.8125 54.890625 23.390625 \r\nQ 54.890625 11.625 47.5625 5.09375 \r\nQ 40.234375 -1.421875 26.90625 -1.421875 \r\nQ 22.3125 -1.421875 17.546875 -0.640625 \r\nQ 12.796875 0.140625 7.71875 1.703125 \r\nL 7.71875 11.625 \r\nQ 12.109375 9.234375 16.796875 8.0625 \r\nQ 21.484375 6.890625 26.703125 6.890625 \r\nQ 35.15625 6.890625 40.078125 11.328125 \r\nQ 45.015625 15.765625 45.015625 23.390625 \r\nQ 45.015625 31 40.078125 35.4375 \r\nQ 35.15625 39.890625 26.703125 39.890625 \r\nQ 22.75 39.890625 18.8125 39.015625 \r\nQ 14.890625 38.140625 10.796875 36.28125 \r\nz\r\n\" id=\"DejaVuSans-53\"/>\r\n       </defs>\r\n       <use xlink:href=\"#DejaVuSans-53\"/>\r\n       <use x=\"63.623047\" xlink:href=\"#DejaVuSans-48\"/>\r\n       <use x=\"127.246094\" xlink:href=\"#DejaVuSans-48\"/>\r\n       <use x=\"190.869141\" xlink:href=\"#DejaVuSans-48\"/>\r\n      </g>\r\n     </g>\r\n    </g>\r\n    <g id=\"xtick_3\">\r\n     <g id=\"line2d_3\">\r\n      <g>\r\n       <use style=\"stroke:#000000;stroke-width:0.8;\" x=\"154.528881\" xlink:href=\"#m86a9328774\" y=\"224.64\"/>\r\n      </g>\r\n     </g>\r\n     <g id=\"text_3\">\r\n      <!-- 10000 -->\r\n      <g transform=\"translate(138.622631 239.238437)scale(0.1 -0.1)\">\r\n       <defs>\r\n        <path d=\"M 12.40625 8.296875 \r\nL 28.515625 8.296875 \r\nL 28.515625 63.921875 \r\nL 10.984375 60.40625 \r\nL 10.984375 69.390625 \r\nL 28.421875 72.90625 \r\nL 38.28125 72.90625 \r\nL 38.28125 8.296875 \r\nL 54.390625 8.296875 \r\nL 54.390625 0 \r\nL 12.40625 0 \r\nz\r\n\" id=\"DejaVuSans-49\"/>\r\n       </defs>\r\n       <use xlink:href=\"#DejaVuSans-49\"/>\r\n       <use x=\"63.623047\" xlink:href=\"#DejaVuSans-48\"/>\r\n       <use x=\"127.246094\" xlink:href=\"#DejaVuSans-48\"/>\r\n       <use x=\"190.869141\" xlink:href=\"#DejaVuSans-48\"/>\r\n       <use x=\"254.492188\" xlink:href=\"#DejaVuSans-48\"/>\r\n      </g>\r\n     </g>\r\n    </g>\r\n    <g id=\"xtick_4\">\r\n     <g id=\"line2d_4\">\r\n      <g>\r\n       <use style=\"stroke:#000000;stroke-width:0.8;\" x=\"201.530493\" xlink:href=\"#m86a9328774\" y=\"224.64\"/>\r\n      </g>\r\n     </g>\r\n     <g id=\"text_4\">\r\n      <!-- 15000 -->\r\n      <g transform=\"translate(185.624243 239.238437)scale(0.1 -0.1)\">\r\n       <use xlink:href=\"#DejaVuSans-49\"/>\r\n       <use x=\"63.623047\" xlink:href=\"#DejaVuSans-53\"/>\r\n       <use x=\"127.246094\" xlink:href=\"#DejaVuSans-48\"/>\r\n       <use x=\"190.869141\" xlink:href=\"#DejaVuSans-48\"/>\r\n       <use x=\"254.492188\" xlink:href=\"#DejaVuSans-48\"/>\r\n      </g>\r\n     </g>\r\n    </g>\r\n    <g id=\"xtick_5\">\r\n     <g id=\"line2d_5\">\r\n      <g>\r\n       <use style=\"stroke:#000000;stroke-width:0.8;\" x=\"248.532104\" xlink:href=\"#m86a9328774\" y=\"224.64\"/>\r\n      </g>\r\n     </g>\r\n     <g id=\"text_5\">\r\n      <!-- 20000 -->\r\n      <g transform=\"translate(232.625854 239.238437)scale(0.1 -0.1)\">\r\n       <defs>\r\n        <path d=\"M 19.1875 8.296875 \r\nL 53.609375 8.296875 \r\nL 53.609375 0 \r\nL 7.328125 0 \r\nL 7.328125 8.296875 \r\nQ 12.9375 14.109375 22.625 23.890625 \r\nQ 32.328125 33.6875 34.8125 36.53125 \r\nQ 39.546875 41.84375 41.421875 45.53125 \r\nQ 43.3125 49.21875 43.3125 52.78125 \r\nQ 43.3125 58.59375 39.234375 62.25 \r\nQ 35.15625 65.921875 28.609375 65.921875 \r\nQ 23.96875 65.921875 18.8125 64.3125 \r\nQ 13.671875 62.703125 7.8125 59.421875 \r\nL 7.8125 69.390625 \r\nQ 13.765625 71.78125 18.9375 73 \r\nQ 24.125 74.21875 28.421875 74.21875 \r\nQ 39.75 74.21875 46.484375 68.546875 \r\nQ 53.21875 62.890625 53.21875 53.421875 \r\nQ 53.21875 48.921875 51.53125 44.890625 \r\nQ 49.859375 40.875 45.40625 35.40625 \r\nQ 44.1875 33.984375 37.640625 27.21875 \r\nQ 31.109375 20.453125 19.1875 8.296875 \r\nz\r\n\" id=\"DejaVuSans-50\"/>\r\n       </defs>\r\n       <use xlink:href=\"#DejaVuSans-50\"/>\r\n       <use x=\"63.623047\" xlink:href=\"#DejaVuSans-48\"/>\r\n       <use x=\"127.246094\" xlink:href=\"#DejaVuSans-48\"/>\r\n       <use x=\"190.869141\" xlink:href=\"#DejaVuSans-48\"/>\r\n       <use x=\"254.492188\" xlink:href=\"#DejaVuSans-48\"/>\r\n      </g>\r\n     </g>\r\n    </g>\r\n    <g id=\"xtick_6\">\r\n     <g id=\"line2d_6\">\r\n      <g>\r\n       <use style=\"stroke:#000000;stroke-width:0.8;\" x=\"295.533716\" xlink:href=\"#m86a9328774\" y=\"224.64\"/>\r\n      </g>\r\n     </g>\r\n     <g id=\"text_6\">\r\n      <!-- 25000 -->\r\n      <g transform=\"translate(279.627466 239.238437)scale(0.1 -0.1)\">\r\n       <use xlink:href=\"#DejaVuSans-50\"/>\r\n       <use x=\"63.623047\" xlink:href=\"#DejaVuSans-53\"/>\r\n       <use x=\"127.246094\" xlink:href=\"#DejaVuSans-48\"/>\r\n       <use x=\"190.869141\" xlink:href=\"#DejaVuSans-48\"/>\r\n       <use x=\"254.492188\" xlink:href=\"#DejaVuSans-48\"/>\r\n      </g>\r\n     </g>\r\n    </g>\r\n    <g id=\"xtick_7\">\r\n     <g id=\"line2d_7\">\r\n      <g>\r\n       <use style=\"stroke:#000000;stroke-width:0.8;\" x=\"342.535328\" xlink:href=\"#m86a9328774\" y=\"224.64\"/>\r\n      </g>\r\n     </g>\r\n     <g id=\"text_7\">\r\n      <!-- 30000 -->\r\n      <g transform=\"translate(326.629078 239.238437)scale(0.1 -0.1)\">\r\n       <defs>\r\n        <path d=\"M 40.578125 39.3125 \r\nQ 47.65625 37.796875 51.625 33 \r\nQ 55.609375 28.21875 55.609375 21.1875 \r\nQ 55.609375 10.40625 48.1875 4.484375 \r\nQ 40.765625 -1.421875 27.09375 -1.421875 \r\nQ 22.515625 -1.421875 17.65625 -0.515625 \r\nQ 12.796875 0.390625 7.625 2.203125 \r\nL 7.625 11.71875 \r\nQ 11.71875 9.328125 16.59375 8.109375 \r\nQ 21.484375 6.890625 26.8125 6.890625 \r\nQ 36.078125 6.890625 40.9375 10.546875 \r\nQ 45.796875 14.203125 45.796875 21.1875 \r\nQ 45.796875 27.640625 41.28125 31.265625 \r\nQ 36.765625 34.90625 28.71875 34.90625 \r\nL 20.21875 34.90625 \r\nL 20.21875 43.015625 \r\nL 29.109375 43.015625 \r\nQ 36.375 43.015625 40.234375 45.921875 \r\nQ 44.09375 48.828125 44.09375 54.296875 \r\nQ 44.09375 59.90625 40.109375 62.90625 \r\nQ 36.140625 65.921875 28.71875 65.921875 \r\nQ 24.65625 65.921875 20.015625 65.03125 \r\nQ 15.375 64.15625 9.8125 62.3125 \r\nL 9.8125 71.09375 \r\nQ 15.4375 72.65625 20.34375 73.4375 \r\nQ 25.25 74.21875 29.59375 74.21875 \r\nQ 40.828125 74.21875 47.359375 69.109375 \r\nQ 53.90625 64.015625 53.90625 55.328125 \r\nQ 53.90625 49.265625 50.4375 45.09375 \r\nQ 46.96875 40.921875 40.578125 39.3125 \r\nz\r\n\" id=\"DejaVuSans-51\"/>\r\n       </defs>\r\n       <use xlink:href=\"#DejaVuSans-51\"/>\r\n       <use x=\"63.623047\" xlink:href=\"#DejaVuSans-48\"/>\r\n       <use x=\"127.246094\" xlink:href=\"#DejaVuSans-48\"/>\r\n       <use x=\"190.869141\" xlink:href=\"#DejaVuSans-48\"/>\r\n       <use x=\"254.492188\" xlink:href=\"#DejaVuSans-48\"/>\r\n      </g>\r\n     </g>\r\n    </g>\r\n   </g>\r\n   <g id=\"matplotlib.axis_2\">\r\n    <g id=\"ytick_1\">\r\n     <g id=\"line2d_8\">\r\n      <defs>\r\n       <path d=\"M 0 0 \r\nL -3.5 0 \r\n\" id=\"m042c2331eb\" style=\"stroke:#000000;stroke-width:0.8;\"/>\r\n      </defs>\r\n      <g>\r\n       <use style=\"stroke:#000000;stroke-width:0.8;\" x=\"46.0125\" xlink:href=\"#m042c2331eb\" y=\"215.201322\"/>\r\n      </g>\r\n     </g>\r\n     <g id=\"text_8\">\r\n      <!-- 0 -->\r\n      <g transform=\"translate(32.65 219.000541)scale(0.1 -0.1)\">\r\n       <use xlink:href=\"#DejaVuSans-48\"/>\r\n      </g>\r\n     </g>\r\n    </g>\r\n    <g id=\"ytick_2\">\r\n     <g id=\"line2d_9\">\r\n      <g>\r\n       <use style=\"stroke:#000000;stroke-width:0.8;\" x=\"46.0125\" xlink:href=\"#m042c2331eb\" y=\"184.30144\"/>\r\n      </g>\r\n     </g>\r\n     <g id=\"text_9\">\r\n      <!-- 5000 -->\r\n      <g transform=\"translate(13.5625 188.100658)scale(0.1 -0.1)\">\r\n       <use xlink:href=\"#DejaVuSans-53\"/>\r\n       <use x=\"63.623047\" xlink:href=\"#DejaVuSans-48\"/>\r\n       <use x=\"127.246094\" xlink:href=\"#DejaVuSans-48\"/>\r\n       <use x=\"190.869141\" xlink:href=\"#DejaVuSans-48\"/>\r\n      </g>\r\n     </g>\r\n    </g>\r\n    <g id=\"ytick_3\">\r\n     <g id=\"line2d_10\">\r\n      <g>\r\n       <use style=\"stroke:#000000;stroke-width:0.8;\" x=\"46.0125\" xlink:href=\"#m042c2331eb\" y=\"153.401557\"/>\r\n      </g>\r\n     </g>\r\n     <g id=\"text_10\">\r\n      <!-- 10000 -->\r\n      <g transform=\"translate(7.2 157.200776)scale(0.1 -0.1)\">\r\n       <use xlink:href=\"#DejaVuSans-49\"/>\r\n       <use x=\"63.623047\" xlink:href=\"#DejaVuSans-48\"/>\r\n       <use x=\"127.246094\" xlink:href=\"#DejaVuSans-48\"/>\r\n       <use x=\"190.869141\" xlink:href=\"#DejaVuSans-48\"/>\r\n       <use x=\"254.492188\" xlink:href=\"#DejaVuSans-48\"/>\r\n      </g>\r\n     </g>\r\n    </g>\r\n    <g id=\"ytick_4\">\r\n     <g id=\"line2d_11\">\r\n      <g>\r\n       <use style=\"stroke:#000000;stroke-width:0.8;\" x=\"46.0125\" xlink:href=\"#m042c2331eb\" y=\"122.501675\"/>\r\n      </g>\r\n     </g>\r\n     <g id=\"text_11\">\r\n      <!-- 15000 -->\r\n      <g transform=\"translate(7.2 126.300894)scale(0.1 -0.1)\">\r\n       <use xlink:href=\"#DejaVuSans-49\"/>\r\n       <use x=\"63.623047\" xlink:href=\"#DejaVuSans-53\"/>\r\n       <use x=\"127.246094\" xlink:href=\"#DejaVuSans-48\"/>\r\n       <use x=\"190.869141\" xlink:href=\"#DejaVuSans-48\"/>\r\n       <use x=\"254.492188\" xlink:href=\"#DejaVuSans-48\"/>\r\n      </g>\r\n     </g>\r\n    </g>\r\n    <g id=\"ytick_5\">\r\n     <g id=\"line2d_12\">\r\n      <g>\r\n       <use style=\"stroke:#000000;stroke-width:0.8;\" x=\"46.0125\" xlink:href=\"#m042c2331eb\" y=\"91.601793\"/>\r\n      </g>\r\n     </g>\r\n     <g id=\"text_12\">\r\n      <!-- 20000 -->\r\n      <g transform=\"translate(7.2 95.401011)scale(0.1 -0.1)\">\r\n       <use xlink:href=\"#DejaVuSans-50\"/>\r\n       <use x=\"63.623047\" xlink:href=\"#DejaVuSans-48\"/>\r\n       <use x=\"127.246094\" xlink:href=\"#DejaVuSans-48\"/>\r\n       <use x=\"190.869141\" xlink:href=\"#DejaVuSans-48\"/>\r\n       <use x=\"254.492188\" xlink:href=\"#DejaVuSans-48\"/>\r\n      </g>\r\n     </g>\r\n    </g>\r\n    <g id=\"ytick_6\">\r\n     <g id=\"line2d_13\">\r\n      <g>\r\n       <use style=\"stroke:#000000;stroke-width:0.8;\" x=\"46.0125\" xlink:href=\"#m042c2331eb\" y=\"60.70191\"/>\r\n      </g>\r\n     </g>\r\n     <g id=\"text_13\">\r\n      <!-- 25000 -->\r\n      <g transform=\"translate(7.2 64.501129)scale(0.1 -0.1)\">\r\n       <use xlink:href=\"#DejaVuSans-50\"/>\r\n       <use x=\"63.623047\" xlink:href=\"#DejaVuSans-53\"/>\r\n       <use x=\"127.246094\" xlink:href=\"#DejaVuSans-48\"/>\r\n       <use x=\"190.869141\" xlink:href=\"#DejaVuSans-48\"/>\r\n       <use x=\"254.492188\" xlink:href=\"#DejaVuSans-48\"/>\r\n      </g>\r\n     </g>\r\n    </g>\r\n    <g id=\"ytick_7\">\r\n     <g id=\"line2d_14\">\r\n      <g>\r\n       <use style=\"stroke:#000000;stroke-width:0.8;\" x=\"46.0125\" xlink:href=\"#m042c2331eb\" y=\"29.802028\"/>\r\n      </g>\r\n     </g>\r\n     <g id=\"text_14\">\r\n      <!-- 30000 -->\r\n      <g transform=\"translate(7.2 33.601247)scale(0.1 -0.1)\">\r\n       <use xlink:href=\"#DejaVuSans-51\"/>\r\n       <use x=\"63.623047\" xlink:href=\"#DejaVuSans-48\"/>\r\n       <use x=\"127.246094\" xlink:href=\"#DejaVuSans-48\"/>\r\n       <use x=\"190.869141\" xlink:href=\"#DejaVuSans-48\"/>\r\n       <use x=\"254.492188\" xlink:href=\"#DejaVuSans-48\"/>\r\n      </g>\r\n     </g>\r\n    </g>\r\n   </g>\r\n   <g id=\"line2d_15\">\r\n    <path clip-path=\"url(#pace6aa38fe)\" d=\"M 365.594318 83.672883 \r\nL 363.742455 28.232314 \r\nL 304.379419 18.77695 \r\nL 168.676366 17.083636 \r\nL 73.610906 48.057678 \r\nL 61.230682 139.780889 \r\nL 75.302964 182.385647 \r\nL 145.607975 200.02948 \r\nL 217.050425 214.756364 \r\nL 328.660452 208.001649 \r\nL 365.594318 83.672883 \r\n\" style=\"fill:none;stroke:#1f77b4;stroke-linecap:square;stroke-width:1.5;\"/>\r\n   </g>\r\n   <g id=\"line2d_16\">\r\n    <path clip-path=\"url(#pace6aa38fe)\" d=\"M 365.594318 83.672883 \r\nL 168.676366 17.083636 \r\nL 61.230682 139.780889 \r\nL 217.050425 214.756364 \r\nL 365.594318 83.672883 \r\n\" style=\"fill:none;stroke:#ff0000;stroke-linecap:square;stroke-width:1.5;\"/>\r\n   </g>\r\n   <g id=\"patch_3\">\r\n    <path d=\"M 46.0125 224.64 \r\nL 46.0125 7.2 \r\n\" style=\"fill:none;stroke:#000000;stroke-linecap:square;stroke-linejoin:miter;stroke-width:0.8;\"/>\r\n   </g>\r\n   <g id=\"patch_4\">\r\n    <path d=\"M 380.8125 224.64 \r\nL 380.8125 7.2 \r\n\" style=\"fill:none;stroke:#000000;stroke-linecap:square;stroke-linejoin:miter;stroke-width:0.8;\"/>\r\n   </g>\r\n   <g id=\"patch_5\">\r\n    <path d=\"M 46.0125 224.64 \r\nL 380.8125 224.64 \r\n\" style=\"fill:none;stroke:#000000;stroke-linecap:square;stroke-linejoin:miter;stroke-width:0.8;\"/>\r\n   </g>\r\n   <g id=\"patch_6\">\r\n    <path d=\"M 46.0125 7.2 \r\nL 380.8125 7.2 \r\n\" style=\"fill:none;stroke:#000000;stroke-linecap:square;stroke-linejoin:miter;stroke-width:0.8;\"/>\r\n   </g>\r\n  </g>\r\n </g>\r\n <defs>\r\n  <clipPath id=\"pace6aa38fe\">\r\n   <rect height=\"217.44\" width=\"334.8\" x=\"46.0125\" y=\"7.2\"/>\r\n  </clipPath>\r\n </defs>\r\n</svg>\r\n",
      "image/png": "[encoded data removed]"
     },
     "metadata": {
      "needs_background": "light"
     }
    }
   ],
   "source": [
    "import matplotlib.pyplot as plt\n",
    "\n",
    "#inputSet = [[1,1], [2,2], [3,3], [4,4], [1,4], [3,1], [1,5], [2,4], [3,5]]\n",
    "#outputSet = [[1,1], [3,1], [4,4], [3,5], [1,5]]\n",
    "\n",
    "inputSet = randGeneration(50)\n",
    "outputSet = extendedgrahamscan(inputSet)\n",
    "plt.figure()\n",
    "\n",
    "#first do a scatter plot of the inputSet\n",
    "input_xs, input_ys = zip(*inputSet)\n",
    "plt.scatter(input_xs, input_ys)\n",
    "\n",
    "bound = enclosedCoords(inputSet)\n",
    "bound_xs, bound_ys = zip(*bound)\n",
    "plt.scatter(bound_xs, bound_ys,color = \"red\")\n",
    "\n",
    "#then do a polygon plot of the computed covex hull\n",
    "outputSet.append(outputSet[0]) #first create a 'closed loop' by adding the first point at the end of the list\n",
    "output_xs, output_ys = zip(*outputSet)\n",
    "plt.plot(output_xs, output_ys) \n",
    "\n",
    "bound.append(bound[0])\n",
    "output_xs, output_ys = zip(*bound)\n",
    "plt.plot(output_xs, output_ys,color = \"red\") \n",
    "\n",
    "\n",
    "plt.show() \n"
   ]
  },
  {
   "cell_type": "code",
   "execution_count": null,
   "metadata": {},
   "outputs": [],
   "source": []
  },
  {
   "cell_type": "code",
   "execution_count": null,
   "metadata": {},
   "outputs": [],
   "source": []
  }
 ],
 "metadata": {
  "kernelspec": {
   "display_name": "Python 3",
   "language": "python",
   "name": "python3"
  },
  "language_info": {
   "codemirror_mode": {
    "name": "ipython",
    "version": 3
   },
   "file_extension": ".py",
   "mimetype": "text/x-python",
   "name": "python",
   "nbconvert_exporter": "python",
   "pygments_lexer": "ipython3",
   "version": "3.7.9-final"
  }
 },
 "nbformat": 4,
 "nbformat_minor": 4
}