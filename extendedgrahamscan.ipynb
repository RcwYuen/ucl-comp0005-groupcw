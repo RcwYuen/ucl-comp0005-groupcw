{
 "cells": [
  {
   "cell_type": "markdown",
   "metadata": {},
   "source": [
    "# Extended Graham scan algorithm"
   ]
  },
  {
   "cell_type": "markdown",
   "metadata": {},
   "source": [
    "Use the cell below for all python code needed to realise the extended Graham scan algorithm (including any auxiliary data structures and functions you might need). The `extendedgrahamscan()` function itself should take as input parameter a list of 2D points (`inputSet`), and return the subset of such points that lie on the convex hull (`outputSet`)."
   ]
  },
  {
   "cell_type": "code",
   "execution_count": 5,
   "metadata": {},
   "outputs": [],
   "source": [
    "import math\n",
    "\n",
    "def changerange(theta):\n",
    "    # The paper used the range of radians to be between [0, 2pi), but the math library uses [-pi, pi) \n",
    "    return theta if theta >= 0 else math.tau + theta\n",
    "\n",
    "def ccw(p1, p2, p3):\n",
    "    if p1 == None or p2 == None or p3 == None:\n",
    "        return 0\n",
    "    return (p2[0]-p1[0])*(p3[1]-p1[1])-(p2[1]-p1[1])*(p3[0]-p1[0])\n",
    "\n",
    "def pyth(p1, p2=[0,0]):\n",
    "    # Calculates the distance between two points in the R^2 vector space using Pythagorous' \n",
    "    return sum([(p1[i] - p2[i]) ** 2 for i in range(len(p1))]) ** 0.5\n",
    "\n",
    "def calcP(inputSet):\n",
    "    # Finds the point P \n",
    "    P = inputSet[0]\n",
    "    for point in inputSet:\n",
    "        if point[1] < P[1] or (point[1] == P[1] and point[0] < P[0]):\n",
    "            P = point\n",
    "    return P\n",
    "\n",
    "def polar(coordinates):\n",
    "    return [pyth(coordinates), changerange(math.atan2(coordinates[1], coordinates[0]))]\n",
    "\n",
    "def cartesianList(polarHull, P):\n",
    "    return [cartesian(i, P=P) for i in polarHull]\n",
    "\n",
    "def resetOrigin(P, inputSet):\n",
    "    return [polar([i[0]-P[0], i[1]-P[1]]) for i in inputSet]\n",
    "\n",
    "def cartesian(coordinates, P=[0,0]):\n",
    "    return [round((coordinates[0] * math.cos(coordinates[1])) + P[0]), round((coordinates[0] * math.sin(coordinates[1])) + P[1])]\n",
    "\n",
    "def merge(L,R):\n",
    "    ret_array = []\n",
    "    l_index, r_index = 0, 0\n",
    "    while len(ret_array) < (len(L) + len(R)):\n",
    "        if l_index == len(L):\n",
    "            ret_array += R[r_index::]\n",
    "            break\n",
    "        elif r_index == len(R):\n",
    "            ret_array += L[l_index::]\n",
    "            break\n",
    "        if L[l_index][1] < R[r_index][1]:\n",
    "            ret_array.append(L[l_index])\n",
    "            l_index += 1\n",
    "        elif L[l_index][1] >= R[r_index][1]:\n",
    "            ret_array.append(R[r_index])\n",
    "            r_index += 1\n",
    "    return ret_array\n",
    "\n",
    "def msort(inputSet):\n",
    "    # Sort the set of coordinates using merge sort\n",
    "    return inputSet if len(inputSet) == 1 else merge(msort(inputSet[:len(inputSet)//2:]), msort(inputSet[len(inputSet)//2::]))\n",
    "    \n",
    "def maxr(inputSet, threshold=1e-8):\n",
    "    # This function selects the polar coordinate with same angle as others but has the largest magnitude\n",
    "    # A threshold default argument has been added to prevent floating point arithmetic errors\n",
    "    polar, curtheta = [], -float(\"inf\")\n",
    "    for i in inputSet:\n",
    "        if abs(i[1] - curtheta) < threshold:\n",
    "            polar[-1][0] = max(i[0], polar[-1][0])\n",
    "        else:\n",
    "            polar.append(i)\n",
    "            curtheta = i[1]\n",
    "    return polar\n",
    "\n",
    "def deletenomag(inputSet):\n",
    "    # This function removes the polar coordinates with no magnitude\n",
    "    return [i for i in inputSet if i[0] != 0]\n",
    "\n",
    "def trace(inputSet, P):\n",
    "    stack = [P, inputSet[0]]\n",
    "    for point in inputSet:\n",
    "        while len(stack) > 1 and ccw(stack[-2], stack[-1], point) < 0:\n",
    "            _ = stack.pop()\n",
    "        stack.append(point)\n",
    "    return stack\n",
    " \n",
    "def enclosedCoords(inputSet):\n",
    "    #Remove points within inputSet that are enclosed by the NorthWest, NorthEast, SouthWest, SouthEast points\n",
    "    xmax, xmin = [-float(\"inf\"),0], [float(\"inf\"),0]\n",
    "    ymax, ymin = [0,-float(\"inf\")], [0,float(\"inf\")]\n",
    "    for coord in inputSet:\n",
    "        xmax = coord if max(coord[0],xmax[0]) == coord[0] else xmax\n",
    "        xmin = coord if min(coord[0],xmin[0]) == coord[0] else xmin\n",
    "        ymax = coord if max(coord[1],ymax[1]) == coord[1] else ymax\n",
    "        ymin = coord if min(coord[1],ymin[1]) == coord[1] else ymin\n",
    "    return [xmax,ymax,xmin,ymin]\n",
    "\n",
    "def triangleArea(point1, point2,point3):\n",
    "    #https://ncalculators.com/geometry/triangle-area-by-3-points.htm\n",
    "    return abs(point1[0]*(point2[1]-point3[1]) + point2[0]*(point3[1]-point1[1]) + point3[0]*(point1[1]-point2[1])) /2\n",
    "\n",
    "def notinRegion(point,enclose,area):\n",
    "    total = [triangleArea(enclose[0],enclose[1],point), triangleArea(enclose[1],enclose[2],point), triangleArea(enclose[2],enclose[3],point), triangleArea(enclose[3],enclose[0],point)]\n",
    "    return (sum(total) != area)\n",
    "\n",
    "def wipePoints(inputSet):\n",
    "    points = enclosedCoords(inputSet)\n",
    "    enclosedArea = triangleArea(points[0],points[1],points[2]) + triangleArea(points[2],points[3],points[0])\n",
    "    return [p for p in inputSet if notinRegion(p,points,enclosedArea)] + points\n",
    "\n",
    "def extendedgrahamscan(inputSet):\n",
    "    inputSet = wipePoints(inputSet)\n",
    "    P = calcP(inputSet)\n",
    "    polarSet = cartesianList(maxr(msort(deletenomag(resetOrigin(P, inputSet)))), P)\n",
    "    return trace(polarSet, P)"
   ]
  },
  {
   "cell_type": "markdown",
   "metadata": {},
   "source": [
    "Use the cell below for all python code needed to generate test data points (both random and those representing worst-case scenario)."
   ]
  },
  {
   "cell_type": "code",
   "execution_count": 6,
   "metadata": {},
   "outputs": [],
   "source": [
    "import random\n",
    "\n",
    "def alternate(inputSet):\n",
    "    retArray = [[],[]]\n",
    "    if len(inputSet) == 2:\n",
    "        retArray[0] = [inputSet[0]]\n",
    "        retArray[1] = [inputSet[1]]\n",
    "    else:\n",
    "        i = 0\n",
    "        while i*2< len(inputSet):\n",
    "            retArray[0].append(inputSet[i * 2])\n",
    "            if (i * 2 + 1 < len(inputSet)):\n",
    "                retArray[1].append(inputSet[i*2 + 1])\n",
    "            i += 1\n",
    "    return retArray\n",
    "\n",
    "def genWorstDataSet(inputSet):\n",
    "    if len(inputSet) == 1:\n",
    "        return inputSet\n",
    "    splitArray = alternate(inputSet)\n",
    "    left = genWorstDataSet(splitArray[0])\n",
    "    right = genWorstDataSet(splitArray[1])\n",
    "    return (left + right)\n",
    "\n",
    "def sortsecondIndex(arr):\n",
    "    secondElement = [f[1] for f in arr]\n",
    "    return sorted(range(len(arr)),key = lambda k : secondElement[k])\n",
    "\n",
    "def changetoIndex(arr,indexArr):\n",
    "    retArr = [None for i in range (len(arr))]\n",
    "    x = 0\n",
    "    for count,index in enumerate(indexArr):\n",
    "        retArr[count] = arr[index]\n",
    "    return retArr\n",
    "\n",
    "\n",
    "#code for random data generation\n",
    "def randGeneration(n, lb=0, ub=32767):\n",
    "    return [[random.randint(lb, ub), random.randint(lb, ub)] for i in range(n)]\n",
    "\n",
    "#code for worst case data generation\n",
    "def randWorstGeneration(n):\n",
    "    dataset = randGeneration(n)\n",
    "    P = calcP(dataset)\n",
    "    sortedIndex = sortsecondIndex(resetOrigin(P, dataset))\n",
    "    sortedArray = changetoIndex(dataset,sortedIndex)\n",
    "    return genWorstDataSet(sortedArray)\n"
   ]
  },
  {
   "cell_type": "markdown",
   "metadata": {},
   "source": [
    "Use the cell below for all python code needed to test the `extendedgrahamscan()` function on the data generated above."
   ]
  },
  {
   "cell_type": "code",
   "execution_count": 79,
   "metadata": {},
   "outputs": [],
   "source": [
    "import timeit\n",
    "\n",
    "#test code\n",
    "def test(n, worstCase=False, repeats=1):\n",
    "    timetaken = [0 for i in range(len(n))]\n",
    "    for j in range(repeats):\n",
    "        for i in n:\n",
    "            data = randWorstGeneration(int(i)) if worstCase else randGeneration(int(i))\n",
    "            start_time = timeit.default_timer()\n",
    "            _ = extendedgrahamscan(data)\n",
    "            timetaken[n.index(i)] += timeit.default_timer() - start_time\n",
    "    return [i/repeats for i in timetaken]\n",
    "\n",
    "n = [1e2, 5e2, 1e3, 5e3, 1e4, 1.5e4, 2e4]\n",
    "r_timetaken, w_timetaken = test(n, repeats=5), test(n, worstCase = True,repeats=5)"
   ]
  },
  {
   "cell_type": "code",
   "execution_count": 3,
   "metadata": {},
   "outputs": [
    {
     "output_type": "error",
     "ename": "NameError",
     "evalue": "name 'r_timetaken' is not defined",
     "traceback": [
      "\u001b[1;31m---------------------------------------------------------------------------\u001b[0m",
      "\u001b[1;31mNameError\u001b[0m                                 Traceback (most recent call last)",
      "\u001b[1;32m<ipython-input-3-448983419125>\u001b[0m in \u001b[0;36m<module>\u001b[1;34m\u001b[0m\n\u001b[0;32m      1\u001b[0m \u001b[1;32mimport\u001b[0m \u001b[0mmatplotlib\u001b[0m\u001b[1;33m.\u001b[0m\u001b[0mpyplot\u001b[0m \u001b[1;32mas\u001b[0m \u001b[0mplt\u001b[0m\u001b[1;33m\u001b[0m\u001b[1;33m\u001b[0m\u001b[0m\n\u001b[1;32m----> 2\u001b[1;33m \u001b[0mprint\u001b[0m \u001b[1;33m(\u001b[0m\u001b[0mr_timetaken\u001b[0m\u001b[1;33m)\u001b[0m\u001b[1;33m\u001b[0m\u001b[1;33m\u001b[0m\u001b[0m\n\u001b[0m\u001b[0;32m      3\u001b[0m \u001b[0mplt\u001b[0m\u001b[1;33m.\u001b[0m\u001b[0mplot\u001b[0m\u001b[1;33m(\u001b[0m\u001b[0mn\u001b[0m\u001b[1;33m,\u001b[0m \u001b[0mr_timetaken\u001b[0m\u001b[1;33m,\u001b[0m\u001b[0mcolor\u001b[0m \u001b[1;33m=\u001b[0m \u001b[1;34m'green'\u001b[0m\u001b[1;33m)\u001b[0m\u001b[1;33m\u001b[0m\u001b[1;33m\u001b[0m\u001b[0m\n\u001b[0;32m      4\u001b[0m \u001b[0mplt\u001b[0m\u001b[1;33m.\u001b[0m\u001b[0mplot\u001b[0m\u001b[1;33m(\u001b[0m\u001b[0mn\u001b[0m\u001b[1;33m,\u001b[0m\u001b[0mw_timetaken\u001b[0m\u001b[1;33m,\u001b[0m\u001b[0mcolor\u001b[0m \u001b[1;33m=\u001b[0m \u001b[1;34m'blue'\u001b[0m\u001b[1;33m)\u001b[0m\u001b[1;33m\u001b[0m\u001b[1;33m\u001b[0m\u001b[0m\n\u001b[0;32m      5\u001b[0m \u001b[0mplt\u001b[0m\u001b[1;33m.\u001b[0m\u001b[0mshow\u001b[0m\u001b[1;33m(\u001b[0m\u001b[1;33m)\u001b[0m\u001b[1;33m\u001b[0m\u001b[1;33m\u001b[0m\u001b[0m\n",
      "\u001b[1;31mNameError\u001b[0m: name 'r_timetaken' is not defined"
     ]
    }
   ],
   "source": [
    "import matplotlib.pyplot as plt\n",
    "print (r_timetaken)\n",
    "plt.plot(n, r_timetaken,color = 'green')\n",
    "plt.plot(n,w_timetaken,color = 'blue')\n",
    "plt.show()"
   ]
  },
  {
   "cell_type": "markdown",
   "metadata": {},
   "source": [
    "*Optional*: Feel free to use the code below on small datasets (e.g., N = 10) to visually inspect whether the algorithm has been implemented correctly. The fragment below assumes both `inputSet` and `outputSet` to be lists of 2D points, with each point being a list of 2 elements (e.g., `[[x1,y1], [x2,y2], ..., [x_k,y_k]]`)"
   ]
  },
  {
   "cell_type": "code",
   "execution_count": 8,
   "metadata": {},
   "outputs": [
    {
     "output_type": "display_data",
     "data": {
      "text/plain": "<Figure size 432x288 with 1 Axes>",
      "image/svg+xml": "<?xml version=\"1.0\" encoding=\"utf-8\" standalone=\"no\"?>\r\n<!DOCTYPE svg PUBLIC \"-//W3C//DTD SVG 1.1//EN\"\r\n  \"http://www.w3.org/Graphics/SVG/1.1/DTD/svg11.dtd\">\r\n<!-- Created with matplotlib (https://matplotlib.org/) -->\r\n<svg height=\"248.518125pt\" version=\"1.1\" viewBox=\"0 0 388.0125 248.518125\" width=\"388.0125pt\" xmlns=\"http://www.w3.org/2000/svg\" xmlns:xlink=\"http://www.w3.org/1999/xlink\">\r\n <metadata>\r\n  <rdf:RDF xmlns:cc=\"http://creativecommons.org/ns#\" xmlns:dc=\"http://purl.org/dc/elements/1.1/\" xmlns:rdf=\"http://www.w3.org/1999/02/22-rdf-syntax-ns#\">\r\n   <cc:Work>\r\n    <dc:type rdf:resource=\"http://purl.org/dc/dcmitype/StillImage\"/>\r\n    <dc:date>2021-03-01T23:43:24.607020</dc:date>\r\n    <dc:format>image/svg+xml</dc:format>\r\n    <dc:creator>\r\n     <cc:Agent>\r\n      <dc:title>Matplotlib v3.3.4, https://matplotlib.org/</dc:title>\r\n     </cc:Agent>\r\n    </dc:creator>\r\n   </cc:Work>\r\n  </rdf:RDF>\r\n </metadata>\r\n <defs>\r\n  <style type=\"text/css\">*{stroke-linecap:butt;stroke-linejoin:round;}</style>\r\n </defs>\r\n <g id=\"figure_1\">\r\n  <g id=\"patch_1\">\r\n   <path d=\"M 0 248.518125 \r\nL 388.0125 248.518125 \r\nL 388.0125 0 \r\nL 0 0 \r\nz\r\n\" style=\"fill:none;\"/>\r\n  </g>\r\n  <g id=\"axes_1\">\r\n   <g id=\"patch_2\">\r\n    <path d=\"M 46.0125 224.64 \r\nL 380.8125 224.64 \r\nL 380.8125 7.2 \r\nL 46.0125 7.2 \r\nz\r\n\" style=\"fill:#ffffff;\"/>\r\n   </g>\r\n   <g id=\"PathCollection_1\">\r\n    <defs>\r\n     <path d=\"M 0 3 \r\nC 0.795609 3 1.55874 2.683901 2.12132 2.12132 \r\nC 2.683901 1.55874 3 0.795609 3 0 \r\nC 3 -0.795609 2.683901 -1.55874 2.12132 -2.12132 \r\nC 1.55874 -2.683901 0.795609 -3 0 -3 \r\nC -0.795609 -3 -1.55874 -2.683901 -2.12132 -2.12132 \r\nC -2.683901 -1.55874 -3 -0.795609 -3 0 \r\nC -3 0.795609 -2.683901 1.55874 -2.12132 2.12132 \r\nC -1.55874 2.683901 -0.795609 3 0 3 \r\nz\r\n\" id=\"m8d61020a6d\" style=\"stroke:#1f77b4;\"/>\r\n    </defs>\r\n    <g clip-path=\"url(#pb4ab160f11)\">\r\n     <use style=\"fill:#1f77b4;stroke:#1f77b4;\" x=\"323.630782\" xlink:href=\"#m8d61020a6d\" y=\"133.463063\"/>\r\n     <use style=\"fill:#1f77b4;stroke:#1f77b4;\" x=\"71.081589\" xlink:href=\"#m8d61020a6d\" y=\"95.613905\"/>\r\n     <use style=\"fill:#1f77b4;stroke:#1f77b4;\" x=\"360.171105\" xlink:href=\"#m8d61020a6d\" y=\"205.533725\"/>\r\n     <use style=\"fill:#1f77b4;stroke:#1f77b4;\" x=\"323.023988\" xlink:href=\"#m8d61020a6d\" y=\"167.903855\"/>\r\n     <use style=\"fill:#1f77b4;stroke:#1f77b4;\" x=\"170.311226\" xlink:href=\"#m8d61020a6d\" y=\"198.879892\"/>\r\n     <use style=\"fill:#1f77b4;stroke:#1f77b4;\" x=\"228.952093\" xlink:href=\"#m8d61020a6d\" y=\"66.49242\"/>\r\n     <use style=\"fill:#1f77b4;stroke:#1f77b4;\" x=\"65.78163\" xlink:href=\"#m8d61020a6d\" y=\"155.824203\"/>\r\n     <use style=\"fill:#1f77b4;stroke:#1f77b4;\" x=\"194.706206\" xlink:href=\"#m8d61020a6d\" y=\"100.789108\"/>\r\n     <use style=\"fill:#1f77b4;stroke:#1f77b4;\" x=\"110.741208\" xlink:href=\"#m8d61020a6d\" y=\"32.258386\"/>\r\n     <use style=\"fill:#1f77b4;stroke:#1f77b4;\" x=\"360.237473\" xlink:href=\"#m8d61020a6d\" y=\"33.191927\"/>\r\n     <use style=\"fill:#1f77b4;stroke:#1f77b4;\" x=\"176.360195\" xlink:href=\"#m8d61020a6d\" y=\"176.180421\"/>\r\n     <use style=\"fill:#1f77b4;stroke:#1f77b4;\" x=\"117.823621\" xlink:href=\"#m8d61020a6d\" y=\"111.734726\"/>\r\n     <use style=\"fill:#1f77b4;stroke:#1f77b4;\" x=\"284.388333\" xlink:href=\"#m8d61020a6d\" y=\"182.157593\"/>\r\n     <use style=\"fill:#1f77b4;stroke:#1f77b4;\" x=\"83.672546\" xlink:href=\"#m8d61020a6d\" y=\"132.92424\"/>\r\n     <use style=\"fill:#1f77b4;stroke:#1f77b4;\" x=\"365.594318\" xlink:href=\"#m8d61020a6d\" y=\"157.378017\"/>\r\n     <use style=\"fill:#1f77b4;stroke:#1f77b4;\" x=\"264.326235\" xlink:href=\"#m8d61020a6d\" y=\"24.489315\"/>\r\n     <use style=\"fill:#1f77b4;stroke:#1f77b4;\" x=\"103.857898\" xlink:href=\"#m8d61020a6d\" y=\"34.520188\"/>\r\n     <use style=\"fill:#1f77b4;stroke:#1f77b4;\" x=\"196.166302\" xlink:href=\"#m8d61020a6d\" y=\"38.874627\"/>\r\n     <use style=\"fill:#1f77b4;stroke:#1f77b4;\" x=\"151.42479\" xlink:href=\"#m8d61020a6d\" y=\"141.927591\"/>\r\n     <use style=\"fill:#1f77b4;stroke:#1f77b4;\" x=\"325.745076\" xlink:href=\"#m8d61020a6d\" y=\"150.648999\"/>\r\n     <use style=\"fill:#1f77b4;stroke:#1f77b4;\" x=\"160.280177\" xlink:href=\"#m8d61020a6d\" y=\"64.807033\"/>\r\n     <use style=\"fill:#1f77b4;stroke:#1f77b4;\" x=\"249.895936\" xlink:href=\"#m8d61020a6d\" y=\"209.430791\"/>\r\n     <use style=\"fill:#1f77b4;stroke:#1f77b4;\" x=\"65.857479\" xlink:href=\"#m8d61020a6d\" y=\"196.975216\"/>\r\n     <use style=\"fill:#1f77b4;stroke:#1f77b4;\" x=\"219.670054\" xlink:href=\"#m8d61020a6d\" y=\"40.534952\"/>\r\n     <use style=\"fill:#1f77b4;stroke:#1f77b4;\" x=\"61.230682\" xlink:href=\"#m8d61020a6d\" y=\"54.431564\"/>\r\n     <use style=\"fill:#1f77b4;stroke:#1f77b4;\" x=\"282.53951\" xlink:href=\"#m8d61020a6d\" y=\"214.756364\"/>\r\n     <use style=\"fill:#1f77b4;stroke:#1f77b4;\" x=\"170.965425\" xlink:href=\"#m8d61020a6d\" y=\"139.603135\"/>\r\n     <use style=\"fill:#1f77b4;stroke:#1f77b4;\" x=\"257.386039\" xlink:href=\"#m8d61020a6d\" y=\"73.66628\"/>\r\n     <use style=\"fill:#1f77b4;stroke:#1f77b4;\" x=\"249.914899\" xlink:href=\"#m8d61020a6d\" y=\"182.232778\"/>\r\n     <use style=\"fill:#1f77b4;stroke:#1f77b4;\" x=\"172.890097\" xlink:href=\"#m8d61020a6d\" y=\"46.086079\"/>\r\n     <use style=\"fill:#1f77b4;stroke:#1f77b4;\" x=\"258.239342\" xlink:href=\"#m8d61020a6d\" y=\"182.101205\"/>\r\n     <use style=\"fill:#1f77b4;stroke:#1f77b4;\" x=\"80.752354\" xlink:href=\"#m8d61020a6d\" y=\"187.646066\"/>\r\n     <use style=\"fill:#1f77b4;stroke:#1f77b4;\" x=\"62.804551\" xlink:href=\"#m8d61020a6d\" y=\"186.819036\"/>\r\n     <use style=\"fill:#1f77b4;stroke:#1f77b4;\" x=\"215.858635\" xlink:href=\"#m8d61020a6d\" y=\"181.719017\"/>\r\n     <use style=\"fill:#1f77b4;stroke:#1f77b4;\" x=\"342.583585\" xlink:href=\"#m8d61020a6d\" y=\"182.345555\"/>\r\n     <use style=\"fill:#1f77b4;stroke:#1f77b4;\" x=\"89.607741\" xlink:href=\"#m8d61020a6d\" y=\"202.094031\"/>\r\n     <use style=\"fill:#1f77b4;stroke:#1f77b4;\" x=\"132.633166\" xlink:href=\"#m8d61020a6d\" y=\"178.210404\"/>\r\n     <use style=\"fill:#1f77b4;stroke:#1f77b4;\" x=\"301.596606\" xlink:href=\"#m8d61020a6d\" y=\"17.083636\"/>\r\n     <use style=\"fill:#1f77b4;stroke:#1f77b4;\" x=\"341.095046\" xlink:href=\"#m8d61020a6d\" y=\"198.729523\"/>\r\n     <use style=\"fill:#1f77b4;stroke:#1f77b4;\" x=\"186.495536\" xlink:href=\"#m8d61020a6d\" y=\"198.228292\"/>\r\n     <use style=\"fill:#1f77b4;stroke:#1f77b4;\" x=\"303.777269\" xlink:href=\"#m8d61020a6d\" y=\"97.286761\"/>\r\n     <use style=\"fill:#1f77b4;stroke:#1f77b4;\" x=\"351.220906\" xlink:href=\"#m8d61020a6d\" y=\"193.635769\"/>\r\n     <use style=\"fill:#1f77b4;stroke:#1f77b4;\" x=\"276.044927\" xlink:href=\"#m8d61020a6d\" y=\"147.27196\"/>\r\n     <use style=\"fill:#1f77b4;stroke:#1f77b4;\" x=\"153.804557\" xlink:href=\"#m8d61020a6d\" y=\"88.740783\"/>\r\n     <use style=\"fill:#1f77b4;stroke:#1f77b4;\" x=\"179.934586\" xlink:href=\"#m8d61020a6d\" y=\"40.653995\"/>\r\n     <use style=\"fill:#1f77b4;stroke:#1f77b4;\" x=\"260.239863\" xlink:href=\"#m8d61020a6d\" y=\"116.032777\"/>\r\n     <use style=\"fill:#1f77b4;stroke:#1f77b4;\" x=\"273.399689\" xlink:href=\"#m8d61020a6d\" y=\"68.14648\"/>\r\n     <use style=\"fill:#1f77b4;stroke:#1f77b4;\" x=\"219.859677\" xlink:href=\"#m8d61020a6d\" y=\"185.008341\"/>\r\n     <use style=\"fill:#1f77b4;stroke:#1f77b4;\" x=\"202.025648\" xlink:href=\"#m8d61020a6d\" y=\"84.442733\"/>\r\n     <use style=\"fill:#1f77b4;stroke:#1f77b4;\" x=\"109.840499\" xlink:href=\"#m8d61020a6d\" y=\"32.841066\"/>\r\n    </g>\r\n   </g>\r\n   <g id=\"PathCollection_2\">\r\n    <defs>\r\n     <path d=\"M 0 3 \r\nC 0.795609 3 1.55874 2.683901 2.12132 2.12132 \r\nC 2.683901 1.55874 3 0.795609 3 0 \r\nC 3 -0.795609 2.683901 -1.55874 2.12132 -2.12132 \r\nC 1.55874 -2.683901 0.795609 -3 0 -3 \r\nC -0.795609 -3 -1.55874 -2.683901 -2.12132 -2.12132 \r\nC -2.683901 -1.55874 -3 -0.795609 -3 0 \r\nC -3 0.795609 -2.683901 1.55874 -2.12132 2.12132 \r\nC -1.55874 2.683901 -0.795609 3 0 3 \r\nz\r\n\" id=\"m67e8bdace8\" style=\"stroke:#ff0000;\"/>\r\n    </defs>\r\n    <g clip-path=\"url(#pb4ab160f11)\">\r\n     <use style=\"fill:#ff0000;stroke:#ff0000;\" x=\"365.594318\" xlink:href=\"#m67e8bdace8\" y=\"157.378017\"/>\r\n     <use style=\"fill:#ff0000;stroke:#ff0000;\" x=\"301.596606\" xlink:href=\"#m67e8bdace8\" y=\"17.083636\"/>\r\n     <use style=\"fill:#ff0000;stroke:#ff0000;\" x=\"61.230682\" xlink:href=\"#m67e8bdace8\" y=\"54.431564\"/>\r\n     <use style=\"fill:#ff0000;stroke:#ff0000;\" x=\"282.53951\" xlink:href=\"#m67e8bdace8\" y=\"214.756364\"/>\r\n    </g>\r\n   </g>\r\n   <g id=\"matplotlib.axis_1\">\r\n    <g id=\"xtick_1\">\r\n     <g id=\"line2d_1\">\r\n      <defs>\r\n       <path d=\"M 0 0 \r\nL 0 3.5 \r\n\" id=\"mc5e1359fa2\" style=\"stroke:#000000;stroke-width:0.8;\"/>\r\n      </defs>\r\n      <g>\r\n       <use style=\"stroke:#000000;stroke-width:0.8;\" x=\"56.139308\" xlink:href=\"#mc5e1359fa2\" y=\"224.64\"/>\r\n      </g>\r\n     </g>\r\n     <g id=\"text_1\">\r\n      <!-- 0 -->\r\n      <g transform=\"translate(52.958058 239.238437)scale(0.1 -0.1)\">\r\n       <defs>\r\n        <path d=\"M 31.78125 66.40625 \r\nQ 24.171875 66.40625 20.328125 58.90625 \r\nQ 16.5 51.421875 16.5 36.375 \r\nQ 16.5 21.390625 20.328125 13.890625 \r\nQ 24.171875 6.390625 31.78125 6.390625 \r\nQ 39.453125 6.390625 43.28125 13.890625 \r\nQ 47.125 21.390625 47.125 36.375 \r\nQ 47.125 51.421875 43.28125 58.90625 \r\nQ 39.453125 66.40625 31.78125 66.40625 \r\nz\r\nM 31.78125 74.21875 \r\nQ 44.046875 74.21875 50.515625 64.515625 \r\nQ 56.984375 54.828125 56.984375 36.375 \r\nQ 56.984375 17.96875 50.515625 8.265625 \r\nQ 44.046875 -1.421875 31.78125 -1.421875 \r\nQ 19.53125 -1.421875 13.0625 8.265625 \r\nQ 6.59375 17.96875 6.59375 36.375 \r\nQ 6.59375 54.828125 13.0625 64.515625 \r\nQ 19.53125 74.21875 31.78125 74.21875 \r\nz\r\n\" id=\"DejaVuSans-48\"/>\r\n       </defs>\r\n       <use xlink:href=\"#DejaVuSans-48\"/>\r\n      </g>\r\n     </g>\r\n    </g>\r\n    <g id=\"xtick_2\">\r\n     <g id=\"line2d_2\">\r\n      <g>\r\n       <use style=\"stroke:#000000;stroke-width:0.8;\" x=\"103.545021\" xlink:href=\"#mc5e1359fa2\" y=\"224.64\"/>\r\n      </g>\r\n     </g>\r\n     <g id=\"text_2\">\r\n      <!-- 5000 -->\r\n      <g transform=\"translate(90.820021 239.238437)scale(0.1 -0.1)\">\r\n       <defs>\r\n        <path d=\"M 10.796875 72.90625 \r\nL 49.515625 72.90625 \r\nL 49.515625 64.59375 \r\nL 19.828125 64.59375 \r\nL 19.828125 46.734375 \r\nQ 21.96875 47.46875 24.109375 47.828125 \r\nQ 26.265625 48.1875 28.421875 48.1875 \r\nQ 40.625 48.1875 47.75 41.5 \r\nQ 54.890625 34.8125 54.890625 23.390625 \r\nQ 54.890625 11.625 47.5625 5.09375 \r\nQ 40.234375 -1.421875 26.90625 -1.421875 \r\nQ 22.3125 -1.421875 17.546875 -0.640625 \r\nQ 12.796875 0.140625 7.71875 1.703125 \r\nL 7.71875 11.625 \r\nQ 12.109375 9.234375 16.796875 8.0625 \r\nQ 21.484375 6.890625 26.703125 6.890625 \r\nQ 35.15625 6.890625 40.078125 11.328125 \r\nQ 45.015625 15.765625 45.015625 23.390625 \r\nQ 45.015625 31 40.078125 35.4375 \r\nQ 35.15625 39.890625 26.703125 39.890625 \r\nQ 22.75 39.890625 18.8125 39.015625 \r\nQ 14.890625 38.140625 10.796875 36.28125 \r\nz\r\n\" id=\"DejaVuSans-53\"/>\r\n       </defs>\r\n       <use xlink:href=\"#DejaVuSans-53\"/>\r\n       <use x=\"63.623047\" xlink:href=\"#DejaVuSans-48\"/>\r\n       <use x=\"127.246094\" xlink:href=\"#DejaVuSans-48\"/>\r\n       <use x=\"190.869141\" xlink:href=\"#DejaVuSans-48\"/>\r\n      </g>\r\n     </g>\r\n    </g>\r\n    <g id=\"xtick_3\">\r\n     <g id=\"line2d_3\">\r\n      <g>\r\n       <use style=\"stroke:#000000;stroke-width:0.8;\" x=\"150.950733\" xlink:href=\"#mc5e1359fa2\" y=\"224.64\"/>\r\n      </g>\r\n     </g>\r\n     <g id=\"text_3\">\r\n      <!-- 10000 -->\r\n      <g transform=\"translate(135.044483 239.238437)scale(0.1 -0.1)\">\r\n       <defs>\r\n        <path d=\"M 12.40625 8.296875 \r\nL 28.515625 8.296875 \r\nL 28.515625 63.921875 \r\nL 10.984375 60.40625 \r\nL 10.984375 69.390625 \r\nL 28.421875 72.90625 \r\nL 38.28125 72.90625 \r\nL 38.28125 8.296875 \r\nL 54.390625 8.296875 \r\nL 54.390625 0 \r\nL 12.40625 0 \r\nz\r\n\" id=\"DejaVuSans-49\"/>\r\n       </defs>\r\n       <use xlink:href=\"#DejaVuSans-49\"/>\r\n       <use x=\"63.623047\" xlink:href=\"#DejaVuSans-48\"/>\r\n       <use x=\"127.246094\" xlink:href=\"#DejaVuSans-48\"/>\r\n       <use x=\"190.869141\" xlink:href=\"#DejaVuSans-48\"/>\r\n       <use x=\"254.492188\" xlink:href=\"#DejaVuSans-48\"/>\r\n      </g>\r\n     </g>\r\n    </g>\r\n    <g id=\"xtick_4\">\r\n     <g id=\"line2d_4\">\r\n      <g>\r\n       <use style=\"stroke:#000000;stroke-width:0.8;\" x=\"198.356446\" xlink:href=\"#mc5e1359fa2\" y=\"224.64\"/>\r\n      </g>\r\n     </g>\r\n     <g id=\"text_4\">\r\n      <!-- 15000 -->\r\n      <g transform=\"translate(182.450196 239.238437)scale(0.1 -0.1)\">\r\n       <use xlink:href=\"#DejaVuSans-49\"/>\r\n       <use x=\"63.623047\" xlink:href=\"#DejaVuSans-53\"/>\r\n       <use x=\"127.246094\" xlink:href=\"#DejaVuSans-48\"/>\r\n       <use x=\"190.869141\" xlink:href=\"#DejaVuSans-48\"/>\r\n       <use x=\"254.492188\" xlink:href=\"#DejaVuSans-48\"/>\r\n      </g>\r\n     </g>\r\n    </g>\r\n    <g id=\"xtick_5\">\r\n     <g id=\"line2d_5\">\r\n      <g>\r\n       <use style=\"stroke:#000000;stroke-width:0.8;\" x=\"245.762158\" xlink:href=\"#mc5e1359fa2\" y=\"224.64\"/>\r\n      </g>\r\n     </g>\r\n     <g id=\"text_5\">\r\n      <!-- 20000 -->\r\n      <g transform=\"translate(229.855908 239.238437)scale(0.1 -0.1)\">\r\n       <defs>\r\n        <path d=\"M 19.1875 8.296875 \r\nL 53.609375 8.296875 \r\nL 53.609375 0 \r\nL 7.328125 0 \r\nL 7.328125 8.296875 \r\nQ 12.9375 14.109375 22.625 23.890625 \r\nQ 32.328125 33.6875 34.8125 36.53125 \r\nQ 39.546875 41.84375 41.421875 45.53125 \r\nQ 43.3125 49.21875 43.3125 52.78125 \r\nQ 43.3125 58.59375 39.234375 62.25 \r\nQ 35.15625 65.921875 28.609375 65.921875 \r\nQ 23.96875 65.921875 18.8125 64.3125 \r\nQ 13.671875 62.703125 7.8125 59.421875 \r\nL 7.8125 69.390625 \r\nQ 13.765625 71.78125 18.9375 73 \r\nQ 24.125 74.21875 28.421875 74.21875 \r\nQ 39.75 74.21875 46.484375 68.546875 \r\nQ 53.21875 62.890625 53.21875 53.421875 \r\nQ 53.21875 48.921875 51.53125 44.890625 \r\nQ 49.859375 40.875 45.40625 35.40625 \r\nQ 44.1875 33.984375 37.640625 27.21875 \r\nQ 31.109375 20.453125 19.1875 8.296875 \r\nz\r\n\" id=\"DejaVuSans-50\"/>\r\n       </defs>\r\n       <use xlink:href=\"#DejaVuSans-50\"/>\r\n       <use x=\"63.623047\" xlink:href=\"#DejaVuSans-48\"/>\r\n       <use x=\"127.246094\" xlink:href=\"#DejaVuSans-48\"/>\r\n       <use x=\"190.869141\" xlink:href=\"#DejaVuSans-48\"/>\r\n       <use x=\"254.492188\" xlink:href=\"#DejaVuSans-48\"/>\r\n      </g>\r\n     </g>\r\n    </g>\r\n    <g id=\"xtick_6\">\r\n     <g id=\"line2d_6\">\r\n      <g>\r\n       <use style=\"stroke:#000000;stroke-width:0.8;\" x=\"293.167871\" xlink:href=\"#mc5e1359fa2\" y=\"224.64\"/>\r\n      </g>\r\n     </g>\r\n     <g id=\"text_6\">\r\n      <!-- 25000 -->\r\n      <g transform=\"translate(277.261621 239.238437)scale(0.1 -0.1)\">\r\n       <use xlink:href=\"#DejaVuSans-50\"/>\r\n       <use x=\"63.623047\" xlink:href=\"#DejaVuSans-53\"/>\r\n       <use x=\"127.246094\" xlink:href=\"#DejaVuSans-48\"/>\r\n       <use x=\"190.869141\" xlink:href=\"#DejaVuSans-48\"/>\r\n       <use x=\"254.492188\" xlink:href=\"#DejaVuSans-48\"/>\r\n      </g>\r\n     </g>\r\n    </g>\r\n    <g id=\"xtick_7\">\r\n     <g id=\"line2d_7\">\r\n      <g>\r\n       <use style=\"stroke:#000000;stroke-width:0.8;\" x=\"340.573583\" xlink:href=\"#mc5e1359fa2\" y=\"224.64\"/>\r\n      </g>\r\n     </g>\r\n     <g id=\"text_7\">\r\n      <!-- 30000 -->\r\n      <g transform=\"translate(324.667333 239.238437)scale(0.1 -0.1)\">\r\n       <defs>\r\n        <path d=\"M 40.578125 39.3125 \r\nQ 47.65625 37.796875 51.625 33 \r\nQ 55.609375 28.21875 55.609375 21.1875 \r\nQ 55.609375 10.40625 48.1875 4.484375 \r\nQ 40.765625 -1.421875 27.09375 -1.421875 \r\nQ 22.515625 -1.421875 17.65625 -0.515625 \r\nQ 12.796875 0.390625 7.625 2.203125 \r\nL 7.625 11.71875 \r\nQ 11.71875 9.328125 16.59375 8.109375 \r\nQ 21.484375 6.890625 26.8125 6.890625 \r\nQ 36.078125 6.890625 40.9375 10.546875 \r\nQ 45.796875 14.203125 45.796875 21.1875 \r\nQ 45.796875 27.640625 41.28125 31.265625 \r\nQ 36.765625 34.90625 28.71875 34.90625 \r\nL 20.21875 34.90625 \r\nL 20.21875 43.015625 \r\nL 29.109375 43.015625 \r\nQ 36.375 43.015625 40.234375 45.921875 \r\nQ 44.09375 48.828125 44.09375 54.296875 \r\nQ 44.09375 59.90625 40.109375 62.90625 \r\nQ 36.140625 65.921875 28.71875 65.921875 \r\nQ 24.65625 65.921875 20.015625 65.03125 \r\nQ 15.375 64.15625 9.8125 62.3125 \r\nL 9.8125 71.09375 \r\nQ 15.4375 72.65625 20.34375 73.4375 \r\nQ 25.25 74.21875 29.59375 74.21875 \r\nQ 40.828125 74.21875 47.359375 69.109375 \r\nQ 53.90625 64.015625 53.90625 55.328125 \r\nQ 53.90625 49.265625 50.4375 45.09375 \r\nQ 46.96875 40.921875 40.578125 39.3125 \r\nz\r\n\" id=\"DejaVuSans-51\"/>\r\n       </defs>\r\n       <use xlink:href=\"#DejaVuSans-51\"/>\r\n       <use x=\"63.623047\" xlink:href=\"#DejaVuSans-48\"/>\r\n       <use x=\"127.246094\" xlink:href=\"#DejaVuSans-48\"/>\r\n       <use x=\"190.869141\" xlink:href=\"#DejaVuSans-48\"/>\r\n       <use x=\"254.492188\" xlink:href=\"#DejaVuSans-48\"/>\r\n      </g>\r\n     </g>\r\n    </g>\r\n   </g>\r\n   <g id=\"matplotlib.axis_2\">\r\n    <g id=\"ytick_1\">\r\n     <g id=\"line2d_8\">\r\n      <defs>\r\n       <path d=\"M 0 0 \r\nL -3.5 0 \r\n\" id=\"m966acbd5aa\" style=\"stroke:#000000;stroke-width:0.8;\"/>\r\n      </defs>\r\n      <g>\r\n       <use style=\"stroke:#000000;stroke-width:0.8;\" x=\"46.0125\" xlink:href=\"#m966acbd5aa\" y=\"219.142129\"/>\r\n      </g>\r\n     </g>\r\n     <g id=\"text_8\">\r\n      <!-- 0 -->\r\n      <g transform=\"translate(32.65 222.941348)scale(0.1 -0.1)\">\r\n       <use xlink:href=\"#DejaVuSans-48\"/>\r\n      </g>\r\n     </g>\r\n    </g>\r\n    <g id=\"ytick_2\">\r\n     <g id=\"line2d_9\">\r\n      <g>\r\n       <use style=\"stroke:#000000;stroke-width:0.8;\" x=\"46.0125\" xlink:href=\"#m966acbd5aa\" y=\"187.815231\"/>\r\n      </g>\r\n     </g>\r\n     <g id=\"text_9\">\r\n      <!-- 5000 -->\r\n      <g transform=\"translate(13.5625 191.61445)scale(0.1 -0.1)\">\r\n       <use xlink:href=\"#DejaVuSans-53\"/>\r\n       <use x=\"63.623047\" xlink:href=\"#DejaVuSans-48\"/>\r\n       <use x=\"127.246094\" xlink:href=\"#DejaVuSans-48\"/>\r\n       <use x=\"190.869141\" xlink:href=\"#DejaVuSans-48\"/>\r\n      </g>\r\n     </g>\r\n    </g>\r\n    <g id=\"ytick_3\">\r\n     <g id=\"line2d_10\">\r\n      <g>\r\n       <use style=\"stroke:#000000;stroke-width:0.8;\" x=\"46.0125\" xlink:href=\"#m966acbd5aa\" y=\"156.488333\"/>\r\n      </g>\r\n     </g>\r\n     <g id=\"text_10\">\r\n      <!-- 10000 -->\r\n      <g transform=\"translate(7.2 160.287552)scale(0.1 -0.1)\">\r\n       <use xlink:href=\"#DejaVuSans-49\"/>\r\n       <use x=\"63.623047\" xlink:href=\"#DejaVuSans-48\"/>\r\n       <use x=\"127.246094\" xlink:href=\"#DejaVuSans-48\"/>\r\n       <use x=\"190.869141\" xlink:href=\"#DejaVuSans-48\"/>\r\n       <use x=\"254.492188\" xlink:href=\"#DejaVuSans-48\"/>\r\n      </g>\r\n     </g>\r\n    </g>\r\n    <g id=\"ytick_4\">\r\n     <g id=\"line2d_11\">\r\n      <g>\r\n       <use style=\"stroke:#000000;stroke-width:0.8;\" x=\"46.0125\" xlink:href=\"#m966acbd5aa\" y=\"125.161435\"/>\r\n      </g>\r\n     </g>\r\n     <g id=\"text_11\">\r\n      <!-- 15000 -->\r\n      <g transform=\"translate(7.2 128.960654)scale(0.1 -0.1)\">\r\n       <use xlink:href=\"#DejaVuSans-49\"/>\r\n       <use x=\"63.623047\" xlink:href=\"#DejaVuSans-53\"/>\r\n       <use x=\"127.246094\" xlink:href=\"#DejaVuSans-48\"/>\r\n       <use x=\"190.869141\" xlink:href=\"#DejaVuSans-48\"/>\r\n       <use x=\"254.492188\" xlink:href=\"#DejaVuSans-48\"/>\r\n      </g>\r\n     </g>\r\n    </g>\r\n    <g id=\"ytick_5\">\r\n     <g id=\"line2d_12\">\r\n      <g>\r\n       <use style=\"stroke:#000000;stroke-width:0.8;\" x=\"46.0125\" xlink:href=\"#m966acbd5aa\" y=\"93.834537\"/>\r\n      </g>\r\n     </g>\r\n     <g id=\"text_12\">\r\n      <!-- 20000 -->\r\n      <g transform=\"translate(7.2 97.633756)scale(0.1 -0.1)\">\r\n       <use xlink:href=\"#DejaVuSans-50\"/>\r\n       <use x=\"63.623047\" xlink:href=\"#DejaVuSans-48\"/>\r\n       <use x=\"127.246094\" xlink:href=\"#DejaVuSans-48\"/>\r\n       <use x=\"190.869141\" xlink:href=\"#DejaVuSans-48\"/>\r\n       <use x=\"254.492188\" xlink:href=\"#DejaVuSans-48\"/>\r\n      </g>\r\n     </g>\r\n    </g>\r\n    <g id=\"ytick_6\">\r\n     <g id=\"line2d_13\">\r\n      <g>\r\n       <use style=\"stroke:#000000;stroke-width:0.8;\" x=\"46.0125\" xlink:href=\"#m966acbd5aa\" y=\"62.507639\"/>\r\n      </g>\r\n     </g>\r\n     <g id=\"text_13\">\r\n      <!-- 25000 -->\r\n      <g transform=\"translate(7.2 66.306857)scale(0.1 -0.1)\">\r\n       <use xlink:href=\"#DejaVuSans-50\"/>\r\n       <use x=\"63.623047\" xlink:href=\"#DejaVuSans-53\"/>\r\n       <use x=\"127.246094\" xlink:href=\"#DejaVuSans-48\"/>\r\n       <use x=\"190.869141\" xlink:href=\"#DejaVuSans-48\"/>\r\n       <use x=\"254.492188\" xlink:href=\"#DejaVuSans-48\"/>\r\n      </g>\r\n     </g>\r\n    </g>\r\n    <g id=\"ytick_7\">\r\n     <g id=\"line2d_14\">\r\n      <g>\r\n       <use style=\"stroke:#000000;stroke-width:0.8;\" x=\"46.0125\" xlink:href=\"#m966acbd5aa\" y=\"31.180741\"/>\r\n      </g>\r\n     </g>\r\n     <g id=\"text_14\">\r\n      <!-- 30000 -->\r\n      <g transform=\"translate(7.2 34.979959)scale(0.1 -0.1)\">\r\n       <use xlink:href=\"#DejaVuSans-51\"/>\r\n       <use x=\"63.623047\" xlink:href=\"#DejaVuSans-48\"/>\r\n       <use x=\"127.246094\" xlink:href=\"#DejaVuSans-48\"/>\r\n       <use x=\"190.869141\" xlink:href=\"#DejaVuSans-48\"/>\r\n       <use x=\"254.492188\" xlink:href=\"#DejaVuSans-48\"/>\r\n      </g>\r\n     </g>\r\n    </g>\r\n   </g>\r\n   <g id=\"line2d_15\">\r\n    <path clip-path=\"url(#pb4ab160f11)\" d=\"M 282.53951 214.756364 \r\nL 360.171105 205.533725 \r\nL 360.171105 205.533725 \r\nL 365.594318 157.378017 \r\nL 360.237473 33.191927 \r\nL 301.596606 17.083636 \r\nL 110.741208 32.258386 \r\nL 103.857898 34.520188 \r\nL 61.230682 54.431564 \r\nL 62.804551 186.819036 \r\nL 65.857479 196.975216 \r\nL 89.607741 202.094031 \r\nL 282.53951 214.756364 \r\n\" style=\"fill:none;stroke:#1f77b4;stroke-linecap:square;stroke-width:1.5;\"/>\r\n   </g>\r\n   <g id=\"line2d_16\">\r\n    <path clip-path=\"url(#pb4ab160f11)\" d=\"M 365.594318 157.378017 \r\nL 301.596606 17.083636 \r\nL 61.230682 54.431564 \r\nL 282.53951 214.756364 \r\nL 365.594318 157.378017 \r\n\" style=\"fill:none;stroke:#ff0000;stroke-linecap:square;stroke-width:1.5;\"/>\r\n   </g>\r\n   <g id=\"patch_3\">\r\n    <path d=\"M 46.0125 224.64 \r\nL 46.0125 7.2 \r\n\" style=\"fill:none;stroke:#000000;stroke-linecap:square;stroke-linejoin:miter;stroke-width:0.8;\"/>\r\n   </g>\r\n   <g id=\"patch_4\">\r\n    <path d=\"M 380.8125 224.64 \r\nL 380.8125 7.2 \r\n\" style=\"fill:none;stroke:#000000;stroke-linecap:square;stroke-linejoin:miter;stroke-width:0.8;\"/>\r\n   </g>\r\n   <g id=\"patch_5\">\r\n    <path d=\"M 46.0125 224.64 \r\nL 380.8125 224.64 \r\n\" style=\"fill:none;stroke:#000000;stroke-linecap:square;stroke-linejoin:miter;stroke-width:0.8;\"/>\r\n   </g>\r\n   <g id=\"patch_6\">\r\n    <path d=\"M 46.0125 7.2 \r\nL 380.8125 7.2 \r\n\" style=\"fill:none;stroke:#000000;stroke-linecap:square;stroke-linejoin:miter;stroke-width:0.8;\"/>\r\n   </g>\r\n  </g>\r\n </g>\r\n <defs>\r\n  <clipPath id=\"pb4ab160f11\">\r\n   <rect height=\"217.44\" width=\"334.8\" x=\"46.0125\" y=\"7.2\"/>\r\n  </clipPath>\r\n </defs>\r\n</svg>\r\n",
      "image/png": "[encoded data removed]"
     },
     "metadata": {
      "needs_background": "light"
     }
    }
   ],
   "source": [
    "import matplotlib.pyplot as plt\n",
    "\n",
    "#inputSet = [[1,1], [2,2], [3,3], [4,4], [1,4], [3,1], [1,5], [2,4], [3,5]]\n",
    "#outputSet = [[1,1], [3,1], [4,4], [3,5], [1,5]]\n",
    "\n",
    "inputSet = randGeneration(50)\n",
    "outputSet = extendedgrahamscan(inputSet)\n",
    "plt.figure()\n",
    "\n",
    "#first do a scatter plot of the inputSet\n",
    "input_xs, input_ys = zip(*inputSet)\n",
    "plt.scatter(input_xs, input_ys)\n",
    "\n",
    "bound = enclosedCoords(inputSet)\n",
    "bound_xs, bound_ys = zip(*bound)\n",
    "plt.scatter(bound_xs, bound_ys,color = \"red\")\n",
    "\n",
    "#then do a polygon plot of the computed covex hull\n",
    "outputSet.append(outputSet[0]) #first create a 'closed loop' by adding the first point at the end of the list\n",
    "output_xs, output_ys = zip(*outputSet)\n",
    "plt.plot(output_xs, output_ys) \n",
    "\n",
    "bound.append(bound[0])\n",
    "output_xs, output_ys = zip(*bound)\n",
    "plt.plot(output_xs, output_ys,color = \"red\") \n",
    "\n",
    "\n",
    "plt.show() \n"
   ]
  },
  {
   "cell_type": "code",
   "execution_count": null,
   "metadata": {},
   "outputs": [],
   "source": []
  },
  {
   "cell_type": "code",
   "execution_count": null,
   "metadata": {},
   "outputs": [],
   "source": []
  }
 ],
 "metadata": {
  "kernelspec": {
   "display_name": "Python 3",
   "language": "python",
   "name": "python3"
  },
  "language_info": {
   "codemirror_mode": {
    "name": "ipython",
    "version": 3
   },
   "file_extension": ".py",
   "mimetype": "text/x-python",
   "name": "python",
   "nbconvert_exporter": "python",
   "pygments_lexer": "ipython3",
   "version": "3.7.9-final"
  }
 },
 "nbformat": 4,
 "nbformat_minor": 4
}